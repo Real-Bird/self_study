{
 "cells": [
  {
   "cell_type": "code",
   "execution_count": 1,
   "metadata": {},
   "outputs": [],
   "source": [
    "from selenium import webdriver\n",
    "from selenium.webdriver.common.by import By\n",
    "import time\n",
    "from dateutil.relativedelta import relativedelta\n",
    "from datetime import datetime"
   ]
  },
  {
   "cell_type": "code",
   "execution_count": 2,
   "metadata": {},
   "outputs": [],
   "source": [
    "driver = webdriver.Chrome()\n",
    "url = \"https://voca.youngdok.com/user\"\n",
    "driver.get(url)"
   ]
  },
  {
   "cell_type": "code",
   "execution_count": 3,
   "metadata": {},
   "outputs": [],
   "source": [
    "year, month = map(int, input(\">연도, 월 공백으로 구분\").split())"
   ]
  },
  {
   "cell_type": "code",
   "execution_count": 4,
   "metadata": {},
   "outputs": [],
   "source": [
    "now = datetime.now()\n",
    "next_month = now + relativedelta(months=1)\n",
    "start_point = datetime(year, month, day=1).strftime('%b %Y').upper()\n",
    "end_point = next_month.strftime('%b %Y').upper()"
   ]
  },
  {
   "cell_type": "code",
   "execution_count": 5,
   "metadata": {},
   "outputs": [],
   "source": [
    "while True:\n",
    "    moveBtn = driver.find_element(By.CLASS_NAME, \"btn-prev-month\")\n",
    "    driver.execute_script(\"arguments[0].click();\", moveBtn)\n",
    "    time.sleep(2)\n",
    "    headerEl = driver.find_element(By.XPATH, \"/html/body/app-root/app-user/div/div[2]/div[2]/section/div[1]/div[1]\")\n",
    "    if headerEl.text == start_point:\n",
    "        break\n",
    "    "
   ]
  },
  {
   "cell_type": "code",
   "execution_count": 6,
   "metadata": {},
   "outputs": [
    {
     "name": "stdout",
     "output_type": "stream",
     "text": [
      "0\n"
     ]
    }
   ],
   "source": [
    "count = 0\n",
    "while True:\n",
    "    calEl = driver.find_elements(By.CLASS_NAME, \"ng-star-inserted\")\n",
    "    for i in range(len(calEl)):\n",
    "        if \"check\" in calEl[i].get_attribute(\"class\"):\n",
    "            count += 1\n",
    "    time.sleep(2)\n",
    "    moveBtn = driver.find_element(By.CLASS_NAME, \"btn-next-month\")\n",
    "    driver.execute_script(\"arguments[0].click();\", moveBtn)\n",
    "    time.sleep(2)\n",
    "    headerEl = driver.find_element(By.XPATH, \"/html/body/app-root/app-user/div/div[2]/div[2]/section/div[1]/div[1]\")\n",
    "    if headerEl.text == end_point:\n",
    "        break\n",
    "    time.sleep(2)\n",
    "    \n",
    "print(count // 2)"
   ]
  },
  {
   "cell_type": "code",
   "execution_count": null,
   "metadata": {},
   "outputs": [],
   "source": []
  }
 ],
 "metadata": {
  "interpreter": {
   "hash": "435c7524b81c754d2a38f9b1930a50d7a83318eec9a7b6faab8c4b8cfd59b603"
  },
  "kernelspec": {
   "display_name": "Python 3.8.10 64-bit",
   "language": "python",
   "name": "python3"
  },
  "language_info": {
   "codemirror_mode": {
    "name": "ipython",
    "version": 3
   },
   "file_extension": ".py",
   "mimetype": "text/x-python",
   "name": "python",
   "nbconvert_exporter": "python",
   "pygments_lexer": "ipython3",
   "version": "3.8.10"
  },
  "orig_nbformat": 4
 },
 "nbformat": 4,
 "nbformat_minor": 2
}
