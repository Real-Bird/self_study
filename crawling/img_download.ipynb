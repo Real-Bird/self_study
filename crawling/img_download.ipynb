{
 "cells": [
  {
   "cell_type": "code",
   "execution_count": 1,
   "metadata": {},
   "outputs": [],
   "source": [
    "from selenium import webdriver\n",
    "from selenium.webdriver.common.by import By\n",
    "import time"
   ]
  },
  {
   "cell_type": "code",
   "execution_count": 2,
   "metadata": {},
   "outputs": [],
   "source": [
    "from urllib.request import Request, urlopen"
   ]
  },
  {
   "cell_type": "code",
   "execution_count": 6,
   "metadata": {},
   "outputs": [],
   "source": [
    "import os \n",
    "from selenium.webdriver.common.keys import Keys"
   ]
  },
  {
   "cell_type": "code",
   "execution_count": 5,
   "metadata": {},
   "outputs": [],
   "source": [
    "driver = webdriver.Chrome()\n",
    "url = \"https://pixabay.com/ko\"\n",
    "driver.get(url)"
   ]
  },
  {
   "cell_type": "code",
   "execution_count": 7,
   "metadata": {},
   "outputs": [],
   "source": [
    "q = driver.find_element(by=By.NAME, value=\"q\")\n",
    "q.send_keys(\"여름\")\n",
    "q.send_keys(Keys.RETURN)"
   ]
  },
  {
   "cell_type": "code",
   "execution_count": 8,
   "metadata": {},
   "outputs": [],
   "source": [
    "imgEl = driver.find_elements(By.CSS_SELECTOR, '#app > div:nth-child(2) > div:nth-child(4) > div > div > div[class^=\"result\"] > div > div:nth-child(n) > div > div > div > a > img')"
   ]
  },
  {
   "cell_type": "code",
   "execution_count": 9,
   "metadata": {},
   "outputs": [],
   "source": [
    "img_url = []\n",
    "for img in imgEl:\n",
    "    url = img.get_attribute('src')\n",
    "    img_url.append(url)"
   ]
  },
  {
   "cell_type": "code",
   "execution_count": 10,
   "metadata": {},
   "outputs": [],
   "source": [
    " \n",
    "season = \"summer\"\n",
    "\n",
    "img_folder = './{}'.format(season)\n",
    "if not os.path.isdir(img_folder) : # 없으면 새로 생성하는 조건문 \n",
    "    os.mkdir(img_folder)\n",
    "\n",
    "for index, link in enumerate(img_url):\n",
    "    if index == 16:\n",
    "        break\n",
    "    time.sleep(3)\n",
    "    reqUrl = Request(link, headers={'User-Agent': 'Mozilla/5.0'})\n",
    "    down_img = urlopen(reqUrl).read()\n",
    "\n",
    "    with open(f'./{season}/{index+2}.jpg', mode='wb') as f:\n",
    "        f.write(down_img)\n",
    "        f.close()\n",
    "    time.sleep(3)"
   ]
  },
  {
   "cell_type": "code",
   "execution_count": null,
   "metadata": {},
   "outputs": [],
   "source": []
  }
 ],
 "metadata": {
  "interpreter": {
   "hash": "435c7524b81c754d2a38f9b1930a50d7a83318eec9a7b6faab8c4b8cfd59b603"
  },
  "kernelspec": {
   "display_name": "Python 3.8.10 64-bit",
   "language": "python",
   "name": "python3"
  },
  "language_info": {
   "codemirror_mode": {
    "name": "ipython",
    "version": 3
   },
   "file_extension": ".py",
   "mimetype": "text/x-python",
   "name": "python",
   "nbconvert_exporter": "python",
   "pygments_lexer": "ipython3",
   "version": "3.8.10"
  },
  "orig_nbformat": 4
 },
 "nbformat": 4,
 "nbformat_minor": 2
}
