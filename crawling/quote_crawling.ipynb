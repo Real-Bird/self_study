{
 "cells": [
  {
   "cell_type": "code",
   "execution_count": 50,
   "metadata": {},
   "outputs": [],
   "source": [
    "from selenium import webdriver\n",
    "driver = webdriver.Chrome(\"D:/self_study/crawling/chromedriver.exe\")\n"
   ]
  },
  {
   "cell_type": "code",
   "execution_count": 51,
   "metadata": {},
   "outputs": [],
   "source": [
    "from selenium.webdriver.common.keys import Keys"
   ]
  },
  {
   "cell_type": "code",
   "execution_count": 52,
   "metadata": {},
   "outputs": [],
   "source": [
    "from bs4 import BeautifulSoup as bs"
   ]
  },
  {
   "cell_type": "code",
   "execution_count": 53,
   "metadata": {},
   "outputs": [],
   "source": [
    "url = \"https://www.naver.com\"\n",
    "driver.get(url)"
   ]
  },
  {
   "cell_type": "code",
   "execution_count": 54,
   "metadata": {},
   "outputs": [],
   "source": [
    "elName = driver.find_element_by_name(\"query\")\n",
    "elName.clear()\n",
    "elName.send_keys(\"명언\")"
   ]
  },
  {
   "cell_type": "code",
   "execution_count": 55,
   "metadata": {},
   "outputs": [],
   "source": [
    "elName.send_keys(Keys.RETURN)"
   ]
  },
  {
   "cell_type": "code",
   "execution_count": 56,
   "metadata": {},
   "outputs": [],
   "source": [
    "keywords= [\"사랑\",\"인생\",\"공부\",\"성공\",\"친구\",\"독서\",\"이별\",\"시간\",\"노력\",\"희망\",\"도전\",\"자신감\"]"
   ]
  },
  {
   "cell_type": "code",
   "execution_count": 59,
   "metadata": {},
   "outputs": [],
   "source": [
    "import time\n",
    "import pandas as pd"
   ]
  },
  {
   "cell_type": "code",
   "execution_count": null,
   "metadata": {},
   "outputs": [],
   "source": [
    "temp_author = []\n",
    "temp_quote = []\n",
    "for i in range(len(keywords)):\n",
    "    time.sleep(1)    \n",
    "    quoteTime = driver.find_element_by_link_text(keywords[i])\n",
    "    quoteTime.click()\n",
    "    source = driver.page_source\n",
    "    soup = bs(source, 'html.parser')\n",
    "    quote = soup.find_all(\"p\", {\"class\":\"lngkr\"})\n",
    "    author = soup.find_all(\"dt\")\n",
    "    for j in range(len(quote)):\n",
    "        authorX = author[j].find(\"a\").get_text()\n",
    "        quoteX = quote[j].text\n",
    "        temp_author.append(authorX)\n",
    "        temp_quote.append(quoteX)\n",
    "x = pd.DataFrame(temp_author, columns=[\"주인\"])\n",
    "y = pd.DataFrame(temp_quote, columns=[\"명언\"])\n",
    "quotes_df = pd.concat([x, y], axis=1)\n",
    "time.sleep(1)   \n"
   ]
  },
  {
   "cell_type": "code",
   "execution_count": 226,
   "metadata": {},
   "outputs": [],
   "source": [
    "quotes_df.to_excel(\"quotes.xlsx\", encoding=\"utf-8\", index=False)"
   ]
  },
  {
   "cell_type": "code",
   "execution_count": null,
   "metadata": {},
   "outputs": [],
   "source": []
  }
 ],
 "metadata": {
  "interpreter": {
   "hash": "435c7524b81c754d2a38f9b1930a50d7a83318eec9a7b6faab8c4b8cfd59b603"
  },
  "kernelspec": {
   "display_name": "Python 3.8.10 64-bit",
   "language": "python",
   "name": "python3"
  },
  "language_info": {
   "codemirror_mode": {
    "name": "ipython",
    "version": 3
   },
   "file_extension": ".py",
   "mimetype": "text/x-python",
   "name": "python",
   "nbconvert_exporter": "python",
   "pygments_lexer": "ipython3",
   "version": "3.8.10"
  },
  "orig_nbformat": 4
 },
 "nbformat": 4,
 "nbformat_minor": 2
}
