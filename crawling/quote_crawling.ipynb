{
 "cells": [
  {
   "cell_type": "code",
   "execution_count": 1,
   "metadata": {},
   "outputs": [],
   "source": [
    "from selenium import webdriver\n",
    "from selenium.webdriver.common.keys import Keys\n",
    "from bs4 import BeautifulSoup as bs\n",
    "import time\n",
    "import pandas as pd\n",
    "\n",
    "driver = webdriver.Chrome(\"D:/self_study/crawling/chromedriver.exe\")"
   ]
  },
  {
   "cell_type": "code",
   "execution_count": 2,
   "metadata": {},
   "outputs": [],
   "source": [
    "url = \"https://www.naver.com\"\n",
    "driver.get(url)"
   ]
  },
  {
   "cell_type": "code",
   "execution_count": 3,
   "metadata": {},
   "outputs": [],
   "source": [
    "elName = driver.find_element_by_name(\"query\")\n",
    "elName.clear()\n",
    "elName.send_keys(\"명언\")\n",
    "elName.send_keys(Keys.RETURN)"
   ]
  },
  {
   "cell_type": "code",
   "execution_count": 4,
   "metadata": {},
   "outputs": [],
   "source": [
    "keywords= [\"사랑\",\"인생\",\"공부\",\"성공\",\"친구\",\"독서\",\"이별\",\"시간\",\"노력\",\"희망\",\"도전\",\"자신감\"]"
   ]
  },
  {
   "cell_type": "code",
   "execution_count": 5,
   "metadata": {},
   "outputs": [],
   "source": [
    "source = driver.page_source\n",
    "soup = bs(source, 'html.parser')\n",
    "enquote = soup.find_all(\"p\", {\"class\":\"lngeng\"})[0].text\n",
    "enauthor = soup.find_all(\"dt\")[0].find(\"span\", {\"class\": \"engnm\"}).text\n",
    "\n"
   ]
  },
  {
   "cell_type": "code",
   "execution_count": 6,
   "metadata": {},
   "outputs": [
    {
     "name": "stdout",
     "output_type": "stream",
     "text": [
      "enquote: I am extraordinarily patient, provided I get my own way in the end. \n",
      "enauthor: Margaret Thatcher\n"
     ]
    }
   ],
   "source": [
    "print(\"enquote: {0} \\nenauthor: {1}\".format(enquote,enauthor))"
   ]
  },
  {
   "cell_type": "code",
   "execution_count": 7,
   "metadata": {},
   "outputs": [],
   "source": [
    "kr_author = []\n",
    "kr_quote = []\n",
    "en_author = []\n",
    "en_quote = []\n",
    "for i in range(len(keywords)):\n",
    "    time.sleep(1)    \n",
    "    quoteTime = driver.find_element_by_link_text(keywords[i])\n",
    "    quoteTime.click()\n",
    "    source = driver.page_source\n",
    "    soup = bs(source, 'html.parser')\n",
    "    quote = soup.find_all(\"p\", {\"class\":\"lngkr\"})\n",
    "    enquote = soup.find_all(\"p\", {\"class\":\"lngeng\"})\n",
    "    author = soup.find_all(\"dt\")\n",
    "    for j in range(len(quote)):\n",
    "        authorX = author[j].find(\"a\").get_text()\n",
    "        authorY = author[j].find(\"span\", {\"class\": \"engnm\"}).text\n",
    "        quoteX = quote[j].text\n",
    "        quoteY = enquote[j].text\n",
    "        kr_author.append(authorX)\n",
    "        kr_quote.append(quoteX)\n",
    "        en_author.append(authorY)\n",
    "        en_quote.append(quoteY)"
   ]
  },
  {
   "cell_type": "code",
   "execution_count": 18,
   "metadata": {},
   "outputs": [],
   "source": [
    "x = pd.DataFrame({\"k-name\":kr_author,\"k-quote\":kr_quote})\n",
    "y = pd.DataFrame({\"e-name\":en_author,\"e-quote\":en_quote})\n",
    "quotes_df = pd.concat([x, y], axis=1)"
   ]
  },
  {
   "cell_type": "code",
   "execution_count": 21,
   "metadata": {},
   "outputs": [],
   "source": [
    "quotes_df.to_csv(\"quotes.csv\", encoding=\"utf-8\", index=False)"
   ]
  },
  {
   "cell_type": "code",
   "execution_count": 1,
   "metadata": {},
   "outputs": [],
   "source": [
    "import pandas as pd"
   ]
  },
  {
   "cell_type": "code",
   "execution_count": 2,
   "metadata": {},
   "outputs": [
    {
     "data": {
      "text/html": [
       "<div>\n",
       "<style scoped>\n",
       "    .dataframe tbody tr th:only-of-type {\n",
       "        vertical-align: middle;\n",
       "    }\n",
       "\n",
       "    .dataframe tbody tr th {\n",
       "        vertical-align: top;\n",
       "    }\n",
       "\n",
       "    .dataframe thead th {\n",
       "        text-align: right;\n",
       "    }\n",
       "</style>\n",
       "<table border=\"1\" class=\"dataframe\">\n",
       "  <thead>\n",
       "    <tr style=\"text-align: right;\">\n",
       "      <th></th>\n",
       "      <th>k-name</th>\n",
       "      <th>k-quote</th>\n",
       "      <th>e-name</th>\n",
       "      <th>e-quote</th>\n",
       "    </tr>\n",
       "  </thead>\n",
       "  <tbody>\n",
       "    <tr>\n",
       "      <th>0</th>\n",
       "      <td>엘라 휠러 윌콕스</td>\n",
       "      <td>우정이 바탕이 되지 않는 모든 사랑은 모래 위에 지은 집과 같다.</td>\n",
       "      <td>Ella Wheeler Wilcox</td>\n",
       "      <td>All love that has not friendship for its base,...</td>\n",
       "    </tr>\n",
       "    <tr>\n",
       "      <th>1</th>\n",
       "      <td>아이스 티</td>\n",
       "      <td>열정은 세상을 돌게 한다. 사랑은 세상을 좀 더 안전한 곳으로 만들 뿐이다.</td>\n",
       "      <td>Ice T</td>\n",
       "      <td>Passion makes the world go round. Love just ma...</td>\n",
       "    </tr>\n",
       "    <tr>\n",
       "      <th>2</th>\n",
       "      <td>가브리엘(코코)샤넬</td>\n",
       "      <td>세기의 사랑일지라도 참고 견뎌내야 한다.</td>\n",
       "      <td>Gabriel Coco Chanel</td>\n",
       "      <td>Great loves too must be endured.</td>\n",
       "    </tr>\n",
       "    <tr>\n",
       "      <th>3</th>\n",
       "      <td>오드리 햅번</td>\n",
       "      <td>나는 애정을 받을 엄청난 욕구와 그것을 베풀 엄청난 욕구를 타고났다.</td>\n",
       "      <td>Audrey Hepburn</td>\n",
       "      <td>I was born with an enormous need for affection...</td>\n",
       "    </tr>\n",
       "    <tr>\n",
       "      <th>4</th>\n",
       "      <td>윌리엄 셰익스피어</td>\n",
       "      <td>모두를 사랑하되, 몇 사람만 믿으라. 누구에게도 잘못을 저지르지 말라.</td>\n",
       "      <td>William Shakespeare</td>\n",
       "      <td>Love all, trust a few. Do wrong to none.</td>\n",
       "    </tr>\n",
       "  </tbody>\n",
       "</table>\n",
       "</div>"
      ],
      "text/plain": [
       "       k-name                                       k-quote  \\\n",
       "0   엘라 휠러 윌콕스         우정이 바탕이 되지 않는 모든 사랑은 모래 위에 지은 집과 같다.    \n",
       "1       아이스 티   열정은 세상을 돌게 한다. 사랑은 세상을 좀 더 안전한 곳으로 만들 뿐이다.    \n",
       "2  가브리엘(코코)샤넬                       세기의 사랑일지라도 참고 견뎌내야 한다.    \n",
       "3      오드리 햅번       나는 애정을 받을 엄청난 욕구와 그것을 베풀 엄청난 욕구를 타고났다.    \n",
       "4   윌리엄 셰익스피어      모두를 사랑하되, 몇 사람만 믿으라. 누구에게도 잘못을 저지르지 말라.    \n",
       "\n",
       "                e-name                                            e-quote  \n",
       "0  Ella Wheeler Wilcox  All love that has not friendship for its base,...  \n",
       "1                Ice T  Passion makes the world go round. Love just ma...  \n",
       "2  Gabriel Coco Chanel                   Great loves too must be endured.  \n",
       "3       Audrey Hepburn  I was born with an enormous need for affection...  \n",
       "4  William Shakespeare           Love all, trust a few. Do wrong to none.  "
      ]
     },
     "execution_count": 2,
     "metadata": {},
     "output_type": "execute_result"
    }
   ],
   "source": [
    "load_csv = pd.read_csv(\"D:/Portfolio/save2day/src/asset/quotes.csv\")\n",
    "load_csv.head()"
   ]
  },
  {
   "cell_type": "code",
   "execution_count": 3,
   "metadata": {},
   "outputs": [],
   "source": [
    "import json"
   ]
  },
  {
   "cell_type": "code",
   "execution_count": 11,
   "metadata": {},
   "outputs": [],
   "source": [
    "load_csv.to_json(\"D:/Portfolio/save2day/src/asset/quotes.json\", orient=\"columns\")"
   ]
  },
  {
   "cell_type": "code",
   "execution_count": null,
   "metadata": {},
   "outputs": [],
   "source": []
  }
 ],
 "metadata": {
  "interpreter": {
   "hash": "435c7524b81c754d2a38f9b1930a50d7a83318eec9a7b6faab8c4b8cfd59b603"
  },
  "kernelspec": {
   "display_name": "Python 3.8.10 64-bit",
   "language": "python",
   "name": "python3"
  },
  "language_info": {
   "codemirror_mode": {
    "name": "ipython",
    "version": 3
   },
   "file_extension": ".py",
   "mimetype": "text/x-python",
   "name": "python",
   "nbconvert_exporter": "python",
   "pygments_lexer": "ipython3",
   "version": "3.8.10"
  },
  "orig_nbformat": 4
 },
 "nbformat": 4,
 "nbformat_minor": 2
}
