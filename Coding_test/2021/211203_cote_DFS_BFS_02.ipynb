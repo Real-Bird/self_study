{
 "cells": [
  {
   "cell_type": "markdown",
   "metadata": {},
   "source": [
    "# 괄호 변환"
   ]
  },
  {
   "cell_type": "code",
   "execution_count": 1,
   "metadata": {},
   "outputs": [
    {
     "name": "stdout",
     "output_type": "stream",
     "text": [
      "알 리가 있나\n"
     ]
    }
   ],
   "source": [
    "# 내 풀이\n",
    "\n",
    "print(\"알 리가 있나\")"
   ]
  },
  {
   "cell_type": "code",
   "execution_count": 4,
   "metadata": {},
   "outputs": [
    {
     "name": "stdout",
     "output_type": "stream",
     "text": [
      "(()())()\n",
      "()\n",
      "()(())()\n"
     ]
    }
   ],
   "source": [
    "# 책 풀이\n",
    "\n",
    "def balanced_index(p):\n",
    "    count = 0\n",
    "    for i in range(len(p)):\n",
    "        if p[i] == '(':\n",
    "            count += 1\n",
    "        else:\n",
    "            count -= 1\n",
    "        if count == 0:\n",
    "            return i\n",
    "\n",
    "def check_proper(p):\n",
    "    count = 0\n",
    "    for i in p:\n",
    "        if i == '(':\n",
    "            count += 1\n",
    "        else:\n",
    "            if count == 0:\n",
    "                return False\n",
    "            count -= 1\n",
    "    return True\n",
    "\n",
    "def solution(p):\n",
    "    answer = ''\n",
    "    if p == '':\n",
    "        return answer\n",
    "    index = balanced_index(p)\n",
    "    u = p[:index + 1]\n",
    "    v = p[index + 1:]\n",
    "    if check_proper(u):\n",
    "        answer = u + solution(v)\n",
    "    else:\n",
    "        answer = '('\n",
    "        answer += solution(v)\n",
    "        answer += ')'\n",
    "        u = list(u[1 : -1])\n",
    "        for i in range(len(u)):\n",
    "            if u[i] == '(':\n",
    "                u[i] = ')'\n",
    "            else:\n",
    "                u[i] = '('\n",
    "        answer += \"\".join(u)\n",
    "    return answer\n",
    "\n",
    "print(solution(\"(()())()\"))\n",
    "print(solution(\")(\"))\n",
    "print(solution(\"()))((()\"))"
   ]
  },
  {
   "cell_type": "markdown",
   "metadata": {},
   "source": [
    "# 연산자 끼워 넣기"
   ]
  },
  {
   "cell_type": "code",
   "execution_count": 6,
   "metadata": {},
   "outputs": [
    {
     "name": "stdout",
     "output_type": "stream",
     "text": [
      "모르겠음\n"
     ]
    }
   ],
   "source": [
    "# 내 풀이\n",
    "\n",
    "n = int(input())\n",
    "a = list(map(int, input().split()))\n",
    "operator_count = list(map(int, input().split()))\n",
    "operators = [(\"+\", operator_count[0]), (\"-\", operator_count[1]), (\"*\", operator_count[2]), (\"/\", operator_count[3])]\n",
    "\n",
    "print(\"모르겠음\")"
   ]
  },
  {
   "cell_type": "code",
   "execution_count": 8,
   "metadata": {},
   "outputs": [
    {
     "name": "stdout",
     "output_type": "stream",
     "text": [
      "30\n",
      "30\n"
     ]
    }
   ],
   "source": [
    "# 책 답지\n",
    "\n",
    "n = int(input())\n",
    "data = list(map(int, input().split()))\n",
    "add, sub, mul, div = map(int, input().split())\n",
    "\n",
    "min_value = 1e9\n",
    "max_value = -1e9\n",
    "\n",
    "def dfs(i, now):\n",
    "    global min_value, max_value, add, sub, mul, div\n",
    "    if i == n:\n",
    "        min_value = min(min_value, now)\n",
    "        max_value = max(max_value, now)\n",
    "    else:\n",
    "        if add > 0:\n",
    "            add -= 1\n",
    "            dfs(i + 1, now + data[i])\n",
    "            add += 1\n",
    "        if sub > 0:\n",
    "            sub -= 1\n",
    "            dfs(i + 1, now - data[i])\n",
    "            sub += 1\n",
    "        if mul > 0:\n",
    "            mul -= 1\n",
    "            dfs(i + 1, now * data[i])\n",
    "            mul += 1\n",
    "        if div > 0:\n",
    "            div -= 1\n",
    "            dfs(i + 1, int(now/data[i]))\n",
    "            div += 1\n",
    "\n",
    "dfs(1, data[0])\n",
    "\n",
    "print(max_value)\n",
    "print(min_value)"
   ]
  },
  {
   "cell_type": "markdown",
   "metadata": {},
   "source": [
    "# 감시 피하기"
   ]
  },
  {
   "cell_type": "code",
   "execution_count": 14,
   "metadata": {},
   "outputs": [
    {
     "name": "stdout",
     "output_type": "stream",
     "text": [
      "모르겠음\n"
     ]
    }
   ],
   "source": [
    "# 내 풀이\n",
    "\n",
    "# n = int(input())\n",
    "# halls = []\n",
    "\n",
    "# for i in range(n):\n",
    "#     hall = list(input().split())\n",
    "#     halls.append(hall)\n",
    "\n",
    "# dx = [1, 0, -1, 0]\n",
    "# dy = [0, 1, 0, -1]\n",
    "\n",
    "# for i in range(n):\n",
    "#     for j in range(len(halls[i])):\n",
    "#         if halls[i][j] == 's':\n",
    "            \n",
    "print(\"모르겠음\")\n",
    "\n"
   ]
  },
  {
   "cell_type": "code",
   "execution_count": 25,
   "metadata": {},
   "outputs": [
    {
     "name": "stdout",
     "output_type": "stream",
     "text": [
      "YES\n"
     ]
    }
   ],
   "source": [
    "# 책 답지\n",
    "\n",
    "from itertools import combinations\n",
    "\n",
    "n = int(input())\n",
    "board = []\n",
    "teachers = []\n",
    "spaces = []\n",
    "\n",
    "for i in range(n):\n",
    "    board.append(list(input().split()))\n",
    "    for j in range(n):\n",
    "        if board[i][j]:\n",
    "            if board[i][j] == 'T':\n",
    "                teachers.append((i, j))\n",
    "            if board[i][j] == 'X':\n",
    "                spaces.append((i, j))\n",
    "\n",
    "def watch(x, y, direction):\n",
    "    if direction == 0:\n",
    "        while y >= 0:\n",
    "            if board[x][y] == 'S':\n",
    "                return True\n",
    "            if board[x][y] == 'O':\n",
    "                return False\n",
    "            y -= 1\n",
    "    if direction == 1:\n",
    "        while y < n:\n",
    "            if board[x][y] == 'S':\n",
    "                return True\n",
    "            if board[x][y] == 'O':\n",
    "                return False\n",
    "            y += 1\n",
    "    if direction == 2:\n",
    "        while x >= 0:\n",
    "            if board[x][y] == 'S':\n",
    "                return True\n",
    "            if board[x][y] == 'O':\n",
    "                return False\n",
    "            x -= 1\n",
    "    if direction == 3:\n",
    "        while x < n:\n",
    "            if board[x][y] == 'S':\n",
    "                return True\n",
    "            if board[x][y] == 'O':\n",
    "                return False\n",
    "            x += 1\n",
    "    return False\n",
    "\n",
    "def process():\n",
    "    for x, y in teachers:\n",
    "        for i in range(4):\n",
    "            if watch(x, y, i):\n",
    "                return True\n",
    "    return False\n",
    "\n",
    "find = False\n",
    "\n",
    "for data in combinations(spaces, 3):\n",
    "    for x, y in data:\n",
    "        board[x][y] = 'O'\n",
    "    if not process():\n",
    "        find = True\n",
    "        break\n",
    "    for x, y in data:\n",
    "        board[x][y] = 'X'\n",
    "\n",
    "if find:\n",
    "    print('YES')\n",
    "else:\n",
    "    print('NO')"
   ]
  },
  {
   "cell_type": "markdown",
   "metadata": {},
   "source": [
    "# 인구 이동"
   ]
  },
  {
   "cell_type": "code",
   "execution_count": 29,
   "metadata": {},
   "outputs": [
    {
     "name": "stdout",
     "output_type": "stream",
     "text": [
      "[[50, 30], [20, 40]]\n"
     ]
    }
   ],
   "source": [
    "# 내 풀이\n",
    "\n",
    "n, l, r = map(int, input().split())\n",
    "popular = []\n",
    "\n",
    "for i in range(n):\n",
    "    pop = list(map(int, input().split()))\n",
    "    popular.append(pop)\n",
    "\n"
   ]
  },
  {
   "cell_type": "code",
   "execution_count": 31,
   "metadata": {},
   "outputs": [
    {
     "name": "stdout",
     "output_type": "stream",
     "text": [
      "1\n"
     ]
    }
   ],
   "source": [
    "# 책 풀이\n",
    "\n",
    "from collections import deque\n",
    "\n",
    "n, l, r = map(int, input().split())\n",
    "graph = []\n",
    "for _ in range(n):\n",
    "    graph.append(list(map(int, input().split())))\n",
    "\n",
    "dx = [-1, 0, 1, 0]\n",
    "dy = [0, -1, 0, 1]\n",
    "\n",
    "result = 0\n",
    "\n",
    "def process(x, y, index):\n",
    "    united = []\n",
    "    united.append((x,y))\n",
    "    q = deque()\n",
    "    q.append((x,y))\n",
    "    union[x][y] = index\n",
    "    summary = graph[x][y]\n",
    "    count = 1\n",
    "    while q:\n",
    "        x, y = q.popleft()\n",
    "        for i in range(4):\n",
    "            nx = x + dx[i]\n",
    "            ny = y + dy[i]\n",
    "            if 0 <= nx < n and 0 <= ny <n and union[nx][ny] == -1:\n",
    "                if l <= abs(graph[nx][ny] - graph[x][y]) <= r:\n",
    "                    q.append((nx, ny))\n",
    "                    union[nx][ny] = index\n",
    "                    summary += graph[nx][ny]\n",
    "                    count += 1\n",
    "                    united.append((nx, ny))\n",
    "    for i, j in united:\n",
    "        graph[i][j] = summary // count\n",
    "    return count\n",
    "\n",
    "total_count = 0\n",
    "\n",
    "while True:\n",
    "    union = [[-1] * n for _ in range(n)]\n",
    "    index = 0\n",
    "    for i in range(n):\n",
    "        for j in range(n):\n",
    "            if union[i][j] == -1:\n",
    "                process(i, j, index)\n",
    "                index += 1\n",
    "    if index == n * n:\n",
    "        break\n",
    "    total_count += 1\n",
    "\n",
    "print(total_count)"
   ]
  },
  {
   "cell_type": "markdown",
   "metadata": {},
   "source": [
    "# 블록 이동하기"
   ]
  },
  {
   "cell_type": "code",
   "execution_count": 32,
   "metadata": {},
   "outputs": [
    {
     "data": {
      "text/plain": [
       "7"
      ]
     },
     "execution_count": 32,
     "metadata": {},
     "output_type": "execute_result"
    }
   ],
   "source": [
    "# 책 답지\n",
    "\n",
    "from collections import deque\n",
    "\n",
    "def get_next_pos(pos, board):\n",
    "    next_pos = []\n",
    "    pos = list(pos)\n",
    "    pos1_x, pos1_y, pos2_x, pos2_y = pos[0][0], pos[0][1], pos[1][0], pos[1][1]\n",
    "    dx = [-1, 1, 0, 0]\n",
    "    dy = [0, 0, -1, 1]\n",
    "    for i in range(4):\n",
    "        pos1_next_x, pos1_next_y, pos2_next_x, pos2_next_y = pos1_x + dx[i], pos1_y + dy[i], pos2_x + dx[i], pos2_y + dy[i]\n",
    "        if board[pos1_next_x][pos1_next_y] == 0 and board[pos2_next_x][pos2_next_y] == 0:\n",
    "            next_pos.append({(pos1_next_x, pos1_next_y), (pos2_next_x, pos2_next_y)})\n",
    "    if pos1_x == pos2_x:\n",
    "        for i in [-1, 1]:\n",
    "            if board[pos1_x + i][pos1_y] == 0 and board[pos2_x + i][pos2_y] == 0:\n",
    "                next_pos.append(({(pos1_x, pos1_y), (pos1_x + i, pos1_y)}))\n",
    "                next_pos.append(({(pos2_x, pos2_y), (pos2_x + i, pos2_y)}))\n",
    "    elif pos1_y == pos2_y:\n",
    "        for i in [-1, 1]:\n",
    "            if board[pos1_x][pos1_y + i] == 0 and board[pos2_x][pos2_y + i] == 0:\n",
    "                next_pos.append(({(pos1_x, pos1_y), (pos1_x, pos1_y + i)}))\n",
    "                next_pos.append(({(pos2_x, pos2_y), (pos2_x, pos2_y + i)}))\n",
    "    return next_pos\n",
    "\n",
    "def solution(board):\n",
    "    n = len(board)\n",
    "    new_board = [[1] * (n + 2) for _ in range(n + 2)]\n",
    "    for i in range(n):\n",
    "        for j in range(n):\n",
    "            new_board[i + 1][j + 1] = board[i][j]\n",
    "    q = deque()\n",
    "    visited = []\n",
    "    pos = {(1, 1), (1, 2)}\n",
    "    q.append((pos, 0))\n",
    "    visited.append(pos)\n",
    "    while q:\n",
    "        pos, cost = q.popleft()\n",
    "        if (n, n) in pos:\n",
    "            return cost\n",
    "        for next_pos in get_next_pos(pos, new_board):\n",
    "            if next_pos not in visited:\n",
    "                q.append((next_pos, cost + 1))\n",
    "                visited.append(next_pos)\n",
    "    return 0\n",
    "\n",
    "solution([[0, 0, 0, 1, 1],[0, 0, 0, 1, 0],[0, 1, 0, 1, 1],[1, 1, 0, 0, 1],[0, 0, 0, 0, 0]])"
   ]
  },
  {
   "cell_type": "code",
   "execution_count": null,
   "metadata": {},
   "outputs": [],
   "source": []
  }
 ],
 "metadata": {
  "interpreter": {
   "hash": "435c7524b81c754d2a38f9b1930a50d7a83318eec9a7b6faab8c4b8cfd59b603"
  },
  "kernelspec": {
   "display_name": "Python 3.8.10 64-bit",
   "language": "python",
   "name": "python3"
  },
  "language_info": {
   "codemirror_mode": {
    "name": "ipython",
    "version": 3
   },
   "file_extension": ".py",
   "mimetype": "text/x-python",
   "name": "python",
   "nbconvert_exporter": "python",
   "pygments_lexer": "ipython3",
   "version": "3.8.10"
  },
  "orig_nbformat": 4
 },
 "nbformat": 4,
 "nbformat_minor": 2
}
