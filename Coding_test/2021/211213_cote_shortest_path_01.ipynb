{
 "cells": [
  {
   "cell_type": "markdown",
   "metadata": {},
   "source": [
    "- 최단 경로는 아예 생각 방법을 모르므로 답지만 베껴 적음"
   ]
  },
  {
   "cell_type": "markdown",
   "metadata": {},
   "source": [
    "# 플로이드"
   ]
  },
  {
   "cell_type": "code",
   "execution_count": 2,
   "metadata": {},
   "outputs": [
    {
     "name": "stdout",
     "output_type": "stream",
     "text": [
      "0 2 3 1 4 \n",
      "12 0 15 2 5 \n",
      "8 5 0 1 1 \n",
      "10 7 13 0 3 \n",
      "7 4 10 6 0 \n"
     ]
    }
   ],
   "source": [
    "# 책 답지\n",
    "\n",
    "INF = int(1e9)\n",
    "\n",
    "n = int(input())\n",
    "m = int(input())\n",
    "graph = [[INF] * (n + 1) for _ in range(n + 1)]\n",
    "\n",
    "for a in range(1, n + 1):\n",
    "    for b in range(1, n + 1):\n",
    "        if a == b:\n",
    "            graph[a][b] = 0\n",
    "\n",
    "for _ in range(m):\n",
    "    a, b, c = map(int, input().split())\n",
    "    if c < graph[a][b]:\n",
    "        graph[a][b] = c\n",
    "\n",
    "for k in range(1, n + 1):\n",
    "    for a in range(1, n + 1):\n",
    "        for b in range(1, n + 1):\n",
    "            graph[a][b] = min(graph[a][b], graph[a][k] + graph[k][b])\n",
    "\n",
    "for a in range(1, n + 1):\n",
    "    for b in range(1, n + 1):\n",
    "        if graph[a][b] == INF:\n",
    "            print(0, end=\" \")\n",
    "        else:\n",
    "            print(graph[a][b], end=\" \")\n",
    "    print()"
   ]
  },
  {
   "cell_type": "markdown",
   "metadata": {},
   "source": [
    "# 정확한 순위"
   ]
  },
  {
   "cell_type": "code",
   "execution_count": 4,
   "metadata": {},
   "outputs": [
    {
     "name": "stdout",
     "output_type": "stream",
     "text": [
      "1\n"
     ]
    }
   ],
   "source": [
    "# 책 답지\n",
    "\n",
    "INF = int(1e9)\n",
    "\n",
    "n, m = map(int, input().split())\n",
    "graph = [[INF] * (n + 1) for _ in range(n + 1)]\n",
    "\n",
    "for a in range(1, n + 1):\n",
    "    for b in range(1, n + 1):\n",
    "        if a == b:\n",
    "            graph[a][b] = 0\n",
    "\n",
    "for _ in range(m):\n",
    "    a, b = map(int, input().split())\n",
    "    graph[a][b] = 1\n",
    "\n",
    "for k in range(1, n + 1):\n",
    "    for a in range(1, n + 1):\n",
    "        for b in range(1, n + 1):\n",
    "            graph[a][b] = min(graph[a][b], graph[a][k] + graph[k][b])\n",
    "\n",
    "result = 0\n",
    "\n",
    "for i in range(1, n + 1):\n",
    "    count = 0\n",
    "    for j in range(1, n + 1):\n",
    "        if graph[i][j] != INF or graph[j][i] != INF:\n",
    "            count += 1\n",
    "    if count == n:\n",
    "        result += 1\n",
    "\n",
    "print(result)"
   ]
  },
  {
   "cell_type": "markdown",
   "metadata": {},
   "source": [
    "# 화성 탐사"
   ]
  },
  {
   "cell_type": "code",
   "execution_count": 7,
   "metadata": {},
   "outputs": [
    {
     "name": "stdout",
     "output_type": "stream",
     "text": [
      "20\n",
      "19\n",
      "36\n"
     ]
    }
   ],
   "source": [
    "# 책 답지\n",
    "\n",
    "import heapq\n",
    "INF = int(1e9)\n",
    "\n",
    "dx = [-1, 0, 1, 0]\n",
    "dy = [0, 1, 0, -1]\n",
    "\n",
    "for tc in range(int(input())):\n",
    "    n = int(input())\n",
    "    graph = []\n",
    "    for i in range(n):\n",
    "        graph.append(list(map(int, input().split())))\n",
    "\n",
    "    distance = [[INF] * n for _ in range(n)]\n",
    "\n",
    "    x, y = 0, 0\n",
    "    q = [(graph[x][y], x, y)]\n",
    "    distance[x][y] = graph[x][y]\n",
    "\n",
    "    while q:\n",
    "        dist, x, y = heapq.heappop(q)\n",
    "        if distance[x][y] < dist:\n",
    "            continue\n",
    "        for i in range(4):\n",
    "            nx = x + dx[i]\n",
    "            ny = y + dy[i]\n",
    "            if nx < 0 or nx >= n or ny < 0 or ny >= n:\n",
    "                continue\n",
    "            cost = dist + graph[nx][ny]\n",
    "            if cost < distance[nx][ny]:\n",
    "                distance[nx][ny] = cost\n",
    "                heapq.heappush(q, (cost, nx, ny))\n",
    "\n",
    "    print(distance[n - 1][n - 1])"
   ]
  },
  {
   "cell_type": "markdown",
   "metadata": {},
   "source": [
    "# 숨바꼭질"
   ]
  },
  {
   "cell_type": "code",
   "execution_count": 9,
   "metadata": {},
   "outputs": [
    {
     "name": "stdout",
     "output_type": "stream",
     "text": [
      "4 2 3\n"
     ]
    }
   ],
   "source": [
    "# 책 풀이\n",
    "\n",
    "import heapq\n",
    "INF = int(1e9)\n",
    "\n",
    "n, m = map(int, input().split())\n",
    "start = 1\n",
    "graph = [[] for i in range(n + 1)]\n",
    "distance = [INF] * (n + 1)\n",
    "\n",
    "for _ in range(m):\n",
    "    a, b = map(int, input().split())\n",
    "    graph[a].append((b, 1))\n",
    "    graph[b].append((a, 1))\n",
    "\n",
    "def dijkstra(start):\n",
    "    q = []\n",
    "    heapq.heappush(q, (0, start))\n",
    "    distance[start] = 0\n",
    "    while q:\n",
    "        dist, now = heapq.heappop(q)\n",
    "        if distance[now] < dist:\n",
    "            continue\n",
    "        for i in graph[now]:\n",
    "            cost = dist + i[1]\n",
    "            if cost < distance[i[0]]:\n",
    "                distance[i[0]] = cost\n",
    "                heapq.heappush(q, (cost, i[0]))\n",
    "\n",
    "dijkstra(start)\n",
    "\n",
    "max_node = 0\n",
    "max_distance = 0\n",
    "result = []\n",
    "\n",
    "for i in range(1, n + 1):\n",
    "    if max_distance < distance[i]:\n",
    "        max_node = i\n",
    "        max_distance = distance[i]\n",
    "        result = [max_node]\n",
    "    elif max_distance == distance[i]:\n",
    "        result.append(i)\n",
    "\n",
    "print(max_node, max_distance, len(result))\n",
    "    "
   ]
  },
  {
   "cell_type": "code",
   "execution_count": null,
   "metadata": {},
   "outputs": [],
   "source": []
  }
 ],
 "metadata": {
  "interpreter": {
   "hash": "435c7524b81c754d2a38f9b1930a50d7a83318eec9a7b6faab8c4b8cfd59b603"
  },
  "kernelspec": {
   "display_name": "Python 3.8.10 64-bit",
   "language": "python",
   "name": "python3"
  },
  "language_info": {
   "codemirror_mode": {
    "name": "ipython",
    "version": 3
   },
   "file_extension": ".py",
   "mimetype": "text/x-python",
   "name": "python",
   "nbconvert_exporter": "python",
   "pygments_lexer": "ipython3",
   "version": "3.8.10"
  },
  "orig_nbformat": 4
 },
 "nbformat": 4,
 "nbformat_minor": 2
}
