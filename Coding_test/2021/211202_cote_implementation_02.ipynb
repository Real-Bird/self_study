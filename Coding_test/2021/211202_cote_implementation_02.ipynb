{
 "cells": [
  {
   "cell_type": "markdown",
   "metadata": {},
   "source": [
    "# 기둥과 보 설치"
   ]
  },
  {
   "cell_type": "code",
   "execution_count": 1,
   "metadata": {},
   "outputs": [
    {
     "name": "stdout",
     "output_type": "stream",
     "text": [
      "문제 읽기 전부터 모름 ㅋㅋ\n"
     ]
    }
   ],
   "source": [
    "# 내 풀이\n",
    "\n",
    "print(\"문제 읽기 전부터 모름 ㅋㅋ\")"
   ]
  },
  {
   "cell_type": "code",
   "execution_count": 3,
   "metadata": {},
   "outputs": [
    {
     "data": {
      "text/plain": [
       "[[1, 0, 0],\n",
       " [1, 1, 1],\n",
       " [2, 1, 0],\n",
       " [2, 2, 1],\n",
       " [3, 2, 1],\n",
       " [4, 2, 1],\n",
       " [5, 0, 0],\n",
       " [5, 1, 0]]"
      ]
     },
     "execution_count": 3,
     "metadata": {},
     "output_type": "execute_result"
    }
   ],
   "source": [
    "# 책 답지\n",
    "\n",
    "def possible(answer):\n",
    "    for x, y, stuff in answer:\n",
    "        if stuff == 0:\n",
    "            if y == 0 or [x - 1, y, 1] in answer or [x, y, 1] in answer or [x, y - 1, 0] in answer:\n",
    "                continue\n",
    "            return False\n",
    "        elif stuff == 1:\n",
    "            if [x, y - 1, 0] in answer or [x + 1, y - 1, 0] in answer or ([x - 1, y, 1] in answer and [x + 1, y, 1] in answer):\n",
    "                continue\n",
    "            return False\n",
    "    return True\n",
    "\n",
    "def solution(n, build_frame):\n",
    "    answer = []\n",
    "    for frame in build_frame:\n",
    "        x, y, stuff, operate = frame\n",
    "        if operate == 0:\n",
    "            answer.remove([x, y, stuff])\n",
    "            if not possible(answer):\n",
    "                answer.append([x, y, stuff])\n",
    "        if operate == 1:\n",
    "            answer.append([x, y, stuff])\n",
    "            if not possible(answer):\n",
    "                answer.remove([x, y, stuff])\n",
    "    return sorted(answer)\n",
    "\n",
    "solution(8, [[1, 0, 0, 1], [1, 1, 1, 1],[2, 1, 0, 1], [2, 2, 1, 1], [5, 0, 0, 1], [5, 1, 0, 1], [4, 2, 1, 1], [3, 2, 1, 1]])\n"
   ]
  },
  {
   "cell_type": "markdown",
   "metadata": {},
   "source": [
    "# 치킨 배달"
   ]
  },
  {
   "cell_type": "code",
   "execution_count": 22,
   "metadata": {},
   "outputs": [
    {
     "name": "stdout",
     "output_type": "stream",
     "text": [
      "input =  5 3 \n",
      " [[0, 0, 1, 0, 0], [0, 0, 2, 0, 1], [0, 1, 2, 0, 0], [0, 0, 1, 0, 0], [0, 0, 0, 0, 2]]\n",
      "6\n"
     ]
    }
   ],
   "source": [
    "# 내 풀이\n",
    "\n",
    "n, m = map(int, input().split())\n",
    "cities = []\n",
    "\n",
    "for _ in range(n):\n",
    "    city = list(map(int, input().split()))\n",
    "    cities.append(city)\n",
    "\n",
    "homes = []\n",
    "chickens = []\n",
    "\n",
    "for i in range(len(cities)):\n",
    "    for j in range(len(cities[i])):\n",
    "        if cities[i][j] == 1:\n",
    "            homes.append((i + 1, j + 1))\n",
    "        elif cities[i][j] == 2:\n",
    "            chickens.append((i + 1, j + 1))\n",
    "\n",
    "distance = []\n",
    "\n",
    "for i in range(len(homes)):\n",
    "    values = []\n",
    "    for j in range(len(chickens)):\n",
    "        value = abs(homes[i][0] - chickens[j][0]) + abs(homes[i][1] - chickens[j][1])\n",
    "        values.append(value)\n",
    "    distance.append(sum(values))\n",
    "\n",
    "print(\"input = \", n, m, \"\\n\", cities)\n",
    "print(min(distance))\n"
   ]
  },
  {
   "cell_type": "code",
   "execution_count": 26,
   "metadata": {},
   "outputs": [
    {
     "name": "stdout",
     "output_type": "stream",
     "text": [
      "5\n"
     ]
    }
   ],
   "source": [
    "# 책 답지\n",
    "\n",
    "from itertools import combinations\n",
    "\n",
    "n, m = map(int, input().split())\n",
    "chicken, house = [], []\n",
    "\n",
    "for r in range(n):\n",
    "    data = list(map(int, input().split()))\n",
    "    for c in range(n):\n",
    "        if data[c] == 1:\n",
    "            house.append((r,c))\n",
    "        elif data[c] == 2:\n",
    "            chicken.append((r,c))\n",
    "\n",
    "candidates = list(combinations(chicken, m))\n",
    "\n",
    "def get_sum(candidate):\n",
    "    result = 0\n",
    "\n",
    "    for hx, hy in house:\n",
    "        temp = 1e9\n",
    "        for cx, cy in candidate:\n",
    "            temp = min(temp, abs(hx - cx) + abs(hy - cy))\n",
    "        result += temp\n",
    "    return result\n",
    "\n",
    "result = 1e9\n",
    "for candidate in candidates:\n",
    "    result = min(result, get_sum(candidate))\n",
    "\n",
    "print(result)"
   ]
  },
  {
   "cell_type": "markdown",
   "metadata": {},
   "source": [
    "# 외벽 점검"
   ]
  },
  {
   "cell_type": "code",
   "execution_count": 36,
   "metadata": {},
   "outputs": [
    {
     "name": "stdout",
     "output_type": "stream",
     "text": [
      "카카오는 내 길이 아니다\n"
     ]
    }
   ],
   "source": [
    "# 내 풀이\n",
    "\n",
    "def solution(s):\n",
    "    answer = 0\n",
    "    return answer\n",
    "\n",
    "print(\"카카오는 내 길이 아니다\")"
   ]
  },
  {
   "cell_type": "code",
   "execution_count": 37,
   "metadata": {},
   "outputs": [
    {
     "data": {
      "text/plain": [
       "2"
      ]
     },
     "execution_count": 37,
     "metadata": {},
     "output_type": "execute_result"
    }
   ],
   "source": [
    "# 책 답지\n",
    "\n",
    "from itertools import permutations\n",
    "\n",
    "def solution(n, weak, dist):\n",
    "    length = len(weak)\n",
    "    for i in range(length):\n",
    "        weak.append(weak[i] + n)\n",
    "    answer = len(dist) + 1\n",
    "    for start in range(length):\n",
    "        for friends in list(permutations(dist, len(dist))):\n",
    "            count = 1\n",
    "            position = weak[start] + friends[count - 1]\n",
    "            for index in range(start, start + length):\n",
    "                if position < weak[index]:\n",
    "                    count += 1\n",
    "                    if count > len(dist):\n",
    "                        break\n",
    "                    position = weak[index] + friends[count - 1]\n",
    "            answer = min(answer, count)\n",
    "    if answer > len(dist):\n",
    "        return -1\n",
    "    return answer\n",
    "\n",
    "solution(12, [1, 5, 6, 10], [1, 2, 3, 4])"
   ]
  }
 ],
 "metadata": {
  "interpreter": {
   "hash": "435c7524b81c754d2a38f9b1930a50d7a83318eec9a7b6faab8c4b8cfd59b603"
  },
  "kernelspec": {
   "display_name": "Python 3.8.10 64-bit",
   "language": "python",
   "name": "python3"
  },
  "language_info": {
   "codemirror_mode": {
    "name": "ipython",
    "version": 3
   },
   "file_extension": ".py",
   "mimetype": "text/x-python",
   "name": "python",
   "nbconvert_exporter": "python",
   "pygments_lexer": "ipython3",
   "version": "3.8.10"
  },
  "orig_nbformat": 4
 },
 "nbformat": 4,
 "nbformat_minor": 2
}
