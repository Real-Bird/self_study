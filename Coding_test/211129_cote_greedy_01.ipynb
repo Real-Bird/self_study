{
 "cells": [
  {
   "cell_type": "markdown",
   "metadata": {},
   "source": [
    "# 모험가 길드"
   ]
  },
  {
   "cell_type": "code",
   "execution_count": 12,
   "metadata": {},
   "outputs": [
    {
     "name": "stdout",
     "output_type": "stream",
     "text": [
      "n =  7\n",
      "x =  [1, 1, 3, 2, 1, 1, 5]\n",
      "0\n"
     ]
    }
   ],
   "source": [
    "# 내 풀이\n",
    "\n",
    "n = int(input())\n",
    "x = list(map(int, input().split()))\n",
    "\n",
    "k = []\n",
    "\n",
    "for i in range(n):\n",
    "    for j in range(n):\n",
    "        if (x[i] + x[j]) % n == 0:\n",
    "            k.append(x[i])\n",
    "            k.append(x[j])\n",
    "            break\n",
    "    break\n",
    "\n",
    "print(\"n = \", n)\n",
    "print(\"x = \", x)\n",
    "print(len(k))\n"
   ]
  },
  {
   "cell_type": "code",
   "execution_count": 13,
   "metadata": {},
   "outputs": [
    {
     "name": "stdout",
     "output_type": "stream",
     "text": [
      "n =  7\n",
      "x =  [1, 1, 3, 2, 1, 1, 5]\n",
      "4\n"
     ]
    }
   ],
   "source": [
    "# 책 답지\n",
    "\n",
    "n = int(input())\n",
    "data = list(map(int, input().split()))\n",
    "data.sort()\n",
    "\n",
    "result = 0\n",
    "count = 0\n",
    "\n",
    "for i in data:\n",
    "    count += 1\n",
    "    if count >= i:\n",
    "        result += 1\n",
    "        count = 0\n",
    "\n",
    "print(\"n = \", n)\n",
    "print(\"x = \", x)\n",
    "print(result)"
   ]
  },
  {
   "cell_type": "markdown",
   "metadata": {},
   "source": [
    "# 곱하기 혹은 더하기"
   ]
  },
  {
   "cell_type": "code",
   "execution_count": 24,
   "metadata": {},
   "outputs": [
    {
     "name": "stdout",
     "output_type": "stream",
     "text": [
      "s =  123\n",
      "6\n"
     ]
    }
   ],
   "source": [
    "# 내 풀이\n",
    "\n",
    "s = input()\n",
    "\n",
    "a = 0\n",
    "for i in s:\n",
    "    a *= int(i)\n",
    "    if a * int(i) == 0:\n",
    "        a += int(i)\n",
    "\n",
    "print(\"s = \", s)\n",
    "print(a)"
   ]
  },
  {
   "cell_type": "code",
   "execution_count": 22,
   "metadata": {},
   "outputs": [
    {
     "name": "stdout",
     "output_type": "stream",
     "text": [
      "data =  123\n",
      "9\n"
     ]
    }
   ],
   "source": [
    "# 책 답지\n",
    "\n",
    "data = input()\n",
    "\n",
    "result = int(data[0])\n",
    "\n",
    "for i in range(1, len(data)):\n",
    "    num = int(data[i])\n",
    "    if num <= 1 or result <= 1:\n",
    "        result += num\n",
    "    else:\n",
    "        result *= num\n",
    "\n",
    "print('data = ', data)\n",
    "print(result)"
   ]
  },
  {
   "cell_type": "markdown",
   "metadata": {},
   "source": [
    "# 문자열 뒤집기"
   ]
  },
  {
   "cell_type": "code",
   "execution_count": 4,
   "metadata": {},
   "outputs": [
    {
     "name": "stdout",
     "output_type": "stream",
     "text": [
      "s =  0001100\n",
      "5\n"
     ]
    }
   ],
   "source": [
    "# 내 풀이\n",
    "\n",
    "s = input()\n",
    "first = int(s[0])\n",
    "\n",
    "count = 0\n",
    "\n",
    "for i in range(1, len(s[1:])):\n",
    "    if s[i] != first and s[i + 1] != first:\n",
    "        count += 1\n",
    "\n",
    "print('s = ', s)\n",
    "print(count)"
   ]
  },
  {
   "cell_type": "code",
   "execution_count": 6,
   "metadata": {},
   "outputs": [
    {
     "name": "stdout",
     "output_type": "stream",
     "text": [
      "data =  0001100\n",
      "1\n"
     ]
    }
   ],
   "source": [
    "# 책 답지\n",
    "\n",
    "data = input()\n",
    "count0 = 0\n",
    "count1 = 0\n",
    "\n",
    "if data[0] == '1':\n",
    "    count0 += 1\n",
    "else:\n",
    "    count1 += 1\n",
    "\n",
    "for i in range(len(data) - 1):\n",
    "    if data[i] != data[i + 1]:\n",
    "        if data[i + 1] == '1':\n",
    "            count0 += 1\n",
    "        else:\n",
    "            count1 += 1\n",
    "\n",
    "print('data = ', data)\n",
    "print(min(count0, count1))"
   ]
  },
  {
   "cell_type": "code",
   "execution_count": null,
   "metadata": {},
   "outputs": [],
   "source": []
  }
 ],
 "metadata": {
  "interpreter": {
   "hash": "435c7524b81c754d2a38f9b1930a50d7a83318eec9a7b6faab8c4b8cfd59b603"
  },
  "kernelspec": {
   "display_name": "Python 3.8.10 64-bit",
   "language": "python",
   "name": "python3"
  },
  "language_info": {
   "codemirror_mode": {
    "name": "ipython",
    "version": 3
   },
   "file_extension": ".py",
   "mimetype": "text/x-python",
   "name": "python",
   "nbconvert_exporter": "python",
   "pygments_lexer": "ipython3",
   "version": "3.8.10"
  },
  "orig_nbformat": 4
 },
 "nbformat": 4,
 "nbformat_minor": 2
}
