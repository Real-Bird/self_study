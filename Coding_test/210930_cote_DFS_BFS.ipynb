{
 "cells": [
  {
   "cell_type": "markdown",
   "source": [
    "# 음료수 얼려 먹기"
   ],
   "metadata": {}
  },
  {
   "cell_type": "code",
   "execution_count": 7,
   "source": [
    "print(\"\"\"input_ex\r\n",
    "15 14\r\n",
    "00000111100000\r\n",
    "11111101111110\r\n",
    "11011101101110\r\n",
    "11011101100000\r\n",
    "11011111111111\r\n",
    "11011111111100\r\n",
    "11000000011111\r\n",
    "01111111111111\r\n",
    "00000000111111\r\n",
    "01111111111000\r\n",
    "00011111111000\r\n",
    "00000001111000\r\n",
    "11111111110011\r\n",
    "11100011111111\r\n",
    "11100011111111\"\"\")"
   ],
   "outputs": [
    {
     "output_type": "stream",
     "name": "stdout",
     "text": [
      "input_ex\n",
      "15 14\n",
      "00000111100000\n",
      "11111101111110\n",
      "11011101101110\n",
      "11011101100000\n",
      "11011111111111\n",
      "11011111111100\n",
      "11000000011111\n",
      "01111111111111\n",
      "00000000111111\n",
      "01111111111000\n",
      "00011111111000\n",
      "00000001111000\n",
      "11111111110011\n",
      "11100011111111\n",
      "11100011111111\n"
     ]
    }
   ],
   "metadata": {}
  },
  {
   "cell_type": "code",
   "execution_count": 5,
   "source": [
    "n, m = map(int, input().split())\r\n",
    "\r\n",
    "graph = []\r\n",
    "for i in range(n):\r\n",
    "    graph.append(list(map(int, input())))\r\n",
    "\r\n",
    "def dfs(x, y):\r\n",
    "    if x <= -1 or x >= n or y <= -1 or y >= m:\r\n",
    "        return False\r\n",
    "    if graph[x][y] == 0:\r\n",
    "        graph[x][y] = 1\r\n",
    "        dfs(x - 1, y)\r\n",
    "        dfs(x, y - 1)\r\n",
    "        dfs(x + 1, y)\r\n",
    "        dfs(x, y + 1)\r\n",
    "        return True\r\n",
    "    return False\r\n",
    "\r\n",
    "result = 0\r\n",
    "for i in range(n):\r\n",
    "    for j in range(m):\r\n",
    "        if dfs(i, j) == True:\r\n",
    "            result += 1\r\n",
    "\r\n",
    "print(result)"
   ],
   "outputs": [
    {
     "output_type": "stream",
     "name": "stdout",
     "text": [
      "8\n"
     ]
    }
   ],
   "metadata": {}
  },
  {
   "cell_type": "markdown",
   "source": [
    "# 미로 탈출"
   ],
   "metadata": {}
  },
  {
   "cell_type": "code",
   "execution_count": 8,
   "source": [
    "print(\"\"\"input_ex\r\n",
    "5 6\r\n",
    "101010\r\n",
    "111111\r\n",
    "000001\r\n",
    "111111\r\n",
    "111111\"\"\")"
   ],
   "outputs": [
    {
     "output_type": "stream",
     "name": "stdout",
     "text": [
      "input_ex\n",
      "5 6\n",
      "101010\n",
      "111111\n",
      "000001\n",
      "111111\n",
      "111111\n"
     ]
    }
   ],
   "metadata": {}
  },
  {
   "cell_type": "code",
   "execution_count": 9,
   "source": [
    "from collections import deque\r\n",
    "\r\n",
    "n, m = map(int, input().split())\r\n",
    "\r\n",
    "graph = []\r\n",
    "for i in range(n):\r\n",
    "    graph.append(list(map(int, input())))\r\n",
    "\r\n",
    "dx = [-1, 1, 0, 0]\r\n",
    "dy = [0, 0, -1, 1]\r\n",
    "\r\n",
    "def bfs(x, y):\r\n",
    "    queue = deque()\r\n",
    "    queue.append((x, y))\r\n",
    "\r\n",
    "    while queue:\r\n",
    "        x, y = queue.popleft()\r\n",
    "        for i in range(4):\r\n",
    "            nx = x + dx[i]\r\n",
    "            ny = y + dy[i]\r\n",
    "\r\n",
    "            if nx < 0 or ny < 0 or nx >= n or ny >= m:\r\n",
    "                continue\r\n",
    "            if graph[nx][ny] == 0:\r\n",
    "                continue\r\n",
    "            if graph[nx][ny] == 1:\r\n",
    "                graph[nx][ny] = graph[x][y] + 1\r\n",
    "                queue.append((nx, ny))\r\n",
    "\r\n",
    "    return graph[n - 1][m - 1]\r\n",
    "\r\n",
    "print(bfs(0, 0))"
   ],
   "outputs": [
    {
     "output_type": "stream",
     "name": "stdout",
     "text": [
      "10\n"
     ]
    }
   ],
   "metadata": {}
  },
  {
   "cell_type": "code",
   "execution_count": null,
   "source": [],
   "outputs": [],
   "metadata": {}
  }
 ],
 "metadata": {
  "orig_nbformat": 4,
  "language_info": {
   "name": "python",
   "version": "3.8.10",
   "mimetype": "text/x-python",
   "codemirror_mode": {
    "name": "ipython",
    "version": 3
   },
   "pygments_lexer": "ipython3",
   "nbconvert_exporter": "python",
   "file_extension": ".py"
  },
  "kernelspec": {
   "name": "python3",
   "display_name": "Python 3.8.10 64-bit"
  },
  "interpreter": {
   "hash": "435c7524b81c754d2a38f9b1930a50d7a83318eec9a7b6faab8c4b8cfd59b603"
  }
 },
 "nbformat": 4,
 "nbformat_minor": 2
}