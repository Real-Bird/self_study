{
 "cells": [
  {
   "cell_type": "markdown",
   "metadata": {},
   "source": [
    "# 신고 결과 받기"
   ]
  },
  {
   "cell_type": "code",
   "execution_count": null,
   "metadata": {},
   "outputs": [],
   "source": [
    "def solution(id_list, report, k):\n",
    "    stopId = []\n",
    "    array = []\n",
    "    for i in range(len(id_list)):\n",
    "        array.append([id_list[i]])\n",
    "        nameList = []\n",
    "        for j in set(report):\n",
    "            reportName = j.split(\" \")[1]\n",
    "            nameList.append(reportName)\n",
    "            if j.split(\" \")[0] == id_list[i]:\n",
    "                array[i].append(reportName)\n",
    "        if nameList.count(id_list[i]) >= k:\n",
    "            stopId.append(id_list[i])\n",
    "        \n",
    "    answer = []\n",
    "    \n",
    "    for i in array:\n",
    "        count = 0\n",
    "        for j in i[1:]:\n",
    "            if j in stopId:\n",
    "                count += 1\n",
    "        answer.append(count)\n",
    "    return answer"
   ]
  },
  {
   "cell_type": "code",
   "execution_count": 165,
   "metadata": {},
   "outputs": [],
   "source": [
    "# 시간 초과\n",
    "\n",
    "def solution(id_list, report, k):\n",
    "    answer = []\n",
    "    stopId = []\n",
    "    nameDict = {}\n",
    "    for i in range(len(id_list)):\n",
    "        nameDict[id_list[i]] = []\n",
    "        count = 0\n",
    "        for j in set(report):\n",
    "            if id_list[i] == j.split(\" \")[0]:\n",
    "                nameDict[id_list[i]].append(j.split(\" \")[1])\n",
    "            if j.split(\" \")[1] == id_list[i]:\n",
    "                count += 1\n",
    "                if count >= k:\n",
    "                    stopId.append(j.split(\" \")[1])\n",
    "    for i in nameDict.values():\n",
    "        count = 0\n",
    "        for j in i:\n",
    "            if j in stopId:\n",
    "                count += 1\n",
    "        answer.append(count)\n",
    "\n",
    "    return answer"
   ]
  },
  {
   "cell_type": "code",
   "execution_count": 166,
   "metadata": {},
   "outputs": [
    {
     "data": {
      "text/plain": [
       "[2, 1, 1, 0]"
      ]
     },
     "execution_count": 166,
     "metadata": {},
     "output_type": "execute_result"
    }
   ],
   "source": [
    "solution([\"muzi\", \"frodo\", \"apeach\", \"neo\"], [\"muzi frodo\", \"apeach frodo\", \"frodo neo\", \"muzi neo\", \"apeach muzi\"], 2)"
   ]
  },
  {
   "cell_type": "code",
   "execution_count": 167,
   "metadata": {},
   "outputs": [],
   "source": [
    "# 정답\n",
    "def solution(id_list, report, k):\n",
    "    nameDict = {name:[] for name in id_list}\n",
    "    reportCount = {name:0 for name in id_list}\n",
    "    \n",
    "    for i in set(report):\n",
    "        nameDict[i.split(\" \")[0]].append(i.split(\" \")[1])\n",
    "        reportCount[i.split(\" \")[1]] += 1\n",
    "    \n",
    "    answer = [0 for _ in range(len(id_list))]\n",
    "    \n",
    "    for i, j in nameDict.items():\n",
    "        for h in j:\n",
    "            if reportCount[h] >= k:\n",
    "                answer[id_list.index(i)] += 1\n",
    "    return answer"
   ]
  },
  {
   "cell_type": "code",
   "execution_count": 168,
   "metadata": {},
   "outputs": [
    {
     "data": {
      "text/plain": [
       "[2, 1, 1, 0]"
      ]
     },
     "execution_count": 168,
     "metadata": {},
     "output_type": "execute_result"
    }
   ],
   "source": [
    "solution([\"muzi\", \"frodo\", \"apeach\", \"neo\"], [\"muzi frodo\", \"apeach frodo\", \"frodo neo\", \"muzi neo\", \"apeach muzi\"], 2)"
   ]
  },
  {
   "cell_type": "code",
   "execution_count": null,
   "metadata": {},
   "outputs": [],
   "source": []
  }
 ],
 "metadata": {
  "interpreter": {
   "hash": "435c7524b81c754d2a38f9b1930a50d7a83318eec9a7b6faab8c4b8cfd59b603"
  },
  "kernelspec": {
   "display_name": "Python 3.8.10 64-bit",
   "language": "python",
   "name": "python3"
  },
  "language_info": {
   "codemirror_mode": {
    "name": "ipython",
    "version": 3
   },
   "file_extension": ".py",
   "mimetype": "text/x-python",
   "name": "python",
   "nbconvert_exporter": "python",
   "pygments_lexer": "ipython3",
   "version": "3.8.10"
  },
  "orig_nbformat": 4
 },
 "nbformat": 4,
 "nbformat_minor": 2
}
