{
 "cells": [
  {
   "cell_type": "markdown",
   "metadata": {},
   "source": [
    "# 금광"
   ]
  },
  {
   "cell_type": "code",
   "execution_count": 4,
   "metadata": {},
   "outputs": [
    {
     "name": "stdout",
     "output_type": "stream",
     "text": [
      "[[3, 3, 2, 1, 4, 1, 6, 4, 7], [3, 3, 2, 1, 4, 1, 6, 4, 7], [3, 3, 2, 1, 4, 1, 6, 4, 7]]\n"
     ]
    }
   ],
   "source": [
    "# 내 풀이\n",
    "\n",
    "def mining(n,m,case):\n",
    "    mine = [[] for i in range(n)]\n",
    "    for i in range(n):\n",
    "        for j in range(len(case)):\n",
    "            if j % m == 0:\n",
    "                continue\n",
    "            mine[i].append(case[j])\n",
    "            \n",
    "        \n",
    "    return mine\n",
    "\n",
    "t = int(input())\n",
    "\n",
    "for i in range(t):\n",
    "    n, m = map(int, input().split())\n",
    "    case = list(map(int, input().split()))\n",
    "    gold = mining(n,m,case)\n",
    "\n",
    "print(gold)"
   ]
  },
  {
   "cell_type": "code",
   "execution_count": 7,
   "metadata": {},
   "outputs": [
    {
     "name": "stdout",
     "output_type": "stream",
     "text": [
      "19\n",
      "16\n"
     ]
    }
   ],
   "source": [
    "# 책 풀이\n",
    "\n",
    "for tc in range(int(input())):\n",
    "    n, m = map(int, input().split())\n",
    "    array = list(map(int, input().split()))\n",
    "\n",
    "    dp = []\n",
    "    index = 0\n",
    "    for i in range(n):\n",
    "        dp.append(array[index:index + m])\n",
    "        index += m\n",
    "\n",
    "    for j in range(1, m):\n",
    "        for i in range(n):\n",
    "            if i == 0:\n",
    "                left_up = 0\n",
    "            else:\n",
    "                left_up = dp[i - 1][j - 1]\n",
    "            \n",
    "            if i == n-1:\n",
    "                left_down = 0\n",
    "            else:\n",
    "                left_down = dp[i + 1][j - 1]\n",
    "\n",
    "            left = dp[i][j - 1]\n",
    "            dp[i][j] = dp[i][j] + max(left_up, left_down, left)\n",
    "\n",
    "    result = 0\n",
    "    for i in range(n):\n",
    "        result = max(result, dp[i][m - 1])\n",
    "\n",
    "    print(result)"
   ]
  },
  {
   "cell_type": "markdown",
   "metadata": {},
   "source": [
    "# 정수 삼각형"
   ]
  },
  {
   "cell_type": "code",
   "execution_count": 12,
   "metadata": {},
   "outputs": [
    {
     "name": "stdout",
     "output_type": "stream",
     "text": [
      "모르겠다\n"
     ]
    }
   ],
   "source": [
    "# 내 풀이\n",
    "\n",
    "# n = int(input())\n",
    "# triangle = []\n",
    "\n",
    "# for i in range(n):\n",
    "#     triangle.append(list(map(int, input().split())))\n",
    "\n",
    "# result = 0\n",
    "\n",
    "# for i in range(1, len(triangle)):\n",
    "#     for j in range(len(triangle[i])):\n",
    "#         if triangle[i][j] > triangle[i][j+1]:\n",
    "#             result += triangle[i][j]\n",
    "#         else:\n",
    "#             result += triangle[i][j+1]\n",
    "\n",
    "print(\"모르겠다\")\n",
    "        "
   ]
  },
  {
   "cell_type": "code",
   "execution_count": 13,
   "metadata": {},
   "outputs": [
    {
     "name": "stdout",
     "output_type": "stream",
     "text": [
      "30\n"
     ]
    }
   ],
   "source": [
    "# 책 풀이\n",
    "\n",
    "n = int(input())\n",
    "dp = []\n",
    "\n",
    "for _ in range(n):\n",
    "    dp.append(list(map(int, input().split())))\n",
    "\n",
    "for i in range(1, n):\n",
    "    for j in range(i + 1):\n",
    "        if j == 0:\n",
    "            up_left = 0\n",
    "        else:\n",
    "            up_left = dp[i - 1][j - 1]\n",
    "        \n",
    "        if j == i:\n",
    "            up = 0\n",
    "        else:\n",
    "            up = dp[i - 1][j]\n",
    "        \n",
    "        dp[i][j] = dp[i][j] + max(up_left, up)\n",
    "\n",
    "print(max(dp[n-1]))"
   ]
  },
  {
   "cell_type": "markdown",
   "metadata": {},
   "source": [
    "# 퇴사"
   ]
  },
  {
   "cell_type": "code",
   "execution_count": 16,
   "metadata": {},
   "outputs": [
    {
     "name": "stdout",
     "output_type": "stream",
     "text": [
      "못 품\n"
     ]
    }
   ],
   "source": [
    "# 내 풀이\n",
    "\n",
    "# n = int(input())\n",
    "# dp = []\n",
    "\n",
    "# for _ in range(n):\n",
    "#     dp.append(tuple(map(int, input().split())))\n",
    "\n",
    "# result = 0\n",
    "\n",
    "# for i in range(len(dp)):\n",
    "#     result += dp[i][1]\n",
    "    \n",
    "print(\"못 품\")\n"
   ]
  },
  {
   "cell_type": "code",
   "execution_count": 19,
   "metadata": {},
   "outputs": [
    {
     "name": "stdout",
     "output_type": "stream",
     "text": [
      "45\n"
     ]
    }
   ],
   "source": [
    "# 책 풀이\n",
    "\n",
    "n = int(input())\n",
    "t = []\n",
    "p = []\n",
    "dp = [0] * (n + 1)\n",
    "max_value = 0\n",
    "\n",
    "for _ in range(n):\n",
    "    x, y = map(int, input().split())\n",
    "    t.append(x)\n",
    "    p.append(y)\n",
    "\n",
    "for i in range(n - 1, -1, -1):\n",
    "    time = t[i] + i\n",
    "    if time <= n:\n",
    "        dp[i] = max(p[i] + dp[time], max_value)\n",
    "        max_value = dp[i]\n",
    "    else:\n",
    "        dp[i] = max_value\n",
    "\n",
    "print(max_value)"
   ]
  },
  {
   "cell_type": "code",
   "execution_count": null,
   "metadata": {},
   "outputs": [],
   "source": []
  }
 ],
 "metadata": {
  "interpreter": {
   "hash": "435c7524b81c754d2a38f9b1930a50d7a83318eec9a7b6faab8c4b8cfd59b603"
  },
  "kernelspec": {
   "display_name": "Python 3.8.10 64-bit (system)",
   "language": "python",
   "name": "python3"
  },
  "language_info": {
   "codemirror_mode": {
    "name": "ipython",
    "version": 3
   },
   "file_extension": ".py",
   "mimetype": "text/x-python",
   "name": "python",
   "nbconvert_exporter": "python",
   "pygments_lexer": "ipython3",
   "version": "3.8.10"
  },
  "orig_nbformat": 4
 },
 "nbformat": 4,
 "nbformat_minor": 2
}
