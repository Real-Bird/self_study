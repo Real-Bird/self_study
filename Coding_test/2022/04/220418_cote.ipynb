{
 "cells": [
  {
   "cell_type": "markdown",
   "metadata": {},
   "source": [
    "# 재귀"
   ]
  },
  {
   "cell_type": "markdown",
   "metadata": {},
   "source": [
    "## 팩토리얼"
   ]
  },
  {
   "cell_type": "code",
   "execution_count": 3,
   "metadata": {},
   "outputs": [
    {
     "name": "stdout",
     "output_type": "stream",
     "text": [
      "1\n"
     ]
    }
   ],
   "source": [
    "def factorial(n):\n",
    "    if n <= 1:\n",
    "        return 1\n",
    "    return n * factorial(n - 1)\n",
    "\n",
    "n = int(input())\n",
    "\n",
    "print(factorial(n))"
   ]
  },
  {
   "cell_type": "markdown",
   "metadata": {},
   "source": [
    "## 하노이 탑 이동 순서"
   ]
  },
  {
   "cell_type": "code",
   "execution_count": 6,
   "metadata": {},
   "outputs": [
    {
     "name": "stdout",
     "output_type": "stream",
     "text": [
      "7\n",
      "1 3\n",
      "1 2\n",
      "3 2\n",
      "1 3\n",
      "2 1\n",
      "2 3\n",
      "1 3\n"
     ]
    }
   ],
   "source": [
    "def hanoi(num, start, to, end):\n",
    "    if num == 1:\n",
    "        print(start, end)\n",
    "    else:\n",
    "        hanoi(num - 1, start, end, to)\n",
    "        print(start, end)\n",
    "        hanoi(num - 1, to, start, end)\n",
    "\n",
    "num = int(input())\n",
    "print(2**num - 1)\n",
    "hanoi(num, 1, 2, 3)"
   ]
  },
  {
   "cell_type": "markdown",
   "metadata": {},
   "source": [
    "## 파이프 옮기기 1"
   ]
  },
  {
   "cell_type": "code",
   "execution_count": 12,
   "metadata": {},
   "outputs": [
    {
     "name": "stdout",
     "output_type": "stream",
     "text": [
      "1\n"
     ]
    }
   ],
   "source": [
    "def recursive(y, x, shape):\n",
    "    global ans\n",
    "    if y > n or x > n:\n",
    "        return\n",
    "    if y == n and x == n:\n",
    "        ans += 1\n",
    "    if home[y][x + 1] == 0 and (shape == 0 or shape == 2):\n",
    "        recursive(y, x + 1, 0)\n",
    "    if home[y + 1][x] == 0 and (shape == 1 or shape == 2):\n",
    "        recursive(y + 1, x, 1)\n",
    "    if home[y + 1][x] == 0 and home[y][x + 1] == 0 and home[y + 1][x + 1] == 0:\n",
    "        recursive(y + 1, x + 1, 2)\n",
    "\n",
    "n = int(input())\n",
    "home = [[0 for col in range(18)] for row in range(18)]\n",
    "\n",
    "for i in range(1, n + 1):\n",
    "    row = list(map(int, input().split()))\n",
    "    for j in range(1, n + 1):\n",
    "        home[i][j] = row[j - 1]\n",
    "\n",
    "ans = 0\n",
    "recursive(1, 2, 0)\n",
    "print(ans)"
   ]
  },
  {
   "cell_type": "markdown",
   "metadata": {},
   "source": [
    "# CLASS 2 ++"
   ]
  },
  {
   "cell_type": "markdown",
   "metadata": {},
   "source": [
    "## 영화감독 숌"
   ]
  },
  {
   "cell_type": "code",
   "execution_count": 22,
   "metadata": {},
   "outputs": [
    {
     "name": "stdout",
     "output_type": "stream",
     "text": [
      "5666\n"
     ]
    }
   ],
   "source": [
    "n = int(input())\n",
    "cnt = 0\n",
    "six_n = 666\n",
    "while n > 0:\n",
    "    if '666' in str(six_n):\n",
    "        cnt += 1\n",
    "    if cnt == n:\n",
    "        print(six_n)\n",
    "        break\n",
    "    six_n += 1"
   ]
  },
  {
   "cell_type": "markdown",
   "metadata": {},
   "source": [
    "## 덩치"
   ]
  },
  {
   "cell_type": "code",
   "execution_count": 23,
   "metadata": {},
   "outputs": [
    {
     "name": "stdout",
     "output_type": "stream",
     "text": [
      "2 2 1 2 5 "
     ]
    }
   ],
   "source": [
    "chunk = []\n",
    "\n",
    "for _ in range(int(input())):\n",
    "    w, h = map(int, input().split())\n",
    "    chunk.append((w, h))\n",
    "\n",
    "for i in chunk:\n",
    "    rank = 1\n",
    "    for j in chunk:\n",
    "        if i[0] < j[0] and i[1] < j[1]:\n",
    "            rank += 1\n",
    "    print(rank, end=\" \")"
   ]
  },
  {
   "cell_type": "code",
   "execution_count": null,
   "metadata": {},
   "outputs": [],
   "source": []
  }
 ],
 "metadata": {
  "interpreter": {
   "hash": "435c7524b81c754d2a38f9b1930a50d7a83318eec9a7b6faab8c4b8cfd59b603"
  },
  "kernelspec": {
   "display_name": "Python 3.8.10 64-bit",
   "language": "python",
   "name": "python3"
  },
  "language_info": {
   "codemirror_mode": {
    "name": "ipython",
    "version": 3
   },
   "file_extension": ".py",
   "mimetype": "text/x-python",
   "name": "python",
   "nbconvert_exporter": "python",
   "pygments_lexer": "ipython3",
   "version": "3.8.10"
  },
  "orig_nbformat": 4
 },
 "nbformat": 4,
 "nbformat_minor": 2
}
