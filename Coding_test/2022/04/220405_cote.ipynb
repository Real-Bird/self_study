{
 "cells": [
  {
   "cell_type": "markdown",
   "metadata": {},
   "source": [
    "# 큰 수 곱셈"
   ]
  },
  {
   "cell_type": "code",
   "execution_count": 4,
   "metadata": {},
   "outputs": [
    {
     "name": "stdout",
     "output_type": "stream",
     "text": [
      "213553048277135320552236238436\n"
     ]
    }
   ],
   "source": [
    "a, b = map(int, input().split())\n",
    "\n",
    "print(a * b)"
   ]
  },
  {
   "cell_type": "markdown",
   "metadata": {},
   "source": [
    "# 나는 행복합니다~"
   ]
  },
  {
   "cell_type": "code",
   "execution_count": 31,
   "metadata": {},
   "outputs": [
    {
     "name": "stdout",
     "output_type": "stream",
     "text": [
      "2 3\n"
     ]
    }
   ],
   "source": [
    "n, m, k = map(int, input().split())\n",
    "\n",
    "print(k//m, k%m)"
   ]
  },
  {
   "cell_type": "code",
   "execution_count": 32,
   "metadata": {},
   "outputs": [
    {
     "name": "stdout",
     "output_type": "stream",
     "text": [
      "2 3\n"
     ]
    }
   ],
   "source": [
    "n, m, k = map(int, input().split())\n",
    "\n",
    "for i in range(n):\n",
    "    for j in range(m):\n",
    "        if i * m + j == k:\n",
    "            print(i, j)\n",
    "            break"
   ]
  },
  {
   "cell_type": "markdown",
   "metadata": {},
   "source": [
    "# Vera and Outfits"
   ]
  },
  {
   "cell_type": "code",
   "execution_count": 37,
   "metadata": {},
   "outputs": [
    {
     "name": "stdout",
     "output_type": "stream",
     "text": [
      "20\n"
     ]
    }
   ],
   "source": [
    "n = int(input())\n",
    "print(n ** 2 - n)"
   ]
  },
  {
   "cell_type": "markdown",
   "metadata": {},
   "source": [
    "# 조별과제를 하려는데 조장이 사라졌다"
   ]
  },
  {
   "cell_type": "code",
   "execution_count": 42,
   "metadata": {},
   "outputs": [
    {
     "name": "stdout",
     "output_type": "stream",
     "text": [
      "3\n"
     ]
    }
   ],
   "source": [
    "import math\n",
    "\n",
    "l = int(input())\n",
    "min_time = l\n",
    "for i in range(1, 6):\n",
    "    if math.ceil(l / i) < min_time:\n",
    "        min_time = math.ceil(l / i)\n",
    "\n",
    "print(min_time)"
   ]
  },
  {
   "cell_type": "markdown",
   "metadata": {},
   "source": [
    "# 큐2"
   ]
  },
  {
   "cell_type": "code",
   "execution_count": 47,
   "metadata": {},
   "outputs": [
    {
     "name": "stdout",
     "output_type": "stream",
     "text": [
      "1\n",
      "2\n",
      "2\n",
      "0\n",
      "1\n",
      "2\n",
      "-1\n",
      "0\n",
      "1\n",
      "-1\n",
      "0\n",
      "3\n"
     ]
    }
   ],
   "source": [
    "from queue import deque\n",
    "\n",
    "n = int(input())\n",
    "q = deque([])\n",
    "for _ in range(n):\n",
    "    size = len(q)\n",
    "    temp = input().split()\n",
    "    if temp[0] == \"push\":\n",
    "        q.append(temp[1])\n",
    "    elif size and temp[0] == \"pop\":\n",
    "        print(q.popleft())\n",
    "    elif temp[0] == \"size\":\n",
    "        print(len(q))\n",
    "    elif temp[0] == \"empty\":\n",
    "        if size:\n",
    "            print(0)\n",
    "        else:\n",
    "            print(1)\n",
    "    elif size and temp[0] == \"front\":\n",
    "        print(q[0])\n",
    "    elif size and temp[0] == \"back\":\n",
    "        print(q[-1])\n",
    "    else:\n",
    "        print(-1)\n",
    "    "
   ]
  },
  {
   "cell_type": "code",
   "execution_count": null,
   "metadata": {},
   "outputs": [],
   "source": [
    "from queue import deque\n",
    "import sys\n",
    "n = int(input())\n",
    "q = deque([])\n",
    "for _ in range(n):\n",
    "    size = len(q)\n",
    "    temp = sys.stdin.readline().split()\n",
    "    if temp[0] == \"push\":\n",
    "        q.append(temp[1])\n",
    "    elif size and temp[0] == \"pop\":\n",
    "        print(q.popleft())\n",
    "    elif temp[0] == \"size\":\n",
    "        print(len(q))\n",
    "    elif temp[0] == \"empty\":\n",
    "        if size:\n",
    "            print(0)\n",
    "        else:\n",
    "            print(1)\n",
    "    elif size and temp[0] == \"front\":\n",
    "        print(q[0])\n",
    "    elif size and temp[0] == \"back\":\n",
    "        print(q[-1])\n",
    "    else:\n",
    "        print(-1)\n",
    "    "
   ]
  },
  {
   "cell_type": "markdown",
   "metadata": {},
   "source": [
    "# 카드2"
   ]
  },
  {
   "cell_type": "code",
   "execution_count": 51,
   "metadata": {},
   "outputs": [
    {
     "name": "stdout",
     "output_type": "stream",
     "text": [
      "4\n"
     ]
    }
   ],
   "source": [
    "from queue import deque\n",
    "\n",
    "n = int(input())\n",
    "q = deque([i for i in range(1, n + 1)])\n",
    "\n",
    "while len(q) > 1:\n",
    "    q.popleft()\n",
    "    q.append(q.popleft())\n",
    "\n",
    "print(q[0])\n"
   ]
  },
  {
   "cell_type": "markdown",
   "metadata": {},
   "source": [
    "# 뱀"
   ]
  },
  {
   "cell_type": "code",
   "execution_count": null,
   "metadata": {},
   "outputs": [],
   "source": [
    "from collections import deque\n",
    "\n",
    "def direction_change(d, c):\n",
    "    if c == \"L\":\n",
    "        d = (d - 1) % 4\n",
    "    else:\n",
    "        d = (d + 1) % 4\n",
    "    return d\n",
    "\n",
    "n = int(input())\n",
    "k = int(input())\n",
    "maps = [[0] * n for _ in range(n)]\n",
    "\n",
    "for _ in range(k):\n",
    "    a, b = map(int, input().split())\n",
    "    maps[a - 1][b - 1] = 1\n",
    "\n",
    "l = int(input())\n",
    "times = {}\n",
    "for i in range(l):\n",
    "    x, c = input().split()\n",
    "    times[int(x)] = c\n",
    "\n",
    "dy = [-1, 0, 1, 0]\n",
    "dx = [0, 1, 0, -1]\n",
    "\n",
    "direction = 1\n",
    "time = 1\n",
    "y, x = 0, 0\n",
    "snake = deque([[y, x]])\n",
    "maps[y][x] = 2\n",
    "\n",
    "while True:\n",
    "    y, x = y + dy[direction], x + dx[direction]\n",
    "    if 0 <= y < n and 0 <= x < n and maps[y][x] != 2:\n",
    "        if not maps[y][x] == 1:\n",
    "            delY, delX = snake.popleft()\n",
    "            maps[delY][delX] = 0\n",
    "        maps[y][x] = 2\n",
    "        snake.append([y, x])\n",
    "        if time in times.keys():\n",
    "            direction = direction_change(direction, times[time])\n",
    "        time += 1\n",
    "    else:\n",
    "        break\n",
    "\n",
    "print(time)"
   ]
  }
 ],
 "metadata": {
  "interpreter": {
   "hash": "435c7524b81c754d2a38f9b1930a50d7a83318eec9a7b6faab8c4b8cfd59b603"
  },
  "kernelspec": {
   "display_name": "Python 3.8.10 64-bit",
   "language": "python",
   "name": "python3"
  },
  "language_info": {
   "codemirror_mode": {
    "name": "ipython",
    "version": 3
   },
   "file_extension": ".py",
   "mimetype": "text/x-python",
   "name": "python",
   "nbconvert_exporter": "python",
   "pygments_lexer": "ipython3",
   "version": "3.8.10"
  },
  "orig_nbformat": 4
 },
 "nbformat": 4,
 "nbformat_minor": 2
}
