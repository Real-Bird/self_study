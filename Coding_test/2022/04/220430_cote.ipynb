{
 "cells": [
  {
   "cell_type": "markdown",
   "metadata": {},
   "source": [
    "# CLASS 3"
   ]
  },
  {
   "cell_type": "markdown",
   "metadata": {},
   "source": [
    "## 듣보잡"
   ]
  },
  {
   "cell_type": "code",
   "execution_count": 11,
   "metadata": {},
   "outputs": [
    {
     "name": "stdout",
     "output_type": "stream",
     "text": [
      "2\n",
      "baesangwook\n",
      "ohhenrie\n"
     ]
    }
   ],
   "source": [
    "n, m = map(int, input().split())\n",
    "noHear = set()\n",
    "noSee = set()\n",
    "\n",
    "for _ in range(n):\n",
    "    noHear.add(input().rstrip())\n",
    "\n",
    "for _ in range(m):\n",
    "    noSee.add(input().rstrip())\n",
    "\n",
    "noHearSee = sorted(list(noHear & noSee))\n",
    "\n",
    "print(len(noHearSee))\n",
    "for i in noHearSee:\n",
    "    print(i)"
   ]
  },
  {
   "cell_type": "markdown",
   "metadata": {},
   "source": [
    "## 비밀번호 찾기"
   ]
  },
  {
   "cell_type": "code",
   "execution_count": 12,
   "metadata": {},
   "outputs": [
    {
     "name": "stdout",
     "output_type": "stream",
     "text": [
      "THEKINGOD\n",
      "UAENA\n",
      "IU\n",
      "ADREAMER\n"
     ]
    }
   ],
   "source": [
    "n, m = map(int, input().split())\n",
    "memo = {}\n",
    "for _ in range(n):\n",
    "    site, pwd = input().split()\n",
    "    memo[site] = pwd\n",
    "\n",
    "for _ in range(m):\n",
    "    search = input().rstrip()\n",
    "    print(memo[search])"
   ]
  },
  {
   "cell_type": "code",
   "execution_count": null,
   "metadata": {},
   "outputs": [],
   "source": []
  }
 ],
 "metadata": {
  "interpreter": {
   "hash": "435c7524b81c754d2a38f9b1930a50d7a83318eec9a7b6faab8c4b8cfd59b603"
  },
  "kernelspec": {
   "display_name": "Python 3.8.10 64-bit",
   "language": "python",
   "name": "python3"
  },
  "language_info": {
   "codemirror_mode": {
    "name": "ipython",
    "version": 3
   },
   "file_extension": ".py",
   "mimetype": "text/x-python",
   "name": "python",
   "nbconvert_exporter": "python",
   "pygments_lexer": "ipython3",
   "version": "3.8.10"
  },
  "orig_nbformat": 4
 },
 "nbformat": 4,
 "nbformat_minor": 2
}
