{
 "cells": [
  {
   "cell_type": "markdown",
   "metadata": {},
   "source": [
    "# CLASS 2++"
   ]
  },
  {
   "cell_type": "markdown",
   "metadata": {},
   "source": [
    "## 스택 수열"
   ]
  },
  {
   "cell_type": "code",
   "execution_count": 5,
   "metadata": {},
   "outputs": [
    {
     "name": "stdout",
     "output_type": "stream",
     "text": [
      "+\n",
      "+\n",
      "+\n",
      "+\n",
      "-\n",
      "-\n",
      "+\n",
      "+\n",
      "-\n",
      "+\n",
      "+\n",
      "-\n",
      "-\n",
      "-\n",
      "-\n",
      "-\n"
     ]
    }
   ],
   "source": [
    "n = int(input())\n",
    "arr = []\n",
    "stack = []\n",
    "count = 1\n",
    "temp = True\n",
    "\n",
    "for i in range(n):\n",
    "    num = int(input())\n",
    "    while count <= num:\n",
    "        arr.append(count)\n",
    "        stack.append(\"+\")\n",
    "        count += 1\n",
    "    if arr[-1] == num:\n",
    "        arr.pop()\n",
    "        stack.append(\"-\")\n",
    "    else:\n",
    "        temp = False\n",
    "\n",
    "if temp == False:\n",
    "    print(\"NO\")\n",
    "else:\n",
    "    for i in stack:\n",
    "        print(i)"
   ]
  },
  {
   "cell_type": "markdown",
   "metadata": {},
   "source": [
    "## 소수 구하기"
   ]
  },
  {
   "cell_type": "code",
   "execution_count": 13,
   "metadata": {},
   "outputs": [
    {
     "name": "stdout",
     "output_type": "stream",
     "text": [
      "3\n",
      "5\n",
      "7\n",
      "11\n",
      "13\n",
      "17\n"
     ]
    }
   ],
   "source": [
    "def is_prime_num(n):\n",
    "    arr = [True] * (n + 1)\n",
    "    arr[0] = False\n",
    "    arr[1] = False\n",
    "\n",
    "    for i in range(2, n + 1):\n",
    "        if arr[i] == True:\n",
    "            j = 2\n",
    "\n",
    "            while (i * j) <= n:\n",
    "                arr[i*j] = False\n",
    "                j += 1\n",
    "\n",
    "    return arr\n",
    "\n",
    "m, n = map(int, input().split())\n",
    "\n",
    "arr = is_prime_num(n)\n",
    "\n",
    "for i in range(m, n + 1):\n",
    "    if arr[i] == True:\n",
    "        print(i)"
   ]
  },
  {
   "cell_type": "markdown",
   "metadata": {},
   "source": [
    "## 프린터 큐"
   ]
  },
  {
   "cell_type": "code",
   "execution_count": 21,
   "metadata": {},
   "outputs": [
    {
     "name": "stdout",
     "output_type": "stream",
     "text": [
      "1\n",
      "2\n",
      "5\n"
     ]
    }
   ],
   "source": [
    "t = int(input())\n",
    "for _ in range(t):\n",
    "    each, doc = map(int, input().split())\n",
    "    important = list(map(int, input().split()))\n",
    "    q = [0 for _ in range(each)]\n",
    "    q[doc] = 1\n",
    "    cnt = 0\n",
    "    while True:\n",
    "        if important[0] == max(important):\n",
    "            cnt += 1\n",
    "            if q[0] == 1:\n",
    "                print(cnt)\n",
    "                break\n",
    "            else:\n",
    "                del important[0]\n",
    "                del q[0]\n",
    "        else:\n",
    "            important.append(important[0])\n",
    "            del important[0]\n",
    "            q.append(q[0])\n",
    "            del q[0]"
   ]
  },
  {
   "cell_type": "code",
   "execution_count": null,
   "metadata": {},
   "outputs": [],
   "source": [
    " "
   ]
  }
 ],
 "metadata": {
  "interpreter": {
   "hash": "435c7524b81c754d2a38f9b1930a50d7a83318eec9a7b6faab8c4b8cfd59b603"
  },
  "kernelspec": {
   "display_name": "Python 3.8.10 64-bit",
   "language": "python",
   "name": "python3"
  },
  "language_info": {
   "codemirror_mode": {
    "name": "ipython",
    "version": 3
   },
   "file_extension": ".py",
   "mimetype": "text/x-python",
   "name": "python",
   "nbconvert_exporter": "python",
   "pygments_lexer": "ipython3",
   "version": "3.8.10"
  },
  "orig_nbformat": 4
 },
 "nbformat": 4,
 "nbformat_minor": 2
}
