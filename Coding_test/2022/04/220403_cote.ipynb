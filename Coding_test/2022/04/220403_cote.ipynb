{
 "cells": [
  {
   "cell_type": "markdown",
   "metadata": {},
   "source": [
    "# 검증수"
   ]
  },
  {
   "cell_type": "code",
   "execution_count": 1,
   "metadata": {},
   "outputs": [
    {
     "name": "stdout",
     "output_type": "stream",
     "text": [
      "1\n"
     ]
    }
   ],
   "source": [
    "rict_nums = list(map(int, input().split()))\n",
    "inspect_nums = sum([i**2 for i in rict_nums]) % 10\n",
    "\n",
    "print(inspect_nums)\n"
   ]
  },
  {
   "cell_type": "markdown",
   "metadata": {},
   "source": [
    "# A+B - 2"
   ]
  },
  {
   "cell_type": "code",
   "execution_count": 2,
   "metadata": {},
   "outputs": [
    {
     "name": "stdout",
     "output_type": "stream",
     "text": [
      "3\n"
     ]
    }
   ],
   "source": [
    "a = int(input())\n",
    "b = int(input())\n",
    "\n",
    "print(a + b)"
   ]
  },
  {
   "cell_type": "markdown",
   "metadata": {},
   "source": [
    "# 파티가 끝나고 난 뒤"
   ]
  },
  {
   "cell_type": "code",
   "execution_count": 3,
   "metadata": {},
   "outputs": [
    {
     "name": "stdout",
     "output_type": "stream",
     "text": [
      "0 0 0 0 0 "
     ]
    }
   ],
   "source": [
    "l, p = map(int, input().split())\n",
    "participant = list(map(int, input().split()))\n",
    "\n",
    "for i in participant:\n",
    "    print(i - l * p, end=\" \")"
   ]
  },
  {
   "cell_type": "markdown",
   "metadata": {},
   "source": [
    "# 저작권"
   ]
  },
  {
   "cell_type": "code",
   "execution_count": 17,
   "metadata": {},
   "outputs": [
    {
     "name": "stdout",
     "output_type": "stream",
     "text": [
      "875\n"
     ]
    }
   ],
   "source": [
    "songs, avg = map(int, input().split())\n",
    "\n",
    "melody = songs * avg - songs + 1\n",
    "\n",
    "print(melody)"
   ]
  },
  {
   "cell_type": "markdown",
   "metadata": {},
   "source": [
    "# 킹, 퀸, 룩, 비숍, 나이트, 폰"
   ]
  },
  {
   "cell_type": "code",
   "execution_count": 21,
   "metadata": {},
   "outputs": [
    {
     "name": "stdout",
     "output_type": "stream",
     "text": [
      "1 0 0 0 0 1 "
     ]
    }
   ],
   "source": [
    "correct = [1,1,2,2,2,8]\n",
    "white = list(map(int, input().split()))\n",
    "\n",
    "for i in range(len(correct)):\n",
    "    print(correct[i] - white[i], end=\" \")"
   ]
  },
  {
   "cell_type": "markdown",
   "metadata": {},
   "source": [
    "# R2"
   ]
  },
  {
   "cell_type": "code",
   "execution_count": 22,
   "metadata": {},
   "outputs": [
    {
     "name": "stdout",
     "output_type": "stream",
     "text": [
      "19\n"
     ]
    }
   ],
   "source": [
    "r1, s = map(int, input().split())\n",
    "\n",
    "r2 = s * 2 - r1\n",
    "\n",
    "print(r2)"
   ]
  },
  {
   "cell_type": "markdown",
   "metadata": {},
   "source": [
    "# 마이크로소프트 로고"
   ]
  },
  {
   "cell_type": "code",
   "execution_count": 24,
   "metadata": {},
   "outputs": [
    {
     "name": "stdout",
     "output_type": "stream",
     "text": [
      "       _.-;;-._ \n",
      "'-..-'|   ||   |\n",
      "'-..-'|_.-;;-._|\n",
      "'-..-'|   ||   |\n",
      "'-..-'|_.-''-._|\n"
     ]
    }
   ],
   "source": [
    "print(\"       _.-;;-._ \")\n",
    "print(\"'-..-'|   ||   |\")\n",
    "print(\"'-..-'|_.-;;-._|\")\n",
    "print(\"'-..-'|   ||   |\")\n",
    "print(\"'-..-'|_.-''-._|\")"
   ]
  },
  {
   "cell_type": "markdown",
   "metadata": {},
   "source": [
    "# 콜센터"
   ]
  },
  {
   "cell_type": "code",
   "execution_count": 25,
   "metadata": {},
   "outputs": [
    {
     "name": "stdout",
     "output_type": "stream",
     "text": [
      "     /~\\\n",
      "    ( oo|\n",
      "    _\\=/_\n",
      "   /  _  \\\n",
      "  //|/.\\|\\\\\n",
      " ||  \\ /  ||\n",
      "============\n",
      "|          |\n",
      "|          |\n",
      "|          |\n"
     ]
    }
   ],
   "source": [
    "print(\"     /~\\\\\")\n",
    "print(\"    ( oo|\")\n",
    "print(\"    _\\=/_\")\n",
    "print(\"   /  _  \\\\\")\n",
    "print(\"  //|/.\\|\\\\\\\\\")\n",
    "print(\" ||  \\ /  ||\")\n",
    "print(\"============\")\n",
    "print(\"|          |\")\n",
    "print(\"|          |\")\n",
    "print(\"|          |\")"
   ]
  },
  {
   "cell_type": "markdown",
   "metadata": {},
   "source": [
    "# 카드 게임"
   ]
  },
  {
   "cell_type": "code",
   "execution_count": 27,
   "metadata": {},
   "outputs": [
    {
     "name": "stdout",
     "output_type": "stream",
     "text": [
      "15\n"
     ]
    }
   ],
   "source": [
    "total = 0\n",
    "for _ in range(5):\n",
    "    total += int(input())\n",
    "\n",
    "print(total)"
   ]
  },
  {
   "cell_type": "code",
   "execution_count": null,
   "metadata": {},
   "outputs": [],
   "source": []
  }
 ],
 "metadata": {
  "interpreter": {
   "hash": "435c7524b81c754d2a38f9b1930a50d7a83318eec9a7b6faab8c4b8cfd59b603"
  },
  "kernelspec": {
   "display_name": "Python 3.8.10 64-bit",
   "language": "python",
   "name": "python3"
  },
  "language_info": {
   "codemirror_mode": {
    "name": "ipython",
    "version": 3
   },
   "file_extension": ".py",
   "mimetype": "text/x-python",
   "name": "python",
   "nbconvert_exporter": "python",
   "pygments_lexer": "ipython3",
   "version": "3.8.10"
  },
  "orig_nbformat": 4
 },
 "nbformat": 4,
 "nbformat_minor": 2
}
