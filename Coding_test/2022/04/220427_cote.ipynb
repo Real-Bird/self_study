{
 "cells": [
  {
   "cell_type": "markdown",
   "metadata": {},
   "source": [
    "# 이분탐색"
   ]
  },
  {
   "cell_type": "markdown",
   "metadata": {},
   "source": [
    "## 수 찾기"
   ]
  },
  {
   "cell_type": "code",
   "execution_count": 4,
   "metadata": {},
   "outputs": [
    {
     "name": "stdout",
     "output_type": "stream",
     "text": [
      "1\n",
      "1\n",
      "0\n",
      "0\n",
      "1\n"
     ]
    }
   ],
   "source": [
    "def binary_search(arr, start, end, target):\n",
    "    mid = (start + end) // 2\n",
    "    if start > end:\n",
    "        return print(0)\n",
    "    if arr[mid] == target:\n",
    "        return print(1)\n",
    "    elif arr[mid] >= target:\n",
    "        return binary_search(arr, start, mid - 1, target)\n",
    "    else:\n",
    "        return binary_search(arr, mid + 1, end, target)\n",
    "\n",
    "n = int(input())\n",
    "n_arr = list(map(int, input().split()))\n",
    "n_arr.sort()\n",
    "m = int(input())\n",
    "m_arr = list(map(int, input().split()))\n",
    "\n",
    "for i in range(m):\n",
    "    binary_search(n_arr, 0, m - 1, m_arr[i])"
   ]
  },
  {
   "cell_type": "code",
   "execution_count": 5,
   "metadata": {},
   "outputs": [
    {
     "name": "stdout",
     "output_type": "stream",
     "text": [
      "1\n",
      "1\n",
      "0\n",
      "0\n",
      "1\n"
     ]
    }
   ],
   "source": [
    "n = int(input())\n",
    "n_arr = list(map(int, input().split()))\n",
    "n_arr.sort()\n",
    "\n",
    "def binary_search(target):\n",
    "    start = 0 \n",
    "    end = n - 1\n",
    "    while start <= end:\n",
    "        mid = (start + end) // 2\n",
    "        if n_arr[mid] == target:\n",
    "            return print(1)\n",
    "        elif n_arr[mid] <= target:\n",
    "            start = mid + 1\n",
    "        else:\n",
    "            end = mid - 1\n",
    "    return print(0)\n",
    "\n",
    "m = int(input())\n",
    "m_arr = list(map(int, input().split()))\n",
    "for i in range(m):\n",
    "    binary_search(m_arr[i])"
   ]
  },
  {
   "cell_type": "markdown",
   "metadata": {},
   "source": [
    "## 랜선 자르기"
   ]
  },
  {
   "cell_type": "code",
   "execution_count": 7,
   "metadata": {},
   "outputs": [
    {
     "name": "stdout",
     "output_type": "stream",
     "text": [
      "200\n"
     ]
    }
   ],
   "source": [
    "k, n = map(int, input().split())\n",
    "lan = []\n",
    "for i in range(k):\n",
    "    lan.append(int(input()))\n",
    "start, end = 0, (2 ** 31 - 1)\n",
    "answer = 0\n",
    "while start <= end:\n",
    "    mid = (start + end) // 2\n",
    "    num = 0\n",
    "    for line in lan:\n",
    "        num += line // mid\n",
    "    if num >= n:\n",
    "        start = mid + 1\n",
    "        if mid > answer:\n",
    "            answer = mid\n",
    "    else:\n",
    "        end = mid - 1\n",
    "\n",
    "print(answer)"
   ]
  },
  {
   "cell_type": "markdown",
   "metadata": {},
   "source": [
    "# CLASS 3"
   ]
  },
  {
   "cell_type": "markdown",
   "metadata": {},
   "source": [
    "## 집합"
   ]
  },
  {
   "cell_type": "code",
   "execution_count": 15,
   "metadata": {},
   "outputs": [
    {
     "name": "stdout",
     "output_type": "stream",
     "text": [
      "1\n",
      "1\n",
      "0\n",
      "1\n",
      "0\n",
      "1\n",
      "0\n",
      "1\n",
      "0\n",
      "1\n",
      "1\n",
      "0\n",
      "0\n",
      "0\n",
      "1\n",
      "0\n"
     ]
    }
   ],
   "source": [
    "m = int(input())\n",
    "s = set()\n",
    "\n",
    "for _ in range(m):\n",
    "    temp = input().split()\n",
    "    if len(temp) == 1:\n",
    "        if temp[0] == \"all\":\n",
    "            s = set([i for i in range(1, 21)])\n",
    "        else:\n",
    "            s = set()\n",
    "    else:\n",
    "        oper = temp[0]\n",
    "        x = int(temp[1])\n",
    "        if oper == \"add\":\n",
    "            s.add(x)\n",
    "        elif oper == \"remove\":\n",
    "            s.discard(x)\n",
    "        elif oper == \"check\":\n",
    "            if x in s:\n",
    "                print(1)\n",
    "            else:\n",
    "                print(0)\n",
    "        elif oper == \"toggle\":\n",
    "            if x in s:\n",
    "                s.discard(x)\n",
    "            else:\n",
    "                s.add(x)"
   ]
  },
  {
   "cell_type": "markdown",
   "metadata": {},
   "source": [
    "## 팩토리얼 0의 개수"
   ]
  },
  {
   "cell_type": "code",
   "execution_count": 23,
   "metadata": {},
   "outputs": [
    {
     "name": "stdout",
     "output_type": "stream",
     "text": [
      "2\n"
     ]
    }
   ],
   "source": [
    "from math import factorial\n",
    "n = list(str(factorial(int(input()))))\n",
    "temp = reversed(n)\n",
    "\n",
    "cnt = 0\n",
    "for i in temp:\n",
    "    if i != '0':\n",
    "        break\n",
    "    cnt += 1\n",
    "\n",
    "print(cnt)"
   ]
  },
  {
   "cell_type": "code",
   "execution_count": null,
   "metadata": {},
   "outputs": [],
   "source": []
  }
 ],
 "metadata": {
  "interpreter": {
   "hash": "435c7524b81c754d2a38f9b1930a50d7a83318eec9a7b6faab8c4b8cfd59b603"
  },
  "kernelspec": {
   "display_name": "Python 3.8.10 64-bit",
   "language": "python",
   "name": "python3"
  },
  "language_info": {
   "codemirror_mode": {
    "name": "ipython",
    "version": 3
   },
   "file_extension": ".py",
   "mimetype": "text/x-python",
   "name": "python",
   "nbconvert_exporter": "python",
   "pygments_lexer": "ipython3",
   "version": "3.8.10"
  },
  "orig_nbformat": 4
 },
 "nbformat": 4,
 "nbformat_minor": 2
}
