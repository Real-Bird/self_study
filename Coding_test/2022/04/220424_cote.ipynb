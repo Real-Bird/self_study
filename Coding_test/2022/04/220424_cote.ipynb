{
 "cells": [
  {
   "cell_type": "markdown",
   "metadata": {},
   "source": [
    "# DFS"
   ]
  },
  {
   "cell_type": "markdown",
   "metadata": {},
   "source": [
    "## 부분수열의 합"
   ]
  },
  {
   "cell_type": "code",
   "execution_count": 1,
   "metadata": {},
   "outputs": [
    {
     "name": "stdout",
     "output_type": "stream",
     "text": [
      "1\n"
     ]
    }
   ],
   "source": [
    "def dfs(idx, sums):\n",
    "    global answer\n",
    "    if idx >= n:\n",
    "        return\n",
    "    sums += nums[idx]\n",
    "    if s == sums:\n",
    "        answer += 1\n",
    "    dfs(idx + 1, sums - nums[idx])\n",
    "    dfs(idx + 1, sums)\n",
    "\n",
    "n, s = map(int, input().split())\n",
    "nums = list(map(int, input().split()))\n",
    "answer = 0\n",
    "dfs(0, 0)\n",
    "print(answer)"
   ]
  },
  {
   "cell_type": "markdown",
   "metadata": {},
   "source": [
    "## DFS와 BFS"
   ]
  },
  {
   "cell_type": "code",
   "execution_count": 1,
   "metadata": {},
   "outputs": [
    {
     "name": "stdout",
     "output_type": "stream",
     "text": [
      "1 2 4 3 \n",
      "1 2 3 4 "
     ]
    }
   ],
   "source": [
    "from collections import deque\n",
    "\n",
    "n, m, v = map(int, input().split())\n",
    "vertex = [[0]*(n+1) for _ in range(n+1)]\n",
    "\n",
    "for _ in range(m):\n",
    "    a, b = map(int, input().split())\n",
    "    vertex[a][b] = vertex[b][a] = 1\n",
    "visit = [0] * (n+1)\n",
    "\n",
    "def dfs(v):\n",
    "    visit[v] = 1\n",
    "    print(v, end=\" \")\n",
    "    for i in range(1, n+1):\n",
    "        if visit[i] == 0 and vertex[v][i] == 1:\n",
    "            dfs(i)\n",
    "\n",
    "def bfs(v):\n",
    "    visit[v] = 0\n",
    "    q = deque()\n",
    "    q.append(v)\n",
    "    while q:\n",
    "        v = q.popleft()\n",
    "        print(v, end=\" \")\n",
    "        for i in range(1, n+1):\n",
    "            if visit[i] == 1 and vertex[v][i] == 1:\n",
    "                q.append(i)\n",
    "                visit[i] = 0\n",
    "\n",
    "dfs(v)\n",
    "print()\n",
    "bfs(v)"
   ]
  },
  {
   "cell_type": "code",
   "execution_count": null,
   "metadata": {},
   "outputs": [],
   "source": []
  }
 ],
 "metadata": {
  "interpreter": {
   "hash": "435c7524b81c754d2a38f9b1930a50d7a83318eec9a7b6faab8c4b8cfd59b603"
  },
  "kernelspec": {
   "display_name": "Python 3.8.10 64-bit",
   "language": "python",
   "name": "python3"
  },
  "language_info": {
   "codemirror_mode": {
    "name": "ipython",
    "version": 3
   },
   "file_extension": ".py",
   "mimetype": "text/x-python",
   "name": "python",
   "nbconvert_exporter": "python",
   "pygments_lexer": "ipython3",
   "version": "3.8.10"
  },
  "orig_nbformat": 4
 },
 "nbformat": 4,
 "nbformat_minor": 2
}
