{
 "cells": [
  {
   "cell_type": "markdown",
   "metadata": {},
   "source": [
    "# 심부름 가는 길"
   ]
  },
  {
   "cell_type": "code",
   "execution_count": 1,
   "metadata": {},
   "outputs": [
    {
     "name": "stdout",
     "output_type": "stream",
     "text": [
      "3\n",
      "43\n"
     ]
    }
   ],
   "source": [
    "times = [int(input()) for _ in range(4)]\n",
    "\n",
    "print(sum(times)//60)\n",
    "print(sum(times)%60)"
   ]
  },
  {
   "cell_type": "markdown",
   "metadata": {},
   "source": [
    "# Next in line"
   ]
  },
  {
   "cell_type": "code",
   "execution_count": 2,
   "metadata": {},
   "outputs": [
    {
     "name": "stdout",
     "output_type": "stream",
     "text": [
      "18\n"
     ]
    }
   ],
   "source": [
    "children = [int(input()) for _ in range(2)]\n",
    "\n",
    "children[1] += children[1] - children[0]\n",
    "\n",
    "print(children[1])"
   ]
  },
  {
   "cell_type": "markdown",
   "metadata": {},
   "source": [
    "# 등록"
   ]
  },
  {
   "cell_type": "code",
   "execution_count": 3,
   "metadata": {},
   "outputs": [
    {
     "name": "stdout",
     "output_type": "stream",
     "text": [
      "123\n",
      "Your_ICPC_Team_Name\n"
     ]
    }
   ],
   "source": [
    "print(39)\n",
    "print(\"notzzing\")"
   ]
  },
  {
   "cell_type": "markdown",
   "metadata": {},
   "source": [
    "# Plane"
   ]
  },
  {
   "cell_type": "code",
   "execution_count": 4,
   "metadata": {},
   "outputs": [
    {
     "name": "stdout",
     "output_type": "stream",
     "text": [
      "70\n"
     ]
    }
   ],
   "source": [
    "n1, k1, n2, k2 = map(int, input().split())\n",
    "\n",
    "print(n1*k1 + n2*k2)"
   ]
  },
  {
   "cell_type": "markdown",
   "metadata": {},
   "source": [
    "# Julka"
   ]
  },
  {
   "cell_type": "code",
   "execution_count": 6,
   "metadata": {},
   "outputs": [
    {
     "name": "stdout",
     "output_type": "stream",
     "text": [
      "6\n",
      "4\n"
     ]
    }
   ],
   "source": [
    "apples = int(input())\n",
    "moreKlaudia = int(input())\n",
    "\n",
    "natalia = (apples - moreKlaudia) // 2\n",
    "klaudia = natalia + moreKlaudia\n",
    "\n",
    "print(klaudia)\n",
    "print(natalia)"
   ]
  },
  {
   "cell_type": "markdown",
   "metadata": {},
   "source": [
    "# Zadanie próbne 2"
   ]
  },
  {
   "cell_type": "code",
   "execution_count": 7,
   "metadata": {},
   "outputs": [
    {
     "name": "stdout",
     "output_type": "stream",
     "text": [
      "12 18\n"
     ]
    }
   ],
   "source": [
    "n = int(input())\n",
    "\n",
    "min_cnt = (n + 1) * 2\n",
    "max_cnt = (n + 1) * 3\n",
    "\n",
    "print(min_cnt, max_cnt)"
   ]
  },
  {
   "cell_type": "markdown",
   "metadata": {},
   "source": [
    "# 스타워즈 로고"
   ]
  },
  {
   "cell_type": "code",
   "execution_count": 8,
   "metadata": {},
   "outputs": [
    {
     "name": "stdout",
     "output_type": "stream",
     "text": [
      "    8888888888  888    88888\n",
      "   88     88   88 88   88  88\n",
      "    8888  88  88   88  88888\n",
      "       88 88 888888888 88   88\n",
      "88888888  88 88     88 88    888888\n",
      "\n",
      "88  88  88   888    88888    888888\n",
      "88  88  88  88 88   88  88  88\n",
      "88 8888 88 88   88  88888    8888\n",
      " 888  888 888888888 88  88      88\n",
      "  88  88  88     88 88   88888888\n"
     ]
    }
   ],
   "source": [
    "print(\"    8888888888  888    88888\")\n",
    "print(\"   88     88   88 88   88  88\")\n",
    "print(\"    8888  88  88   88  88888\")\n",
    "print(\"       88 88 888888888 88   88\")\n",
    "print(\"88888888  88 88     88 88    888888\")\n",
    "print()\n",
    "print(\"88  88  88   888    88888    888888\")\n",
    "print(\"88  88  88  88 88   88  88  88\")\n",
    "print(\"88 8888 88 88   88  88888    8888\")\n",
    "print(\" 888  888 888888888 88  88      88\")\n",
    "print(\"  88  88  88     88 88   88888888\")"
   ]
  },
  {
   "cell_type": "markdown",
   "metadata": {},
   "source": [
    "# 나부 함대 데이터"
   ]
  },
  {
   "cell_type": "code",
   "execution_count": 9,
   "metadata": {},
   "outputs": [
    {
     "name": "stdout",
     "output_type": "stream",
     "text": [
      "SHIP NAME      CLASS          DEPLOYMENT IN SERVICE\n",
      "N2 Bomber      Heavy Fighter  Limited    21        \n",
      "J-Type 327     Light Combat   Unlimited  1         \n",
      "NX Cruiser     Medium Fighter Limited    18        \n",
      "N1 Starfighter Medium Fighter Unlimited  25        \n",
      "Royal Cruiser  Light Combat   Limited    4         \n"
     ]
    }
   ],
   "source": [
    "print(\"SHIP NAME      CLASS          DEPLOYMENT IN SERVICE\")\n",
    "print(\"N2 Bomber      Heavy Fighter  Limited    21        \")\n",
    "print(\"J-Type 327     Light Combat   Unlimited  1         \")\n",
    "print(\"NX Cruiser     Medium Fighter Limited    18        \")\n",
    "print(\"N1 Starfighter Medium Fighter Unlimited  25        \")\n",
    "print(\"Royal Cruiser  Light Combat   Limited    4         \")"
   ]
  },
  {
   "cell_type": "markdown",
   "metadata": {},
   "source": [
    "# NFC West vs North"
   ]
  },
  {
   "cell_type": "code",
   "execution_count": 10,
   "metadata": {},
   "outputs": [
    {
     "name": "stdout",
     "output_type": "stream",
     "text": [
      "NFC West       W   L  T\n",
      "-----------------------\n",
      "Seattle        13  3  0\n",
      "San Francisco  12  4  0\n",
      "Arizona        10  6  0\n",
      "St. Louis      7   9  0\n",
      "\n",
      "NFC North      W   L  T\n",
      "-----------------------\n",
      "Green Bay      8   7  1\n",
      "Chicago        8   8  0\n",
      "Detroit        7   9  0\n",
      "Minnesota      5  10  1\n"
     ]
    }
   ],
   "source": [
    "print(\"NFC West       W   L  T\")\n",
    "print(\"-----------------------\")\n",
    "print(\"Seattle        13  3  0\")\n",
    "print(\"San Francisco  12  4  0\")\n",
    "print(\"Arizona        10  6  0\")\n",
    "print(\"St. Louis      7   9  0\\n\")\n",
    "print(\"NFC North      W   L  T\")\n",
    "print(\"-----------------------\")\n",
    "print(\"Green Bay      8   7  1\")\n",
    "print(\"Chicago        8   8  0\")\n",
    "print(\"Detroit        7   9  0\")\n",
    "print(\"Minnesota      5  10  1\")"
   ]
  },
  {
   "cell_type": "markdown",
   "metadata": {},
   "source": [
    "# 오늘 날짜"
   ]
  },
  {
   "cell_type": "code",
   "execution_count": 11,
   "metadata": {},
   "outputs": [
    {
     "name": "stdout",
     "output_type": "stream",
     "text": [
      "2022-04-04\n"
     ]
    }
   ],
   "source": [
    "import datetime\n",
    "print(datetime.datetime.now().strftime(\"%Y-%m-%d\"))"
   ]
  },
  {
   "cell_type": "markdown",
   "metadata": {},
   "source": [
    "# 큰 수 A+B"
   ]
  },
  {
   "cell_type": "code",
   "execution_count": 12,
   "metadata": {},
   "outputs": [
    {
     "name": "stdout",
     "output_type": "stream",
     "text": [
      "18446744073709551615\n"
     ]
    }
   ],
   "source": [
    "a, b = map(int, input().split())\n",
    "print(a+b)"
   ]
  },
  {
   "cell_type": "markdown",
   "metadata": {},
   "source": [
    "# ??!"
   ]
  },
  {
   "cell_type": "code",
   "execution_count": 13,
   "metadata": {},
   "outputs": [
    {
     "name": "stdout",
     "output_type": "stream",
     "text": [
      "joonas??!\n"
     ]
    }
   ],
   "source": [
    "exist_id = input()\n",
    "print(exist_id + \"??!\")"
   ]
  },
  {
   "cell_type": "markdown",
   "metadata": {},
   "source": [
    "# 한글"
   ]
  },
  {
   "cell_type": "code",
   "execution_count": 32,
   "metadata": {},
   "outputs": [
    {
     "name": "stdout",
     "output_type": "stream",
     "text": [
      "힣\n"
     ]
    }
   ],
   "source": [
    "# utf-8에서 한글은 44032부터\n",
    "\n",
    "print(chr(44031 + int(input())))"
   ]
  },
  {
   "cell_type": "markdown",
   "metadata": {},
   "source": [
    "# 한글 2"
   ]
  },
  {
   "cell_type": "code",
   "execution_count": 34,
   "metadata": {},
   "outputs": [
    {
     "name": "stdout",
     "output_type": "stream",
     "text": [
      "11172\n"
     ]
    }
   ],
   "source": [
    "print(ord(input()) - 44031)"
   ]
  },
  {
   "cell_type": "markdown",
   "metadata": {},
   "source": [
    "# 꼬마 정민"
   ]
  },
  {
   "cell_type": "code",
   "execution_count": 35,
   "metadata": {},
   "outputs": [
    {
     "name": "stdout",
     "output_type": "stream",
     "text": [
      "7931\n"
     ]
    }
   ],
   "source": [
    "a, b, c = map(int, input().split())\n",
    "print(a + b + c)"
   ]
  },
  {
   "cell_type": "markdown",
   "metadata": {},
   "source": [
    "# 아스키 코드"
   ]
  },
  {
   "cell_type": "code",
   "execution_count": 37,
   "metadata": {},
   "outputs": [
    {
     "name": "stdout",
     "output_type": "stream",
     "text": [
      "65\n"
     ]
    }
   ],
   "source": [
    "print(ord(input()))"
   ]
  },
  {
   "cell_type": "markdown",
   "metadata": {},
   "source": [
    "# 스택"
   ]
  },
  {
   "cell_type": "code",
   "execution_count": 1,
   "metadata": {},
   "outputs": [],
   "source": [
    "import sys\n",
    "\n",
    "n = int(input())\n",
    "\n",
    "arr = []\n",
    "for _ in range(n):\n",
    "    size = len(arr)\n",
    "    temp = input().split()\n",
    "    if temp[0] == \"push\":\n",
    "        arr.append(int(temp[1]))\n",
    "    elif size and temp[0] == \"pop\":\n",
    "        print(arr.pop())\n",
    "    elif temp[0] == \"size\":\n",
    "        print(size)\n",
    "    elif size and temp[0] == \"top\":\n",
    "        print(arr[-1])\n",
    "    elif size and temp[0] == \"empty\":\n",
    "        print(0)\n",
    "    else:\n",
    "        print(-1)"
   ]
  },
  {
   "cell_type": "code",
   "execution_count": null,
   "metadata": {},
   "outputs": [],
   "source": [
    "import sys\n",
    "\n",
    "n = int(sys.stdin.readline())\n",
    "\n",
    "arr = []\n",
    "for _ in range(n):\n",
    "    temp = sys.stdin.readline().split()\n",
    "    if len(temp) == 2:\n",
    "        arr.append(int(temp[1]))\n",
    "    elif temp[0] == \"pop\":\n",
    "        if len(arr) == 0:\n",
    "            print(-1)\n",
    "        else:\n",
    "            print(arr.pop())\n",
    "    elif temp[0] == \"size\":\n",
    "        print(len(arr))\n",
    "    elif temp[0] == \"top\":\n",
    "        if len(arr) == 0:\n",
    "            print(-1)\n",
    "        else:\n",
    "            print(arr[-1])\n",
    "    else:\n",
    "        if len(arr):\n",
    "            print(0)\n",
    "        else:\n",
    "            print(1)"
   ]
  },
  {
   "cell_type": "markdown",
   "metadata": {},
   "source": [
    "# 쇠막대기"
   ]
  },
  {
   "cell_type": "code",
   "execution_count": 1,
   "metadata": {},
   "outputs": [
    {
     "name": "stdout",
     "output_type": "stream",
     "text": [
      "17\n"
     ]
    }
   ],
   "source": [
    "metal_sticks = input()\n",
    "stack = []\n",
    "answer = 0\n",
    "\n",
    "for i in range(len(metal_sticks)):\n",
    "    if metal_sticks[i]==\"(\":\n",
    "        stack.append(metal_sticks[i])\n",
    "    else:\n",
    "        if metal_sticks[i - 1] == \"(\":\n",
    "            stack.pop()\n",
    "            answer += len(stack)\n",
    "        else:\n",
    "            stack.pop()\n",
    "            answer += 1\n",
    "\n",
    "print(answer)"
   ]
  },
  {
   "cell_type": "markdown",
   "metadata": {},
   "source": [
    "# 크게 만들기"
   ]
  },
  {
   "cell_type": "code",
   "execution_count": 4,
   "metadata": {},
   "outputs": [
    {
     "name": "stdout",
     "output_type": "stream",
     "text": [
      "94\n"
     ]
    }
   ],
   "source": [
    "n, k = map(int, input().split())\n",
    "number = list(input())\n",
    "answer = []\n",
    "cnt = k\n",
    "\n",
    "for num in number:\n",
    "    while answer and cnt>0 and answer[-1] < num:\n",
    "        del answer[-1]\n",
    "        cnt -= 1\n",
    "    answer.append(num)\n",
    "\n",
    "print(''.join(answer[:n-k]))"
   ]
  }
 ],
 "metadata": {
  "interpreter": {
   "hash": "435c7524b81c754d2a38f9b1930a50d7a83318eec9a7b6faab8c4b8cfd59b603"
  },
  "kernelspec": {
   "display_name": "Python 3.8.10 64-bit",
   "language": "python",
   "name": "python3"
  },
  "language_info": {
   "codemirror_mode": {
    "name": "ipython",
    "version": 3
   },
   "file_extension": ".py",
   "mimetype": "text/x-python",
   "name": "python",
   "nbconvert_exporter": "python",
   "pygments_lexer": "ipython3",
   "version": "3.8.10"
  },
  "orig_nbformat": 4
 },
 "nbformat": 4,
 "nbformat_minor": 2
}
