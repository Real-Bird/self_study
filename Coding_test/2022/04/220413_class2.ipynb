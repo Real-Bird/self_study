{
 "cells": [
  {
   "cell_type": "markdown",
   "metadata": {},
   "source": [
    "# 부녀회장이 될테야"
   ]
  },
  {
   "cell_type": "code",
   "execution_count": 17,
   "metadata": {},
   "outputs": [
    {
     "name": "stdout",
     "output_type": "stream",
     "text": [
      "[1, 2, 3]\n",
      "[1, 3, 6]\n",
      "10\n"
     ]
    }
   ],
   "source": [
    "for _ in range(int(input())):\n",
    "    k = int(input())\n",
    "    n = int(input())\n",
    "    zeroFloor = [i for i in range(1, n+1)]\n",
    "\n",
    "    for i in range(k):\n",
    "        for j in range(1, n):\n",
    "            zeroFloor[j] += zeroFloor[j - 1]\n",
    "    print(zeroFloor[-1])"
   ]
  },
  {
   "cell_type": "markdown",
   "metadata": {},
   "source": [
    "# 설탕 배달"
   ]
  },
  {
   "cell_type": "code",
   "execution_count": 22,
   "metadata": {},
   "outputs": [
    {
     "name": "stdout",
     "output_type": "stream",
     "text": [
      "4\n"
     ]
    }
   ],
   "source": [
    "n = int(input())\n",
    "\n",
    "count = 0\n",
    "while  n >= 0:\n",
    "    if n % 5 == 0:\n",
    "        count += n // 5\n",
    "        print(count)\n",
    "        break\n",
    "    n -= 3\n",
    "    count += 1\n",
    "else:\n",
    "    print(-1)"
   ]
  },
  {
   "cell_type": "markdown",
   "metadata": {},
   "source": [
    "# 이항 계수 1"
   ]
  },
  {
   "cell_type": "code",
   "execution_count": 23,
   "metadata": {},
   "outputs": [
    {
     "name": "stdout",
     "output_type": "stream",
     "text": [
      "10\n"
     ]
    }
   ],
   "source": [
    "from math import factorial\n",
    "n, k = map(int, input().split())\n",
    "\n",
    "print(factorial(n)//(factorial(k) * factorial(n-k)))"
   ]
  },
  {
   "cell_type": "markdown",
   "metadata": {},
   "source": [
    "# 체스판 다시 칠하기"
   ]
  },
  {
   "cell_type": "code",
   "execution_count": 26,
   "metadata": {},
   "outputs": [
    {
     "name": "stdout",
     "output_type": "stream",
     "text": [
      "15\n"
     ]
    }
   ],
   "source": [
    "n, m = map(int, input().split())\n",
    "l = []\n",
    "mini = []\n",
    "\n",
    "for _ in range(n):\n",
    "    l.append(input())\n",
    "\n",
    "for a in range(n - 7):\n",
    "    for i in range(m - 7):\n",
    "        idx1 = 0\n",
    "        idx2 = 0\n",
    "        for b in range(a, a + 8):\n",
    "            for j in range(i, i + 8):\n",
    "                if (j + b)%2 == 0:\n",
    "                    if l[b][j] != 'W': idx1 += 1  \n",
    "                    if l[b][j] != 'B': idx2 += 1\n",
    "                else :\n",
    "                    if l[b][j] != 'B': idx1 += 1\n",
    "                    if l[b][j] != 'W': idx2 += 1\n",
    "        mini.append(idx1)\n",
    "        mini.append(idx2)\n",
    "\n",
    "print(min(mini)) "
   ]
  },
  {
   "cell_type": "code",
   "execution_count": null,
   "metadata": {},
   "outputs": [],
   "source": []
  }
 ],
 "metadata": {
  "interpreter": {
   "hash": "435c7524b81c754d2a38f9b1930a50d7a83318eec9a7b6faab8c4b8cfd59b603"
  },
  "kernelspec": {
   "display_name": "Python 3.8.10 64-bit",
   "language": "python",
   "name": "python3"
  },
  "language_info": {
   "codemirror_mode": {
    "name": "ipython",
    "version": 3
   },
   "file_extension": ".py",
   "mimetype": "text/x-python",
   "name": "python",
   "nbconvert_exporter": "python",
   "pygments_lexer": "ipython3",
   "version": "3.8.10"
  },
  "orig_nbformat": 4
 },
 "nbformat": 4,
 "nbformat_minor": 2
}
