{
 "cells": [
  {
   "cell_type": "markdown",
   "metadata": {},
   "source": [
    "# 패션왕 신해빈"
   ]
  },
  {
   "cell_type": "code",
   "execution_count": 13,
   "metadata": {},
   "outputs": [
    {
     "name": "stdout",
     "output_type": "stream",
     "text": [
      "5\n",
      "3\n"
     ]
    }
   ],
   "source": [
    "for _ in range(int(input())):\n",
    "    fashion = {}\n",
    "    answer = 1\n",
    "    for _ in range(int(input())):\n",
    "        clothes, parts = input().split()\n",
    "        if not parts in fashion:\n",
    "            fashion[parts] = 1\n",
    "        else:\n",
    "            fashion[parts] += 1\n",
    "    for i in fashion.keys():\n",
    "        answer *= (fashion[i] + 1)\n",
    "    print(answer - 1)"
   ]
  },
  {
   "cell_type": "markdown",
   "metadata": {},
   "source": [
    "# Non-zero Segments"
   ]
  },
  {
   "cell_type": "code",
   "execution_count": 14,
   "metadata": {},
   "outputs": [
    {
     "name": "stdout",
     "output_type": "stream",
     "text": [
      "1\n"
     ]
    }
   ],
   "source": [
    "n = int(input())\n",
    "nums = list(map(int, input().split()))\n",
    "prefix_sum = [0] * 200001\n",
    "maps = {}\n",
    "answer = 0\n",
    "\n",
    "maps[0] = 1\n",
    "for i in range(n):\n",
    "    prefix_sum[i] = nums[i]\n",
    "    if i != 0:\n",
    "        prefix_sum[i] += prefix_sum[i - 1]\n",
    "    if prefix_sum[i] in maps:\n",
    "        answer += 1\n",
    "        maps.clear()\n",
    "        maps[prefix_sum[i - 1]] = 1\n",
    "    maps[prefix_sum[i]] = 1\n",
    "print(answer)"
   ]
  },
  {
   "cell_type": "markdown",
   "metadata": {},
   "source": [
    "# MEX maximizing"
   ]
  },
  {
   "cell_type": "code",
   "execution_count": 17,
   "metadata": {},
   "outputs": [
    {
     "name": "stdout",
     "output_type": "stream",
     "text": [
      "1\n",
      "2\n",
      "3\n",
      "3\n",
      "4\n",
      "4\n",
      "7\n"
     ]
    }
   ],
   "source": [
    "q, x = map(int, input().split())\n",
    "maps = {}\n",
    "mex = 0\n",
    "\n",
    "for _ in range(q):\n",
    "    y = int(input())\n",
    "    if y % x in maps:\n",
    "        if y % x + x* maps[y % x] in maps:\n",
    "            maps[y % x + x * maps[y % x]] += 1\n",
    "        else:\n",
    "            maps[y % x + x * maps[y % x]] = 1\n",
    "        maps[y % x] += 1\n",
    "    else:\n",
    "        maps[y % x] = 1\n",
    "\n",
    "    while mex in maps:\n",
    "        mex += 1\n",
    "    print(mex)"
   ]
  },
  {
   "cell_type": "code",
   "execution_count": null,
   "metadata": {},
   "outputs": [],
   "source": []
  }
 ],
 "metadata": {
  "interpreter": {
   "hash": "435c7524b81c754d2a38f9b1930a50d7a83318eec9a7b6faab8c4b8cfd59b603"
  },
  "kernelspec": {
   "display_name": "Python 3.8.10 64-bit",
   "language": "python",
   "name": "python3"
  },
  "language_info": {
   "codemirror_mode": {
    "name": "ipython",
    "version": 3
   },
   "file_extension": ".py",
   "mimetype": "text/x-python",
   "name": "python",
   "nbconvert_exporter": "python",
   "pygments_lexer": "ipython3",
   "version": "3.8.10"
  },
  "orig_nbformat": 4
 },
 "nbformat": 4,
 "nbformat_minor": 2
}
