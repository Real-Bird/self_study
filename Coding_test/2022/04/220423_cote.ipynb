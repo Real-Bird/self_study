{
 "cells": [
  {
   "cell_type": "markdown",
   "metadata": {},
   "source": [
    "# BFS"
   ]
  },
  {
   "cell_type": "markdown",
   "metadata": {},
   "source": [
    "## 미로 탐색"
   ]
  },
  {
   "cell_type": "code",
   "execution_count": 5,
   "metadata": {},
   "outputs": [
    {
     "name": "stdout",
     "output_type": "stream",
     "text": [
      "15\n"
     ]
    }
   ],
   "source": [
    "from collections import deque\n",
    "\n",
    "n, m = map(int, input().split())\n",
    "maze = [list(input()) for _ in range(n)]\n",
    "\n",
    "d = [(-1, 0), (1, 0), (0, -1), (0, 1)]\n",
    "q = deque()\n",
    "q.append((0, 0))\n",
    "\n",
    "def bfs():\n",
    "    while q:\n",
    "        x, y = q.popleft()\n",
    "        for k in range(len(d)):\n",
    "            dx = x + d[k][0]\n",
    "            dy = y + d[k][1]\n",
    "            if 0 <= dx < n and 0 <= dy < m:\n",
    "                if int(maze[dx][dy]) == 1:\n",
    "                    maze[dx][dy] = int(maze[x][y]) + 1\n",
    "                    q.append((dx, dy))\n",
    "\n",
    "maze[0][0] = 1\n",
    "bfs()\n",
    "print(maze[n -1][m - 1])"
   ]
  },
  {
   "cell_type": "markdown",
   "metadata": {},
   "source": [
    "## 벽 부수고 이동하기"
   ]
  },
  {
   "cell_type": "code",
   "execution_count": 6,
   "metadata": {},
   "outputs": [
    {
     "name": "stdout",
     "output_type": "stream",
     "text": [
      "-1\n"
     ]
    }
   ],
   "source": [
    "from collections import deque\n",
    "\n",
    "dx = [0, -1, 0, 1]\n",
    "dy = [-1, 0, 1, 0]\n",
    "\n",
    "def bfs():\n",
    "    visit = [[[0]*2 for _ in range(m)] for _ in range(n)]\n",
    "    visit[0][0][0] = 1\n",
    "    while q:\n",
    "        x, y, wall = q.popleft()\n",
    "        if x == (n - 1) and y == (m - 1):\n",
    "            return visit[x][y][wall]\n",
    "        for i in range(4):\n",
    "            if 0 <= x + dx[i] < n and 0 <= y + dy[i] < m and visit[x + dx[i]][y + dy[i]][wall] == 0:\n",
    "                if Map[x + dx[i]][y + dy[i]]  == \"0\":\n",
    "                    visit[x + dx[i]][y + dy[i]][wall] = visit[x][y][wall] + 1\n",
    "                    q.append([x+dx[i], y+dy[i], wall])\n",
    "                if wall == 0 and Map[x+dx[i]][y+dy[i]] == \"1\":\n",
    "                    visit[x+dx[i]][y+dy[i]][1] = visit[x][y][0] + 1\n",
    "                    q.append([x + dx[i], y + dy[i], 1])\n",
    "    return -1\n",
    "\n",
    "n, m = map(int, input().split())\n",
    "Map = [list(input()) for _ in range(n)]\n",
    "q = deque()\n",
    "q.append([0, 0, 0])\n",
    "print(bfs())"
   ]
  },
  {
   "cell_type": "markdown",
   "metadata": {},
   "source": [
    "## 연구소"
   ]
  },
  {
   "cell_type": "code",
   "execution_count": 11,
   "metadata": {},
   "outputs": [
    {
     "name": "stdout",
     "output_type": "stream",
     "text": [
      "9\n"
     ]
    }
   ],
   "source": [
    "from collections import deque\n",
    "\n",
    "visit = [[0 for col in range(10)] for row in range(10)]\n",
    "visit2 = [[0 for col in range(10)] for row in range(10)]\n",
    "dx = [0, 0, 1, -1]\n",
    "dy = [1, -1, 0, 0]\n",
    "\n",
    "\n",
    "\n",
    "def bfs():\n",
    "    global answer\n",
    "\n",
    "    for x in range(n):\n",
    "        for y in range(m):\n",
    "            visit[x][y] = lab[x][y]\n",
    "            if lab[x][y] == 2:\n",
    "                q.append([x, y])\n",
    "\n",
    "    while q:\n",
    "        x, y = q.popleft()\n",
    "        visit[x][y] = 1\n",
    "        for i in range(4):\n",
    "            if 0 <= x+dx[i] < n and 0 <= y+dy[i] < m and lab[x + dx[i]][y + dy[i]] == 0 and visit[x + dx[i]][y + dy[i]] == 0:\n",
    "                q.append([x+dx[i], y+dy[i]])\n",
    "                visit[x+dx[i]][y+dy[i]] = 1\n",
    "\n",
    "    cnt = 0\n",
    "    for x in range(n):\n",
    "        for y in range(m):\n",
    "            if lab[x][y] == 0 and visit[x][y] == 0:\n",
    "                cnt += 1\n",
    "    answer = max(answer, cnt)\n",
    "\n",
    "def backTraking(select):\n",
    "    if select == 3:\n",
    "        bfs()\n",
    "        return\n",
    "    for x in range(n):\n",
    "        for y in range(m):\n",
    "            if not lab[x][y] and not visit2[x][y]:\n",
    "                visit2[x][y] = 1\n",
    "                lab[x][y] = 1\n",
    "                backTraking(select + 1)\n",
    "                lab[x][y] = 0\n",
    "                visit2[x][y] = 0\n",
    "\n",
    "q = deque()\n",
    "answer = 0\n",
    "n, m = map(int, input().split())\n",
    "lab = [list(map(int, input().split())) for _ in range(n)]\n",
    "backTraking(0)\n",
    "print(answer)"
   ]
  },
  {
   "cell_type": "code",
   "execution_count": null,
   "metadata": {},
   "outputs": [],
   "source": []
  }
 ],
 "metadata": {
  "interpreter": {
   "hash": "435c7524b81c754d2a38f9b1930a50d7a83318eec9a7b6faab8c4b8cfd59b603"
  },
  "kernelspec": {
   "display_name": "Python 3.8.10 64-bit",
   "language": "python",
   "name": "python3"
  },
  "language_info": {
   "codemirror_mode": {
    "name": "ipython",
    "version": 3
   },
   "file_extension": ".py",
   "mimetype": "text/x-python",
   "name": "python",
   "nbconvert_exporter": "python",
   "pygments_lexer": "ipython3",
   "version": "3.8.10"
  },
  "orig_nbformat": 4
 },
 "nbformat": 4,
 "nbformat_minor": 2
}
