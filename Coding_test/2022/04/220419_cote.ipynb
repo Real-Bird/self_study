{
 "cells": [
  {
   "cell_type": "markdown",
   "metadata": {},
   "source": [
    "# 분할정복"
   ]
  },
  {
   "cell_type": "markdown",
   "metadata": {},
   "source": [
    "## 색종이 만들기"
   ]
  },
  {
   "cell_type": "code",
   "execution_count": 1,
   "metadata": {},
   "outputs": [
    {
     "name": "stdout",
     "output_type": "stream",
     "text": [
      "9\n",
      "7\n"
     ]
    }
   ],
   "source": [
    "n = int(input())\n",
    "paper = [list(map(int, input().split())) for _ in range(n)]\n",
    "\n",
    "white = 0\n",
    "blue = 0\n",
    "\n",
    "def dividedConquer(x, y, n):\n",
    "    global blue, white\n",
    "    sameColor = paper[x][y]\n",
    "    for i in range(x, x + n):\n",
    "        for j in range(y, y + n):\n",
    "            if sameColor != paper[i][j]:\n",
    "                dividedConquer(x, y, n//2)\n",
    "                dividedConquer(x, y+n//2, n//2)\n",
    "                dividedConquer(x+n//2, y, n//2)\n",
    "                dividedConquer(x+n//2, y+n//2, n//2)\n",
    "                return\n",
    "    if sameColor == 0:\n",
    "        white += 1\n",
    "        return\n",
    "    else:\n",
    "        blue += 1\n",
    "        return\n",
    "\n",
    "dividedConquer(0, 0, n)\n",
    "print(white)\n",
    "print(blue)"
   ]
  },
  {
   "cell_type": "markdown",
   "metadata": {},
   "source": [
    "# CLASS2++"
   ]
  },
  {
   "cell_type": "markdown",
   "metadata": {},
   "source": [
    "## 수 정렬하기 3"
   ]
  },
  {
   "cell_type": "code",
   "execution_count": 12,
   "metadata": {},
   "outputs": [
    {
     "name": "stdout",
     "output_type": "stream",
     "text": [
      "1\n",
      "1\n",
      "2\n",
      "2\n",
      "3\n",
      "3\n",
      "4\n",
      "5\n",
      "5\n",
      "7\n"
     ]
    }
   ],
   "source": [
    "arr = [0] * 10001\n",
    "for _ in range(int(input())):\n",
    "    arr[int(input())] += 1 \n",
    "\n",
    "for i in range(10001):\n",
    "    if arr[i] != 0:\n",
    "        for j in range(arr[i]):\n",
    "            print(i)"
   ]
  },
  {
   "cell_type": "markdown",
   "metadata": {},
   "source": [
    "## 좌표 정렬하기 2"
   ]
  },
  {
   "cell_type": "code",
   "execution_count": 13,
   "metadata": {},
   "outputs": [
    {
     "name": "stdout",
     "output_type": "stream",
     "text": [
      "1 -1\n",
      "1 2\n",
      "2 2\n",
      "3 3\n",
      "0 4\n"
     ]
    }
   ],
   "source": [
    "arr = []\n",
    "\n",
    "for _ in range(int(input())):\n",
    "    x, y = map(int, input().split())\n",
    "    arr.append((x, y))\n",
    "\n",
    "arr.sort(key=lambda x: (x[1], x[0]))\n",
    "\n",
    "for i in arr:\n",
    "    print(i[0], i[1])"
   ]
  },
  {
   "cell_type": "code",
   "execution_count": null,
   "metadata": {},
   "outputs": [],
   "source": []
  }
 ],
 "metadata": {
  "interpreter": {
   "hash": "435c7524b81c754d2a38f9b1930a50d7a83318eec9a7b6faab8c4b8cfd59b603"
  },
  "kernelspec": {
   "display_name": "Python 3.8.10 64-bit",
   "language": "python",
   "name": "python3"
  },
  "language_info": {
   "codemirror_mode": {
    "name": "ipython",
    "version": 3
   },
   "file_extension": ".py",
   "mimetype": "text/x-python",
   "name": "python",
   "nbconvert_exporter": "python",
   "pygments_lexer": "ipython3",
   "version": "3.8.10"
  },
  "orig_nbformat": 4
 },
 "nbformat": 4,
 "nbformat_minor": 2
}
