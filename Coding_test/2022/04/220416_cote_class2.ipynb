{
 "cells": [
  {
   "cell_type": "markdown",
   "metadata": {},
   "source": [
    "# 최대 힙"
   ]
  },
  {
   "cell_type": "code",
   "execution_count": 11,
   "metadata": {},
   "outputs": [
    {
     "name": "stdout",
     "output_type": "stream",
     "text": [
      "0\n",
      "1\n",
      "2\n",
      "1\n",
      "2\n",
      "3\n",
      "0\n",
      "0\n"
     ]
    }
   ],
   "source": [
    "import heapq\n",
    "\n",
    "arr = []\n",
    "\n",
    "for _ in range(int(input())):\n",
    "    x = int(input())\n",
    "    if x == 0:\n",
    "        if len(arr) == 0:\n",
    "            print(0)\n",
    "        else:\n",
    "            print(-1 * heapq.heappop(arr))\n",
    "    else:\n",
    "        heapq.heappush(arr, -x)"
   ]
  },
  {
   "cell_type": "code",
   "execution_count": 13,
   "metadata": {},
   "outputs": [
    {
     "name": "stdout",
     "output_type": "stream",
     "text": [
      "0\n",
      "2\n",
      "1\n",
      "3\n",
      "2\n",
      "1\n",
      "0\n",
      "0\n"
     ]
    }
   ],
   "source": [
    "import heapq\n",
    "\n",
    "arr = []\n",
    "\n",
    "for _ in range(int(input())):\n",
    "    x = int(input())\n",
    "    if x != 0:\n",
    "        heapq.heappush(arr, -x)\n",
    "    else:\n",
    "        try:\n",
    "            print(-1 * heapq.heappop(arr))\n",
    "        except:\n",
    "            print(0)"
   ]
  },
  {
   "cell_type": "markdown",
   "metadata": {},
   "source": [
    "# 카드 정렬하기"
   ]
  },
  {
   "cell_type": "code",
   "execution_count": 21,
   "metadata": {},
   "outputs": [
    {
     "name": "stdout",
     "output_type": "stream",
     "text": [
      "100\n"
     ]
    }
   ],
   "source": [
    "import heapq\n",
    "\n",
    "card = list(int(input()) for _ in range(int(input())))\n",
    "heapq.heapify(card)\n",
    "answer = 0\n",
    "\n",
    "while len(card) != 1:\n",
    "    first = heapq.heappop(card)\n",
    "    second = heapq.heappop(card)\n",
    "    plus = first + second\n",
    "    answer += plus\n",
    "    heapq.heappush(card, plus)\n",
    "\n",
    "print(answer)"
   ]
  },
  {
   "cell_type": "markdown",
   "metadata": {},
   "source": [
    "# 숫자 카드 2"
   ]
  },
  {
   "cell_type": "code",
   "execution_count": 27,
   "metadata": {},
   "outputs": [
    {
     "name": "stdout",
     "output_type": "stream",
     "text": [
      "{6: 1, 3: 2, 2: 1, 10: 3, -10: 2, 7: 1}\n",
      "3 0 0 1 2 0 0 2\n"
     ]
    }
   ],
   "source": [
    "n1 = int(input())\n",
    "n2 = list(map(int, input().split()))\n",
    "m1 = int(input())\n",
    "m2 = list(map(int, input().split()))\n",
    "\n",
    "hashmap = {}\n",
    "for n in n2:\n",
    "    if n in hashmap:\n",
    "        hashmap[n] += 1\n",
    "    else:\n",
    "        hashmap[n] = 1\n",
    "\n",
    "print(' '.join(str(hashmap[m]) if m in hashmap else '0' for m in m2))\n",
    "\n",
    "# temp = {i:0 for i in m2}\n",
    "\n",
    "# for i in n2:\n",
    "#     if i in m2:\n",
    "#         temp[i] += 1\n",
    "\n",
    "# for i in temp.values():\n",
    "#     print(i, end=\" \")"
   ]
  },
  {
   "cell_type": "markdown",
   "metadata": {},
   "source": [
    "# 큐"
   ]
  },
  {
   "cell_type": "markdown",
   "metadata": {},
   "source": [
    "**15**\n",
    "- push 1\n",
    "- push 2\n",
    "- front\n",
    "- back\n",
    "- size\n",
    "- empty\n",
    "- pop\n",
    "- pop\n",
    "- pop\n",
    "- size\n",
    "- empty\n",
    "- pop\n",
    "- push 3\n",
    "- empty\n",
    "- front"
   ]
  },
  {
   "cell_type": "code",
   "execution_count": 2,
   "metadata": {},
   "outputs": [
    {
     "name": "stdout",
     "output_type": "stream",
     "text": [
      "1\n",
      "2\n",
      "2\n",
      "1\n"
     ]
    },
    {
     "ename": "IndexError",
     "evalue": "list index out of range",
     "output_type": "error",
     "traceback": [
      "\u001b[1;31m---------------------------------------------------------------------------\u001b[0m",
      "\u001b[1;31mIndexError\u001b[0m                                Traceback (most recent call last)",
      "\u001b[1;32m~\\AppData\\Local\\Temp/ipykernel_29968/2726582719.py\u001b[0m in \u001b[0;36m<module>\u001b[1;34m\u001b[0m\n\u001b[0;32m      6\u001b[0m     \u001b[0mtemp\u001b[0m \u001b[1;33m=\u001b[0m \u001b[0minput\u001b[0m\u001b[1;33m(\u001b[0m\u001b[1;33m)\u001b[0m\u001b[1;33m.\u001b[0m\u001b[0msplit\u001b[0m\u001b[1;33m(\u001b[0m\u001b[1;33m)\u001b[0m\u001b[1;33m\u001b[0m\u001b[1;33m\u001b[0m\u001b[0m\n\u001b[0;32m      7\u001b[0m     \u001b[0msize\u001b[0m \u001b[1;33m=\u001b[0m \u001b[0mlen\u001b[0m\u001b[1;33m(\u001b[0m\u001b[0mq\u001b[0m\u001b[1;33m)\u001b[0m\u001b[1;33m\u001b[0m\u001b[1;33m\u001b[0m\u001b[0m\n\u001b[1;32m----> 8\u001b[1;33m     \u001b[1;32mif\u001b[0m \u001b[0mtemp\u001b[0m\u001b[1;33m[\u001b[0m\u001b[1;36m0\u001b[0m\u001b[1;33m]\u001b[0m \u001b[1;33m==\u001b[0m \u001b[1;34m\"push\"\u001b[0m\u001b[1;33m:\u001b[0m\u001b[1;33m\u001b[0m\u001b[1;33m\u001b[0m\u001b[0m\n\u001b[0m\u001b[0;32m      9\u001b[0m         \u001b[0mq\u001b[0m\u001b[1;33m.\u001b[0m\u001b[0mappend\u001b[0m\u001b[1;33m(\u001b[0m\u001b[0mtemp\u001b[0m\u001b[1;33m[\u001b[0m\u001b[1;36m1\u001b[0m\u001b[1;33m]\u001b[0m\u001b[1;33m)\u001b[0m\u001b[1;33m\u001b[0m\u001b[1;33m\u001b[0m\u001b[0m\n\u001b[0;32m     10\u001b[0m     \u001b[1;32melif\u001b[0m \u001b[0msize\u001b[0m \u001b[1;32mand\u001b[0m \u001b[0mtemp\u001b[0m\u001b[1;33m[\u001b[0m\u001b[1;36m0\u001b[0m\u001b[1;33m]\u001b[0m \u001b[1;33m==\u001b[0m \u001b[1;34m\"pop\"\u001b[0m\u001b[1;33m:\u001b[0m\u001b[1;33m\u001b[0m\u001b[1;33m\u001b[0m\u001b[0m\n",
      "\u001b[1;31mIndexError\u001b[0m: list index out of range"
     ]
    }
   ],
   "source": [
    "from collections import deque\n",
    "\n",
    "q = deque([])\n",
    "\n",
    "for _ in range(int(input())):\n",
    "    temp = input().split()\n",
    "    size = len(q)\n",
    "    if temp[0] == \"push\":\n",
    "        q.append(temp[1])\n",
    "    elif size and temp[0] == \"pop\":\n",
    "        print(q.popleft())\n",
    "    elif temp[0] == \"size\":\n",
    "        print(size)\n",
    "    elif temp[0] == \"empty\":\n",
    "        if size != 0:\n",
    "            print(0)\n",
    "        else:\n",
    "            print(1)\n",
    "    elif size and temp[0] == \"front\":\n",
    "        print(q[0])\n",
    "    elif size and temp[0] == \"back\":\n",
    "        print(q[-1])\n",
    "    else:\n",
    "        print(-1)"
   ]
  },
  {
   "cell_type": "markdown",
   "metadata": {},
   "source": [
    "# 덱"
   ]
  },
  {
   "cell_type": "markdown",
   "metadata": {},
   "source": [
    "- 15\n",
    "- push_back 1\n",
    "- push_front 2\n",
    "- front\n",
    "- back\n",
    "- size\n",
    "- empty\n",
    "- pop_front\n",
    "- pop_back\n",
    "- pop_front\n",
    "- size\n",
    "- empty\n",
    "- pop_back\n",
    "- push_front 3\n",
    "- empty\n",
    "- front"
   ]
  },
  {
   "cell_type": "markdown",
   "metadata": {},
   "source": [
    "- push_front X: 정수 X를 덱의 앞에 넣는다.\n",
    "- push_back X: 정수 X를 덱의 뒤에 넣는다.\n",
    "- pop_front: 덱의 가장 앞에 있는 수를 빼고, 그 수를 출력한다. 만약, 덱에 들어있는 정수가 없는 경우에는 -1을 출력한다.\n",
    "- pop_back: 덱의 가장 뒤에 있는 수를 빼고, 그 수를 출력한다. 만약, 덱에 들어있는 정수가 없는 경우에는 -1을 출력한다.\n",
    "- size: 덱에 들어있는 정수의 개수를 출력한다.\n",
    "- empty: 덱이 비어있으면 1을, 아니면 0을 출력한다.\n",
    "- front: 덱의 가장 앞에 있는 정수를 출력한다. 만약 덱에 들어있는 정수가 없는 경우에는 -1을 출력한다.\n",
    "- back: 덱의 가장 뒤에 있는 정수를 출력한다. 만약 덱에 들어있는 정수가 없는 경우에는 -1을 출력한다."
   ]
  },
  {
   "cell_type": "code",
   "execution_count": 6,
   "metadata": {},
   "outputs": [
    {
     "name": "stdout",
     "output_type": "stream",
     "text": [
      "deque(['1'])\n",
      "deque(['2', '1'])\n",
      "2\n",
      "deque(['2', '1'])\n"
     ]
    },
    {
     "ename": "IndexError",
     "evalue": "list index out of range",
     "output_type": "error",
     "traceback": [
      "\u001b[1;31m---------------------------------------------------------------------------\u001b[0m",
      "\u001b[1;31mIndexError\u001b[0m                                Traceback (most recent call last)",
      "\u001b[1;32m~\\AppData\\Local\\Temp/ipykernel_29968/2361793770.py\u001b[0m in \u001b[0;36m<module>\u001b[1;34m\u001b[0m\n\u001b[0;32m      6\u001b[0m     \u001b[0mtemp\u001b[0m \u001b[1;33m=\u001b[0m \u001b[0minput\u001b[0m\u001b[1;33m(\u001b[0m\u001b[1;33m)\u001b[0m\u001b[1;33m.\u001b[0m\u001b[0msplit\u001b[0m\u001b[1;33m(\u001b[0m\u001b[1;33m)\u001b[0m\u001b[1;33m\u001b[0m\u001b[1;33m\u001b[0m\u001b[0m\n\u001b[0;32m      7\u001b[0m     \u001b[0msize\u001b[0m \u001b[1;33m=\u001b[0m \u001b[0mlen\u001b[0m\u001b[1;33m(\u001b[0m\u001b[0mq\u001b[0m\u001b[1;33m)\u001b[0m\u001b[1;33m\u001b[0m\u001b[1;33m\u001b[0m\u001b[0m\n\u001b[1;32m----> 8\u001b[1;33m     \u001b[1;32mif\u001b[0m \u001b[0mtemp\u001b[0m\u001b[1;33m[\u001b[0m\u001b[1;36m0\u001b[0m\u001b[1;33m]\u001b[0m \u001b[1;33m==\u001b[0m \u001b[1;34m\"push_front\"\u001b[0m\u001b[1;33m:\u001b[0m\u001b[1;33m\u001b[0m\u001b[1;33m\u001b[0m\u001b[0m\n\u001b[0m\u001b[0;32m      9\u001b[0m         \u001b[0mq\u001b[0m\u001b[1;33m.\u001b[0m\u001b[0mappendleft\u001b[0m\u001b[1;33m(\u001b[0m\u001b[0mtemp\u001b[0m\u001b[1;33m[\u001b[0m\u001b[1;36m1\u001b[0m\u001b[1;33m]\u001b[0m\u001b[1;33m)\u001b[0m\u001b[1;33m\u001b[0m\u001b[1;33m\u001b[0m\u001b[0m\n\u001b[0;32m     10\u001b[0m     \u001b[1;32melif\u001b[0m \u001b[0mtemp\u001b[0m\u001b[1;33m[\u001b[0m\u001b[1;36m0\u001b[0m\u001b[1;33m]\u001b[0m \u001b[1;33m==\u001b[0m \u001b[1;34m\"push_back\"\u001b[0m\u001b[1;33m:\u001b[0m\u001b[1;33m\u001b[0m\u001b[1;33m\u001b[0m\u001b[0m\n",
      "\u001b[1;31mIndexError\u001b[0m: list index out of range"
     ]
    }
   ],
   "source": [
    "from collections import deque\n",
    "\n",
    "q = deque([])\n",
    "\n",
    "for _ in range(int(input())):\n",
    "    temp = input().split()\n",
    "    size = len(q)\n",
    "    if temp[0] == \"push_front\":\n",
    "        q.appendleft(temp[1])\n",
    "    elif temp[0] == \"push_back\":\n",
    "        q.append(temp[1])        \n",
    "    elif size and temp[0] == \"pop_front\":\n",
    "        print(q.popleft())\n",
    "    elif size and temp[0] == \"pop_back\":\n",
    "        print(q.pop())        \n",
    "    elif temp[0] == \"size\":\n",
    "        print(size)\n",
    "    elif temp[0] == \"empty\":\n",
    "        if size != 0:\n",
    "            print(0)\n",
    "        else:\n",
    "            print(1)\n",
    "    elif size and temp[0] == \"front\":\n",
    "        print(q[0])\n",
    "    elif size and temp[0] == \"back\":\n",
    "        print(q[-1])\n",
    "    else:\n",
    "        print(-1)"
   ]
  },
  {
   "cell_type": "code",
   "execution_count": null,
   "metadata": {},
   "outputs": [],
   "source": []
  }
 ],
 "metadata": {
  "interpreter": {
   "hash": "435c7524b81c754d2a38f9b1930a50d7a83318eec9a7b6faab8c4b8cfd59b603"
  },
  "kernelspec": {
   "display_name": "Python 3.8.10 64-bit",
   "language": "python",
   "name": "python3"
  },
  "language_info": {
   "codemirror_mode": {
    "name": "ipython",
    "version": 3
   },
   "file_extension": ".py",
   "mimetype": "text/x-python",
   "name": "python",
   "nbconvert_exporter": "python",
   "pygments_lexer": "ipython3",
   "version": "3.8.10"
  },
  "orig_nbformat": 4
 },
 "nbformat": 4,
 "nbformat_minor": 2
}
