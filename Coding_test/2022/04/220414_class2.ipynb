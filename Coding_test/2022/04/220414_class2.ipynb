{
 "cells": [
  {
   "cell_type": "markdown",
   "metadata": {},
   "source": [
    "# 최대공약수와 최소공배수"
   ]
  },
  {
   "cell_type": "code",
   "execution_count": 2,
   "metadata": {},
   "outputs": [
    {
     "name": "stdout",
     "output_type": "stream",
     "text": [
      "6\n",
      "72\n"
     ]
    }
   ],
   "source": [
    "from math import gcd\n",
    "\n",
    "a, b = map(int, input().split())\n",
    "g = gcd(a, b)\n",
    "l = a * b // g\n",
    "\n",
    "print(g)\n",
    "print(l)"
   ]
  },
  {
   "cell_type": "markdown",
   "metadata": {},
   "source": [
    "# 수 정렬하기 2"
   ]
  },
  {
   "cell_type": "code",
   "execution_count": 3,
   "metadata": {},
   "outputs": [
    {
     "name": "stdout",
     "output_type": "stream",
     "text": [
      "1\n",
      "2\n",
      "3\n",
      "4\n",
      "5\n"
     ]
    }
   ],
   "source": [
    "arr = []\n",
    "for _ in range(int(input())):\n",
    "    arr.append(int(input()))\n",
    "\n",
    "arr.sort()\n",
    "\n",
    "for i in arr:\n",
    "    print(i)"
   ]
  },
  {
   "cell_type": "code",
   "execution_count": null,
   "metadata": {},
   "outputs": [],
   "source": [
    "import sys\n",
    "\n",
    "arr = []\n",
    "for _ in range(int(sys.stdin.readline())):\n",
    "    arr.append(int(sys.stdin.readline()))\n",
    "\n",
    "arr.sort()\n",
    "\n",
    "for i in arr:\n",
    "    print(i)"
   ]
  },
  {
   "cell_type": "markdown",
   "metadata": {},
   "source": [
    "# 나이순 정렬"
   ]
  },
  {
   "cell_type": "code",
   "execution_count": 10,
   "metadata": {},
   "outputs": [
    {
     "name": "stdout",
     "output_type": "stream",
     "text": [
      "20 Sunyoung\n",
      "21 Junkyu\n",
      "21 Dohyun\n"
     ]
    }
   ],
   "source": [
    "arr = []\n",
    "\n",
    "for i in range(int(input())):\n",
    "    age, name = input().split()\n",
    "    arr.append((int(age), name))\n",
    "\n",
    "arr.sort(key=lambda x: x[0])\n",
    "\n",
    "for i in arr:\n",
    "    print(i[0], i[1])"
   ]
  },
  {
   "cell_type": "markdown",
   "metadata": {},
   "source": [
    "# 좌표 정렬하기"
   ]
  },
  {
   "cell_type": "code",
   "execution_count": 11,
   "metadata": {},
   "outputs": [
    {
     "name": "stdout",
     "output_type": "stream",
     "text": [
      "1 -1\n",
      "1 1\n",
      "2 2\n",
      "3 3\n",
      "3 4\n"
     ]
    }
   ],
   "source": [
    "points = []\n",
    "\n",
    "for _ in range(int(input())):\n",
    "    x, y = map(int, input().split())\n",
    "    points.append((x, y))\n",
    "\n",
    "points.sort(key=lambda x: (x[0], x[1]))\n",
    "\n",
    "for i in points:\n",
    "    print(i[0], i[1])"
   ]
  },
  {
   "cell_type": "markdown",
   "metadata": {},
   "source": [
    "# 수 찾기"
   ]
  },
  {
   "cell_type": "code",
   "execution_count": 15,
   "metadata": {},
   "outputs": [
    {
     "name": "stdout",
     "output_type": "stream",
     "text": [
      "1\n",
      "1\n",
      "0\n",
      "0\n",
      "1\n"
     ]
    }
   ],
   "source": [
    "n = int(input())\n",
    "a = set(input().split())\n",
    "m = int(input())\n",
    "b = input().split()\n",
    "\n",
    "for i in b:\n",
    "    if i in a:\n",
    "        print(1)\n",
    "    else:\n",
    "        print(0)"
   ]
  },
  {
   "cell_type": "markdown",
   "metadata": {},
   "source": [
    "# 소수 찾기"
   ]
  },
  {
   "cell_type": "code",
   "execution_count": 16,
   "metadata": {},
   "outputs": [
    {
     "name": "stdout",
     "output_type": "stream",
     "text": [
      "3\n"
     ]
    }
   ],
   "source": [
    "n = int(input())\n",
    "a = list(map(int, input().split()))\n",
    "cnt = 0\n",
    "for i in a:\n",
    "    if i > 1:\n",
    "        temp = 0\n",
    "        for j in range(2, i):\n",
    "            if i % j == 0:\n",
    "                temp += 1\n",
    "        if temp == 0:\n",
    "            cnt += 1\n",
    "print(cnt)"
   ]
  },
  {
   "cell_type": "code",
   "execution_count": null,
   "metadata": {},
   "outputs": [],
   "source": []
  }
 ],
 "metadata": {
  "interpreter": {
   "hash": "435c7524b81c754d2a38f9b1930a50d7a83318eec9a7b6faab8c4b8cfd59b603"
  },
  "kernelspec": {
   "display_name": "Python 3.8.10 64-bit",
   "language": "python",
   "name": "python3"
  },
  "language_info": {
   "codemirror_mode": {
    "name": "ipython",
    "version": 3
   },
   "file_extension": ".py",
   "mimetype": "text/x-python",
   "name": "python",
   "nbconvert_exporter": "python",
   "pygments_lexer": "ipython3",
   "version": "3.8.10"
  },
  "orig_nbformat": 4
 },
 "nbformat": 4,
 "nbformat_minor": 2
}
