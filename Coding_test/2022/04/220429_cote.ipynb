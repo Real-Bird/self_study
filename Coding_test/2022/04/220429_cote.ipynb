{
 "cells": [
  {
   "cell_type": "markdown",
   "metadata": {},
   "source": [
    "# 문자열"
   ]
  },
  {
   "cell_type": "markdown",
   "metadata": {},
   "source": [
    "## 숫자의 합"
   ]
  },
  {
   "cell_type": "code",
   "execution_count": 2,
   "metadata": {},
   "outputs": [
    {
     "name": "stdout",
     "output_type": "stream",
     "text": [
      "15\n"
     ]
    }
   ],
   "source": [
    "n = int(input())\n",
    "num = list(input())\n",
    "answer = 0\n",
    "for i in num:\n",
    "    answer += int(i)\n",
    "print(answer)"
   ]
  },
  {
   "cell_type": "markdown",
   "metadata": {},
   "source": [
    "## 백대열"
   ]
  },
  {
   "cell_type": "code",
   "execution_count": 4,
   "metadata": {},
   "outputs": [
    {
     "name": "stdout",
     "output_type": "stream",
     "text": [
      "10:1\n"
     ]
    }
   ],
   "source": [
    "from math import gcd\n",
    "n, m = map(int, input().split(\":\"))\n",
    "g = gcd(n, m)\n",
    "print(f'{n//g}:{m//g}')"
   ]
  },
  {
   "cell_type": "markdown",
   "metadata": {},
   "source": [
    "## 문자열 폭발"
   ]
  },
  {
   "cell_type": "code",
   "execution_count": 31,
   "metadata": {},
   "outputs": [
    {
     "name": "stdout",
     "output_type": "stream",
     "text": [
      "FRULA\n"
     ]
    }
   ],
   "source": [
    "s = str(input())\n",
    "bomb = str(input())\n",
    "left = []\n",
    "\n",
    "start, end = 0, len(s)-1\n",
    "while start <= end:\n",
    "    tof = True\n",
    "    left.append(s[start])\n",
    "    start += 1\n",
    "    if (y:=len(left)) >= (x:=len(bomb)):\n",
    "        for i in range(x):\n",
    "            if bomb[i] != left[y-x+i]:\n",
    "                tof = False\n",
    "                break\n",
    "        if tof:\n",
    "            for i in range(x):\n",
    "                left.pop()\n",
    "\n",
    "if len(left) == 0:\n",
    "    print(\"FRULA\")\n",
    "else:\n",
    "    print(\"\".join(left))"
   ]
  },
  {
   "cell_type": "markdown",
   "metadata": {},
   "source": [
    "## 나는야 포켓몬 마스터 이다솜"
   ]
  },
  {
   "cell_type": "code",
   "execution_count": 50,
   "metadata": {},
   "outputs": [
    {
     "name": "stdout",
     "output_type": "stream",
     "text": [
      "Pikachu\n",
      "26\n",
      "Venusaur\n",
      "16\n",
      "14\n"
     ]
    }
   ],
   "source": [
    "n, m = map(int, input().split())\n",
    "poketDict = {}\n",
    "\n",
    "for i in range(n):\n",
    "    poketDict[i + 1] = input().rstrip()\n",
    "\n",
    "reverseDict = dict(map(reversed, poketDict.items()))\n",
    "\n",
    "for _ in range(m):\n",
    "    search = input().rstrip()\n",
    "    if search.isalpha():\n",
    "        print(reverseDict[search])\n",
    "    else:\n",
    "        print(poketDict[int(search)])"
   ]
  },
  {
   "cell_type": "code",
   "execution_count": null,
   "metadata": {},
   "outputs": [],
   "source": []
  }
 ],
 "metadata": {
  "interpreter": {
   "hash": "435c7524b81c754d2a38f9b1930a50d7a83318eec9a7b6faab8c4b8cfd59b603"
  },
  "kernelspec": {
   "display_name": "Python 3.8.10 64-bit",
   "language": "python",
   "name": "python3"
  },
  "language_info": {
   "codemirror_mode": {
    "name": "ipython",
    "version": 3
   },
   "file_extension": ".py",
   "mimetype": "text/x-python",
   "name": "python",
   "nbconvert_exporter": "python",
   "pygments_lexer": "ipython3",
   "version": "3.8.10"
  },
  "orig_nbformat": 4
 },
 "nbformat": 4,
 "nbformat_minor": 2
}
