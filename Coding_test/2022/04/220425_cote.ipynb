{
 "cells": [
  {
   "cell_type": "markdown",
   "metadata": {},
   "source": [
    "# 정수론"
   ]
  },
  {
   "cell_type": "markdown",
   "metadata": {},
   "source": [
    "## 이항 계수 1"
   ]
  },
  {
   "cell_type": "code",
   "execution_count": 4,
   "metadata": {},
   "outputs": [
    {
     "name": "stdout",
     "output_type": "stream",
     "text": [
      "10\n"
     ]
    }
   ],
   "source": [
    "n, k = map(int, input().split())\n",
    "\n",
    "up = 1\n",
    "for i in range(1, n + 1):\n",
    "    up *= i\n",
    "\n",
    "down = 1\n",
    "for i in range(1, n-k+1):\n",
    "    down *= i\n",
    "\n",
    "down2 = 1\n",
    "for i in range(1, k + 1):\n",
    "    down2 *= i\n",
    "\n",
    "down *= down2\n",
    "\n",
    "print(up//down)"
   ]
  },
  {
   "cell_type": "markdown",
   "metadata": {},
   "source": [
    "## 이항 계수 2"
   ]
  },
  {
   "cell_type": "code",
   "execution_count": 8,
   "metadata": {},
   "outputs": [
    {
     "name": "stdout",
     "output_type": "stream",
     "text": [
      "1000\n"
     ]
    }
   ],
   "source": [
    "from math import factorial\n",
    "n, k = map(int, input().split())\n",
    "\n",
    "nk = factorial(n) // (factorial(k)*factorial(n-k)) % 10_007\n",
    "\n",
    "print(nk)"
   ]
  },
  {
   "cell_type": "code",
   "execution_count": 9,
   "metadata": {},
   "outputs": [
    {
     "name": "stdout",
     "output_type": "stream",
     "text": [
      "10\n"
     ]
    }
   ],
   "source": [
    "n, k = map(int, input().split())\n",
    "dp = [[0] * 1001 for _ in range(1001)]\n",
    "\n",
    "for i in range(1, n + 1):\n",
    "    for j in range(0, i + 1):\n",
    "        if j == 0:\n",
    "            dp[i][j] = 1\n",
    "        elif j == i:\n",
    "            dp[i][j] = 1\n",
    "        else:\n",
    "            dp[i][j] = (dp[i-1][j-1] + dp[i-1][j]) % 10007\n",
    "\n",
    "print(dp[n][k])"
   ]
  },
  {
   "cell_type": "markdown",
   "metadata": {},
   "source": [
    "## C. Kuroni and Impossible Calculation"
   ]
  },
  {
   "cell_type": "code",
   "execution_count": 12,
   "metadata": {},
   "outputs": [
    {
     "name": "stdout",
     "output_type": "stream",
     "text": [
      "1\n"
     ]
    }
   ],
   "source": [
    "moduler = [0] * 1001\n",
    "\n",
    "n, m = map(int, input().split())\n",
    "nums = list(map(int, input().split()))\n",
    "\n",
    "for i in range(n):\n",
    "    moduler[nums[i]%m] += 1\n",
    "    tof = True\n",
    "\n",
    "for i in range(1000):\n",
    "    if moduler[i]>1:\n",
    "        tof = False\n",
    "\n",
    "if tof == False:\n",
    "    print(0)\n",
    "else:\n",
    "    answer = 1\n",
    "    for i in range(n - 1):\n",
    "        for j in range(i + 1, n):\n",
    "            temp = 0\n",
    "            if nums[i] < nums[j]:\n",
    "                temp = nums[j] - nums[i]\n",
    "            else:\n",
    "                temp = nums[i]-nums[j]\n",
    "            answer *= temp\n",
    "            answer %= m\n",
    "\n",
    "print(answer%m)"
   ]
  },
  {
   "cell_type": "code",
   "execution_count": null,
   "metadata": {},
   "outputs": [],
   "source": []
  }
 ],
 "metadata": {
  "interpreter": {
   "hash": "435c7524b81c754d2a38f9b1930a50d7a83318eec9a7b6faab8c4b8cfd59b603"
  },
  "kernelspec": {
   "display_name": "Python 3.8.10 64-bit",
   "language": "python",
   "name": "python3"
  },
  "language_info": {
   "codemirror_mode": {
    "name": "ipython",
    "version": 3
   },
   "file_extension": ".py",
   "mimetype": "text/x-python",
   "name": "python",
   "nbconvert_exporter": "python",
   "pygments_lexer": "ipython3",
   "version": "3.8.10"
  },
  "orig_nbformat": 4
 },
 "nbformat": 4,
 "nbformat_minor": 2
}
