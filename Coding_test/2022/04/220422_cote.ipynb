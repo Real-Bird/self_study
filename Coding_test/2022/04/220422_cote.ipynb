{
 "cells": [
  {
   "cell_type": "markdown",
   "metadata": {},
   "source": [
    "# 완전 탐색"
   ]
  },
  {
   "cell_type": "markdown",
   "metadata": {},
   "source": [
    "## N과 M (3)"
   ]
  },
  {
   "cell_type": "code",
   "execution_count": 10,
   "metadata": {},
   "outputs": [
    {
     "name": "stdout",
     "output_type": "stream",
     "text": [
      "1 1\n",
      "1 2\n",
      "1 3\n",
      "1 4\n",
      "2 1\n",
      "2 2\n",
      "2 3\n",
      "2 4\n",
      "3 1\n",
      "3 2\n",
      "3 3\n",
      "3 4\n",
      "4 1\n",
      "4 2\n",
      "4 3\n",
      "4 4\n"
     ]
    }
   ],
   "source": [
    "n, m = map(int, input().split())\n",
    "\n",
    "answer = []\n",
    "\n",
    "def backTraking(depth):\n",
    "    if depth == m:\n",
    "        print(\" \".join(map(str, answer)))\n",
    "        return\n",
    "    for i in range(1, n + 1):\n",
    "        answer.append(i)\n",
    "        backTraking(depth + 1)\n",
    "        answer.pop()\n",
    "\n",
    "backTraking(0)"
   ]
  },
  {
   "cell_type": "markdown",
   "metadata": {},
   "source": [
    "## N과 M (1)"
   ]
  },
  {
   "cell_type": "code",
   "execution_count": 12,
   "metadata": {},
   "outputs": [
    {
     "name": "stdout",
     "output_type": "stream",
     "text": [
      "1 2\n",
      "1 3\n",
      "1 4\n",
      "2 1\n",
      "2 3\n",
      "2 4\n",
      "3 1\n",
      "3 2\n",
      "3 4\n",
      "4 1\n",
      "4 2\n",
      "4 3\n"
     ]
    }
   ],
   "source": [
    "n, m = map(int, input().split())\n",
    "\n",
    "answer = []\n",
    "\n",
    "def backTraking(depth):\n",
    "    if depth == m:\n",
    "        print(\" \".join(map(str, answer)))\n",
    "        return\n",
    "    for i in range(1, n + 1):\n",
    "        if i in answer:\n",
    "            continue\n",
    "        answer.append(i)\n",
    "        backTraking(depth + 1)\n",
    "        answer.pop()\n",
    "\n",
    "backTraking(0)"
   ]
  },
  {
   "cell_type": "markdown",
   "metadata": {},
   "source": [
    "## 연산자 끼워넣기"
   ]
  },
  {
   "cell_type": "code",
   "execution_count": 14,
   "metadata": {},
   "outputs": [
    {
     "name": "stdout",
     "output_type": "stream",
     "text": [
      "54\n",
      "-24\n"
     ]
    }
   ],
   "source": [
    "def backTraking(index, sums):\n",
    "    global minAns, maxAns\n",
    "\n",
    "    if index == n - 1:\n",
    "        if minAns > sums:\n",
    "            minAns = sums\n",
    "        if maxAns < sums:\n",
    "            maxAns = sums\n",
    "        return\n",
    "\n",
    "    for i in range(4):\n",
    "        temp = sums\n",
    "        if operators[i] == 0:\n",
    "            continue\n",
    "        if i == 0:\n",
    "            sums += numArr[index + 1]\n",
    "        elif i == 1:\n",
    "            sums -= numArr[index + 1]\n",
    "        elif i == 2:\n",
    "            sums *= numArr[index + 1]\n",
    "        else:\n",
    "            if sums < 0:\n",
    "                sums = abs(sums) // numArr[index + 1] * -1\n",
    "            else:\n",
    "                sums //= numArr[index + 1]\n",
    "\n",
    "        operators[i] -= 1\n",
    "        backTraking(index + 1, sums)\n",
    "        operators[i] += 1\n",
    "        sums = temp\n",
    "\n",
    "n = int(input())\n",
    "numArr = list(map(int, input().split()))\n",
    "# [+, -, *, /]\n",
    "operators = list(map(int, input().split()))\n",
    "minAns = float('Inf')\n",
    "maxAns = float('-Inf')\n",
    "\n",
    "backTraking(0, numArr[0])\n",
    "print(maxAns)\n",
    "print(minAns)"
   ]
  },
  {
   "cell_type": "markdown",
   "metadata": {},
   "source": [
    "# CLASS 2++"
   ]
  },
  {
   "cell_type": "markdown",
   "metadata": {},
   "source": [
    "## 통계학"
   ]
  },
  {
   "cell_type": "code",
   "execution_count": 26,
   "metadata": {},
   "outputs": [
    {
     "name": "stdout",
     "output_type": "stream",
     "text": [
      "0\n",
      "0\n",
      "0\n",
      "1\n"
     ]
    }
   ],
   "source": [
    "from collections import Counter\n",
    "\n",
    "n = int(input())\n",
    "nums = [int(input()) for _ in range(n)]\n",
    "nums.sort()\n",
    "nums_cnt = Counter(nums).most_common()\n",
    "avg = round(sum(nums) / n)\n",
    "mid = nums[n//2]\n",
    "if len(nums_cnt) > 1:\n",
    "    if nums_cnt[0][1] == nums_cnt[1][1]:\n",
    "        fre = nums_cnt[1][0]\n",
    "    else:\n",
    "        fre = nums_cnt[0][0]\n",
    "else:\n",
    "    fre = nums_cnt[0][0]\n",
    "ran = max(nums) - min(nums)\n",
    "\n",
    "print(avg)\n",
    "print(mid)\n",
    "print(fre)\n",
    "print(ran)"
   ]
  },
  {
   "cell_type": "markdown",
   "metadata": {},
   "source": [
    "## 나무 자르기"
   ]
  },
  {
   "cell_type": "code",
   "execution_count": 27,
   "metadata": {},
   "outputs": [
    {
     "name": "stdout",
     "output_type": "stream",
     "text": [
      "15\n"
     ]
    }
   ],
   "source": [
    "n, m = map(int, input().split())\n",
    "trees = list(map(int, input().split()))\n",
    "start, end = 1, max(trees)\n",
    "\n",
    "while start <= end:\n",
    "    mid = (start + end) // 2\n",
    "    \n",
    "    cnt = 0\n",
    "    for i in trees:\n",
    "        if i >= mid:\n",
    "            cnt += i - mid\n",
    "    if cnt >= m:\n",
    "        start = mid + 1\n",
    "    else:\n",
    "        end = mid - 1\n",
    "\n",
    "print(end)\n"
   ]
  },
  {
   "cell_type": "markdown",
   "metadata": {},
   "source": [
    "## 마인크래프트"
   ]
  },
  {
   "cell_type": "code",
   "execution_count": 29,
   "metadata": {},
   "outputs": [
    {
     "name": "stdout",
     "output_type": "stream",
     "text": [
      "1 64\n"
     ]
    }
   ],
   "source": [
    "n,m,b = map(int,input().split())\n",
    "graph = []\n",
    "for _ in range(n):\n",
    "    graph.append(list(map(int,input().split())))\n",
    "\n",
    "height = 0\n",
    "ans = 1e9\n",
    "for i in range(257):\n",
    "    max = 0\n",
    "    min = 0\n",
    "    for j in range(n):\n",
    "        for k in range(m):\n",
    "            if graph[j][k] < i:\n",
    "                min += (i - graph[j][k])\n",
    "            else:\n",
    "                max += (graph[j][k] - i)\n",
    "    inventory = max + b\n",
    "    if inventory < min:\n",
    "        continue\n",
    "    time = 2 * max + min\n",
    "    if time <= ans:\n",
    "        ans = time\n",
    "        height = i\n",
    "\n",
    "print(ans, height)"
   ]
  },
  {
   "cell_type": "code",
   "execution_count": null,
   "metadata": {},
   "outputs": [],
   "source": []
  }
 ],
 "metadata": {
  "interpreter": {
   "hash": "435c7524b81c754d2a38f9b1930a50d7a83318eec9a7b6faab8c4b8cfd59b603"
  },
  "kernelspec": {
   "display_name": "Python 3.8.10 64-bit",
   "language": "python",
   "name": "python3"
  },
  "language_info": {
   "codemirror_mode": {
    "name": "ipython",
    "version": 3
   },
   "file_extension": ".py",
   "mimetype": "text/x-python",
   "name": "python",
   "nbconvert_exporter": "python",
   "pygments_lexer": "ipython3",
   "version": "3.8.10"
  },
  "orig_nbformat": 4
 },
 "nbformat": 4,
 "nbformat_minor": 2
}
