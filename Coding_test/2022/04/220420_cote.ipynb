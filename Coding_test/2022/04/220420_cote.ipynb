{
 "cells": [
  {
   "cell_type": "markdown",
   "metadata": {},
   "source": [
    "# CLASS 2++"
   ]
  },
  {
   "cell_type": "markdown",
   "metadata": {},
   "source": [
    "## 균형잡힌 세상"
   ]
  },
  {
   "cell_type": "code",
   "execution_count": 9,
   "metadata": {},
   "outputs": [
    {
     "name": "stdout",
     "output_type": "stream",
     "text": [
      "yes\n",
      "yes\n",
      "no\n",
      "no\n",
      "yes\n"
     ]
    }
   ],
   "source": [
    "while (n:=input()) != \".\":\n",
    "    stack = []\n",
    "    temp = True\n",
    "    for i in n:\n",
    "        if i == '(' or i == '[':\n",
    "            stack.append(i)\n",
    "        elif i == ')':\n",
    "            if not stack or stack[-1] == '[':\n",
    "                temp = False\n",
    "                break\n",
    "            elif stack[-1] == '(':\n",
    "                stack.pop()\n",
    "        elif i == ']':\n",
    "            if not stack or stack[-1] == '(':\n",
    "                temp = False\n",
    "                break\n",
    "            elif stack[-1] == '[':\n",
    "                stack.pop()\n",
    "    if temp == True and not stack:\n",
    "        print('yes')\n",
    "    else:\n",
    "        print('no')"
   ]
  },
  {
   "cell_type": "markdown",
   "metadata": {},
   "source": [
    "## 제로"
   ]
  },
  {
   "cell_type": "code",
   "execution_count": 17,
   "metadata": {},
   "outputs": [
    {
     "name": "stdout",
     "output_type": "stream",
     "text": [
      "7\n"
     ]
    }
   ],
   "source": [
    "stack = []\n",
    "\n",
    "for _ in range(int(input())):\n",
    "    k = int(input())\n",
    "    if k == 0:\n",
    "        stack.pop()\n",
    "    else:\n",
    "        stack.append(k)\n",
    "    \n",
    "print(sum(stack))"
   ]
  },
  {
   "cell_type": "markdown",
   "metadata": {},
   "source": [
    "## 랜선 자르기"
   ]
  },
  {
   "cell_type": "code",
   "execution_count": 18,
   "metadata": {},
   "outputs": [
    {
     "name": "stdout",
     "output_type": "stream",
     "text": [
      "200\n"
     ]
    }
   ],
   "source": [
    "k, n = map(int, input().split())\n",
    "\n",
    "arr = [int(input()) for _ in range(k)]\n",
    "\n",
    "length, low = sum(arr)//n, 1\n",
    "\n",
    "while low <= length:\n",
    "    mid = (length + low) // 2\n",
    "    count = sum([x//mid for x in arr])\n",
    "    if count < n:\n",
    "        length = mid - 1\n",
    "    else:\n",
    "        low = mid + 1\n",
    "        answer = mid\n",
    "    \n",
    "print(answer)"
   ]
  },
  {
   "cell_type": "code",
   "execution_count": null,
   "metadata": {},
   "outputs": [],
   "source": []
  }
 ],
 "metadata": {
  "interpreter": {
   "hash": "435c7524b81c754d2a38f9b1930a50d7a83318eec9a7b6faab8c4b8cfd59b603"
  },
  "kernelspec": {
   "display_name": "Python 3.8.10 64-bit",
   "language": "python",
   "name": "python3"
  },
  "language_info": {
   "codemirror_mode": {
    "name": "ipython",
    "version": 3
   },
   "file_extension": ".py",
   "mimetype": "text/x-python",
   "name": "python",
   "nbconvert_exporter": "python",
   "pygments_lexer": "ipython3",
   "version": "3.8.10"
  },
  "orig_nbformat": 4
 },
 "nbformat": 4,
 "nbformat_minor": 2
}
