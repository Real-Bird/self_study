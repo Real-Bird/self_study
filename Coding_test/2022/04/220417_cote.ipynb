{
 "cells": [
  {
   "cell_type": "markdown",
   "metadata": {},
   "source": [
    "# 탐욕법"
   ]
  },
  {
   "cell_type": "markdown",
   "metadata": {},
   "source": [
    "## 잃어버린 괄호"
   ]
  },
  {
   "cell_type": "code",
   "execution_count": 20,
   "metadata": {},
   "outputs": [
    {
     "name": "stdout",
     "output_type": "stream",
     "text": [
      "-35\n"
     ]
    }
   ],
   "source": [
    "n = input().split(\"-\")\n",
    "answer = 0\n",
    "\n",
    "for i in n[0].split(\"+\"):\n",
    "    answer += int(i)\n",
    "\n",
    "for i in n[1:]:\n",
    "    for j in i.split(\"+\"):\n",
    "        answer -= int(j)\n",
    "\n",
    "print(answer)"
   ]
  },
  {
   "cell_type": "markdown",
   "metadata": {},
   "source": [
    "## 회의실 배정"
   ]
  },
  {
   "cell_type": "code",
   "execution_count": 21,
   "metadata": {},
   "outputs": [
    {
     "name": "stdout",
     "output_type": "stream",
     "text": [
      "4\n"
     ]
    }
   ],
   "source": [
    "meetings = []\n",
    "\n",
    "for _ in range(int(input())):\n",
    "    meeting = list(map(int, input().split()))\n",
    "    meetings.append(meeting)\n",
    "\n",
    "meetings.sort(key=lambda x: (x[1], x[0]))\n",
    "\n",
    "answer = 0\n",
    "end = 0\n",
    "\n",
    "for i in range(len(meetings)):\n",
    "    if end <= meetings[i][0]:\n",
    "        end = meetings[i][1]\n",
    "        answer += 1\n",
    "\n",
    "print(answer)"
   ]
  },
  {
   "cell_type": "markdown",
   "metadata": {},
   "source": [
    "## 소트:1083"
   ]
  },
  {
   "cell_type": "code",
   "execution_count": 29,
   "metadata": {},
   "outputs": [
    {
     "name": "stdout",
     "output_type": "stream",
     "text": [
      "20 19 18 17 16 15 14 13 12 11\n"
     ]
    }
   ],
   "source": [
    "n = int(input())\n",
    "arr = [int(i) for i in input().split()]\n",
    "s = int(input())\n",
    "\n",
    "while True:\n",
    "    tof = False\n",
    "    for i in range(n):\n",
    "        idx = i\n",
    "        cmp = 0\n",
    "        for j in range(n - 1, i, -1):\n",
    "            if arr[idx] < arr[j] and j - i <= s:\n",
    "                idx = j\n",
    "                tof = True\n",
    "                cmp = j - i\n",
    "        if idx != i:\n",
    "            temp = arr[idx]\n",
    "            del arr[idx]\n",
    "            arr.insert(i, temp)\n",
    "            s -= cmp\n",
    "            break\n",
    "    if tof == False:\n",
    "        break\n",
    "\n",
    "print(*arr)"
   ]
  },
  {
   "cell_type": "markdown",
   "metadata": {},
   "source": [
    "## 요세푸스 문제 0"
   ]
  },
  {
   "cell_type": "code",
   "execution_count": 43,
   "metadata": {},
   "outputs": [
    {
     "name": "stdout",
     "output_type": "stream",
     "text": [
      "<3, 6, 2, 7, 5, 1, 4>"
     ]
    }
   ],
   "source": [
    "from collections import deque\n",
    "\n",
    "n, k = map(int, input().split())\n",
    "q = deque([i + 1 for i in range(n)])\n",
    "people = []\n",
    "\n",
    "while q:\n",
    "    for i in range(k - 1):\n",
    "        q.append(q.popleft())\n",
    "    people.append(q.popleft())\n",
    "\n",
    "print(\"<\", end=\"\")\n",
    "for i in people[:-1]:\n",
    "    print(f\"{i}, \", end=\"\")\n",
    "print(people[-1], end=\"\")\n",
    "print(\">\", end=\"\")"
   ]
  },
  {
   "cell_type": "code",
   "execution_count": null,
   "metadata": {},
   "outputs": [],
   "source": []
  }
 ],
 "metadata": {
  "interpreter": {
   "hash": "435c7524b81c754d2a38f9b1930a50d7a83318eec9a7b6faab8c4b8cfd59b603"
  },
  "kernelspec": {
   "display_name": "Python 3.8.10 64-bit",
   "language": "python",
   "name": "python3"
  },
  "language_info": {
   "codemirror_mode": {
    "name": "ipython",
    "version": 3
   },
   "file_extension": ".py",
   "mimetype": "text/x-python",
   "name": "python",
   "nbconvert_exporter": "python",
   "pygments_lexer": "ipython3",
   "version": "3.8.10"
  },
  "orig_nbformat": 4
 },
 "nbformat": 4,
 "nbformat_minor": 2
}
