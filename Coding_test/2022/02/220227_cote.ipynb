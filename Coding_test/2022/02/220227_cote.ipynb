{
 "cells": [
  {
   "cell_type": "markdown",
   "metadata": {},
   "source": [
    "# 체육복"
   ]
  },
  {
   "cell_type": "code",
   "execution_count": 19,
   "metadata": {},
   "outputs": [
    {
     "name": "stdout",
     "output_type": "stream",
     "text": [
      "4\n",
      "5\n"
     ]
    }
   ],
   "source": [
    "def solution(n, lost, reserve):\n",
    "    dp = [True] * n\n",
    "    for i in range(len(lost)):\n",
    "        dp[lost[i]-1] = False\n",
    "    for i in range(len(reserve)):\n",
    "        if dp[reserve[i]-1] == True:\n",
    "            try:\n",
    "                if dp[reserve[i]-2] == False:\n",
    "                    dp[reserve[i]-2] = True\n",
    "                elif dp[reserve[i]] == False:\n",
    "                    dp[reserve[i]] = True\n",
    "            except:\n",
    "                if dp[reserve[i]-2] == False:\n",
    "                    dp[reserve[i]-2] = True\n",
    "    answer = dp.count(True)\n",
    "    return answer\n",
    "\n",
    "print(solution(5, [2, 4], [3]))\n",
    "print(solution(5, [2, 4], [1, 3, 5]))"
   ]
  },
  {
   "cell_type": "code",
   "execution_count": 20,
   "metadata": {},
   "outputs": [
    {
     "name": "stdout",
     "output_type": "stream",
     "text": [
      "4\n",
      "5\n"
     ]
    }
   ],
   "source": [
    "def solution(n, lost, reserve):\n",
    "    set_reserve=set(reserve)-set(lost)\n",
    "    set_lost = set(lost)-set(reserve)\n",
    "    for i in set_reserve:\n",
    "        if i-1 in set_lost:\n",
    "            set_lost.remove(i-1)\n",
    "        elif i+1 in set_lost:\n",
    "            set_lost.remove(i+1)\n",
    "    return n-len(set_lost)\n",
    "\n",
    "print(solution(5, [2, 4], [3]))\n",
    "print(solution(5, [2, 4], [1, 3, 5]))"
   ]
  },
  {
   "cell_type": "code",
   "execution_count": null,
   "metadata": {},
   "outputs": [],
   "source": []
  }
 ],
 "metadata": {
  "interpreter": {
   "hash": "435c7524b81c754d2a38f9b1930a50d7a83318eec9a7b6faab8c4b8cfd59b603"
  },
  "kernelspec": {
   "display_name": "Python 3.8.10 64-bit",
   "language": "python",
   "name": "python3"
  },
  "language_info": {
   "codemirror_mode": {
    "name": "ipython",
    "version": 3
   },
   "file_extension": ".py",
   "mimetype": "text/x-python",
   "name": "python",
   "nbconvert_exporter": "python",
   "pygments_lexer": "ipython3",
   "version": "3.8.10"
  },
  "orig_nbformat": 4
 },
 "nbformat": 4,
 "nbformat_minor": 2
}
