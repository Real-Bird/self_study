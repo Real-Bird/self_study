{
 "cells": [
  {
   "cell_type": "markdown",
   "metadata": {},
   "source": [
    "# 숫자 문자열과 영단어"
   ]
  },
  {
   "cell_type": "code",
   "execution_count": 53,
   "metadata": {},
   "outputs": [
    {
     "data": {
      "text/plain": [
       "1478"
      ]
     },
     "execution_count": 53,
     "metadata": {},
     "output_type": "execute_result"
    }
   ],
   "source": [
    "def solution(s):\n",
    "    num_dict = {\n",
    "        \"zero\" : 0,\n",
    "        \"one\" : 1,\n",
    "        \"two\" : 2,\n",
    "        \"three\" : 3,\n",
    "        \"four\" : 4,\n",
    "        \"five\" : 5,\n",
    "        \"six\" : 6,\n",
    "        \"seven\" : 7,\n",
    "        \"eight\" : 8,\n",
    "        \"nine\" : 9\n",
    "    }\n",
    "    answer = s\n",
    "    for key, value in num_dict.items():\n",
    "        answer = answer.replace(key, str(value))\n",
    "    return int(answer)\n",
    "\n",
    "solution(\"one4seveneight\")"
   ]
  },
  {
   "cell_type": "code",
   "execution_count": null,
   "metadata": {},
   "outputs": [],
   "source": []
  }
 ],
 "metadata": {
  "interpreter": {
   "hash": "435c7524b81c754d2a38f9b1930a50d7a83318eec9a7b6faab8c4b8cfd59b603"
  },
  "kernelspec": {
   "display_name": "Python 3.8.10 64-bit",
   "language": "python",
   "name": "python3"
  },
  "language_info": {
   "codemirror_mode": {
    "name": "ipython",
    "version": 3
   },
   "file_extension": ".py",
   "mimetype": "text/x-python",
   "name": "python",
   "nbconvert_exporter": "python",
   "pygments_lexer": "ipython3",
   "version": "3.8.10"
  },
  "orig_nbformat": 4
 },
 "nbformat": 4,
 "nbformat_minor": 2
}
