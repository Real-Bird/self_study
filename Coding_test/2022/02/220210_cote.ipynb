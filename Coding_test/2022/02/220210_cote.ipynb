{
 "cells": [
  {
   "cell_type": "markdown",
   "metadata": {},
   "source": [
    "# 키패드 누르기"
   ]
  },
  {
   "cell_type": "code",
   "execution_count": 22,
   "metadata": {},
   "outputs": [],
   "source": [
    "#왼쪽이든 오른쪽이든 거리를 구하는 함수\n",
    "def getCount(loc,num):\n",
    "    cnt =0\n",
    "    #첫번째 라인에 있을 경우( 중앙으로 밀어주기 위해 cnt+1)\n",
    "    if loc %3 ==1 :\n",
    "        cnt+=1\n",
    "        loc+=1\n",
    "    #세번째 라인 ( 중앙으로 밀어주기 위해 cnt+1)\n",
    "    elif loc % 3 ==0:\n",
    "        cnt+=1\n",
    "        loc-=1\n",
    "        \n",
    "    #공통 로직 (세로는 3칸씩 증감하므로 3으로 나눈다면 동일한 칸수로 이동가능)\n",
    "    cnt += int(abs(num-loc)/3)\n",
    "    return cnt"
   ]
  },
  {
   "cell_type": "code",
   "execution_count": 23,
   "metadata": {},
   "outputs": [
    {
     "name": "stdout",
     "output_type": "stream",
     "text": [
      "LRLLLRLLRRL\n",
      "LRLLLRLLRRL\n"
     ]
    }
   ],
   "source": [
    "def getCount(loc,num):\n",
    "    cnt =0\n",
    "\n",
    "    if loc %3 ==1 :\n",
    "        cnt+=1\n",
    "        loc+=1\n",
    "\n",
    "    elif loc % 3 ==0:\n",
    "        cnt+=1\n",
    "        loc-=1\n",
    "        \n",
    "    cnt += int(abs(num-loc)/3)\n",
    "    return cnt\n",
    "\n",
    "def solution(numbers, hand):\n",
    "    leftHand = 10\n",
    "    rightHand = 12\n",
    "    answer = ''\n",
    "\n",
    "    for i in numbers:\n",
    "        if i in [1, 4, 7]:\n",
    "            answer += \"L\"\n",
    "            leftHand = i\n",
    "        elif i in [3, 6, 9]:\n",
    "            answer += \"R\"\n",
    "            rightHand = i\n",
    "        else:\n",
    "            if i == 0:\n",
    "                i = 11\n",
    "            left_dist = getCount(leftHand, i)\n",
    "            right_dist = getCount(rightHand, i)\n",
    "            if (left_dist > right_dist):\n",
    "                answer += \"R\"\n",
    "                rightHand = i\n",
    "            elif (left_dist < right_dist):\n",
    "                answer += \"L\"\n",
    "                leftHand = i\n",
    "            elif (left_dist == right_dist):\n",
    "                if (hand == \"left\"):\n",
    "                    answer += \"L\"\n",
    "                    leftHand = i\n",
    "                elif (hand == \"right\"):\n",
    "                    answer += \"R\"\n",
    "                    rightHand = i\n",
    "    return answer\n",
    "\n",
    "\n",
    "print(solution([1, 3, 4, 5, 8, 2, 1, 4, 5, 9, 5], \"right\"))\n",
    "print(\"LRLLLRLLRRL\")\n"
   ]
  },
  {
   "cell_type": "code",
   "execution_count": null,
   "metadata": {},
   "outputs": [],
   "source": []
  },
  {
   "cell_type": "code",
   "execution_count": null,
   "metadata": {},
   "outputs": [],
   "source": []
  }
 ],
 "metadata": {
  "interpreter": {
   "hash": "435c7524b81c754d2a38f9b1930a50d7a83318eec9a7b6faab8c4b8cfd59b603"
  },
  "kernelspec": {
   "display_name": "Python 3.8.10 64-bit",
   "language": "python",
   "name": "python3"
  },
  "language_info": {
   "codemirror_mode": {
    "name": "ipython",
    "version": 3
   },
   "file_extension": ".py",
   "mimetype": "text/x-python",
   "name": "python",
   "nbconvert_exporter": "python",
   "pygments_lexer": "ipython3",
   "version": "3.8.10"
  },
  "orig_nbformat": 4
 },
 "nbformat": 4,
 "nbformat_minor": 2
}
