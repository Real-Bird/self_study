{
 "cells": [
  {
   "cell_type": "markdown",
   "metadata": {},
   "source": [
    "# 완주하지 못한 선수"
   ]
  },
  {
   "cell_type": "code",
   "execution_count": 11,
   "metadata": {},
   "outputs": [
    {
     "data": {
      "text/plain": [
       "'mislav'"
      ]
     },
     "execution_count": 11,
     "metadata": {},
     "output_type": "execute_result"
    }
   ],
   "source": [
    "def solution(participant, completion):\n",
    "    for i in range(len(completion)):\n",
    "        for j in range(len(participant)):\n",
    "            if completion[i] == participant[j]:\n",
    "                participant.pop(j)\n",
    "                participant.append(0)\n",
    "    return participant[0]\n",
    "\n",
    "solution([\"mislav\", \"stanko\", \"mislav\", \"ana\"], [\"stanko\", \"ana\", \"mislav\"])"
   ]
  },
  {
   "cell_type": "code",
   "execution_count": 24,
   "metadata": {},
   "outputs": [
    {
     "name": "stdout",
     "output_type": "stream",
     "text": [
      "vinko\n"
     ]
    }
   ],
   "source": [
    "def solution(participant, completion): \n",
    "  hashDict = {} \n",
    "  sumHash = 0 \n",
    "\n",
    "  # 1. Hash : Participant의 dictionary 만들기 \n",
    "  # # 2. Participant의 sum(hash) 구하기 \n",
    "  for part in participant: \n",
    "    hashDict[hash(part)] = part \n",
    "    sumHash += hash(part)\n",
    "  # 3. completion의 sum(hash) 빼기 \n",
    "  for comp in completion: \n",
    "    sumHash -= hash(comp) \n",
    "    \n",
    "  # 4. 남은 값이 완주하지 못한 선수의 hash 값이 된다 \n",
    "  return hashDict[sumHash]\n",
    "  \n",
    "print(solution([\"marina\", \"josipa\", \"nikola\", \"vinko\", \"filipa\"] , [\"josipa\", \"filipa\", \"marina\", \"nikola\"]))\n",
    "\n"
   ]
  },
  {
   "cell_type": "code",
   "execution_count": 34,
   "metadata": {},
   "outputs": [
    {
     "name": "stdout",
     "output_type": "stream",
     "text": [
      "vinko\n"
     ]
    }
   ],
   "source": [
    "import collections \n",
    "def solution(participant, completion): \n",
    "\n",
    "    answer = collections.Counter(participant) - collections.Counter(completion) \n",
    "\n",
    "    return list(answer)[0] \n",
    "  \n",
    "print(solution([\"marina\", \"josipa\", \"nikola\", \"vinko\", \"filipa\"] , [\"josipa\", \"filipa\", \"marina\", \"nikola\"]))"
   ]
  },
  {
   "cell_type": "code",
   "execution_count": null,
   "metadata": {},
   "outputs": [],
   "source": []
  }
 ],
 "metadata": {
  "interpreter": {
   "hash": "435c7524b81c754d2a38f9b1930a50d7a83318eec9a7b6faab8c4b8cfd59b603"
  },
  "kernelspec": {
   "display_name": "Python 3.8.10 64-bit",
   "language": "python",
   "name": "python3"
  },
  "language_info": {
   "codemirror_mode": {
    "name": "ipython",
    "version": 3
   },
   "file_extension": ".py",
   "mimetype": "text/x-python",
   "name": "python",
   "nbconvert_exporter": "python",
   "pygments_lexer": "ipython3",
   "version": "3.8.10"
  },
  "orig_nbformat": 4
 },
 "nbformat": 4,
 "nbformat_minor": 2
}
