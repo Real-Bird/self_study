{
 "cells": [
  {
   "cell_type": "markdown",
   "metadata": {},
   "source": [
    "# 없는 숫자 더하기"
   ]
  },
  {
   "cell_type": "code",
   "execution_count": 5,
   "metadata": {},
   "outputs": [
    {
     "data": {
      "text/plain": [
       "14"
      ]
     },
     "execution_count": 5,
     "metadata": {},
     "output_type": "execute_result"
    }
   ],
   "source": [
    "def solution(numbers):\n",
    "    full = [i for i in range(10)]\n",
    "    answer = 0\n",
    "    for i in full:\n",
    "        if i not in numbers:\n",
    "            answer += i\n",
    "    return answer\n",
    "\n",
    "solution([1,2,3,4,6,7,8,0])"
   ]
  },
  {
   "cell_type": "markdown",
   "metadata": {},
   "source": [
    "# 음양 더하기"
   ]
  },
  {
   "cell_type": "code",
   "execution_count": 2,
   "metadata": {},
   "outputs": [
    {
     "data": {
      "text/plain": [
       "9"
      ]
     },
     "execution_count": 2,
     "metadata": {},
     "output_type": "execute_result"
    }
   ],
   "source": [
    "def solution(absolutes, signs):\n",
    "    answer = 0\n",
    "    for i in range(len(signs)):\n",
    "        if signs[i] == False:\n",
    "            absolutes[i] *= -1\n",
    "        answer += absolutes[i]\n",
    "    return answer\n",
    "\n",
    "solution([4,7,12], [True,False,True])"
   ]
  },
  {
   "cell_type": "markdown",
   "metadata": {},
   "source": [
    "# 내적"
   ]
  },
  {
   "cell_type": "code",
   "execution_count": 1,
   "metadata": {},
   "outputs": [
    {
     "data": {
      "text/plain": [
       "3"
      ]
     },
     "execution_count": 1,
     "metadata": {},
     "output_type": "execute_result"
    }
   ],
   "source": [
    "def solution(a, b):\n",
    "    answer = 0\n",
    "    for i, j in zip(a,b):\n",
    "        answer += (i*j)\n",
    "    return answer\n",
    "\n",
    "solution([1,2,3,4],[-3,-1,0,2])"
   ]
  },
  {
   "cell_type": "markdown",
   "metadata": {},
   "source": [
    "# 소수 만들기"
   ]
  },
  {
   "cell_type": "code",
   "execution_count": 16,
   "metadata": {},
   "outputs": [
    {
     "name": "stdout",
     "output_type": "stream",
     "text": [
      "[2, 3, 5, 7, 11, 13, 17, 19, 23, 29, 31, 37, 41, 43, 47, 53, 59, 61, 67, 71, 73, 79, 83, 89, 97]\n",
      "25\n"
     ]
    }
   ],
   "source": [
    "# 소수 개수 구하기\n",
    "\n",
    "totalPrimeNum = []\n",
    "\n",
    "for i in range(2, 100):\n",
    "    double = 2\n",
    "    count = 0\n",
    "    for j in range(double, i):\n",
    "        if i % j == 0:\n",
    "            count += 1\n",
    "            break\n",
    "    double += 1\n",
    "    if count == 0:\n",
    "        totalPrimeNum.append(i)\n",
    "\n",
    "print(totalPrimeNum)\n",
    "print(len(totalPrimeNum))"
   ]
  },
  {
   "cell_type": "code",
   "execution_count": 33,
   "metadata": {},
   "outputs": [
    {
     "name": "stdout",
     "output_type": "stream",
     "text": [
      "[2, 3, 5, 7, 11, 13, 17, 19, 23, 29, 31, 37, 41, 43, 47, 53, 59, 61, 67, 71, 73, 79, 83, 89, 97]\n"
     ]
    }
   ],
   "source": [
    "# 에라스토스테네스의 체\n",
    "\n",
    "n=100\n",
    "a = [False,False] + [True]*(n-1)\n",
    "primes=[]\n",
    "\n",
    "for i in range(2,n+1):\n",
    "  if a[i]:\n",
    "    primes.append(i)\n",
    "    for j in range(2*i, n+1, i):\n",
    "        a[j] = False\n",
    "print(primes)"
   ]
  },
  {
   "cell_type": "code",
   "execution_count": 52,
   "metadata": {},
   "outputs": [
    {
     "data": {
      "text/plain": [
       "1"
      ]
     },
     "execution_count": 52,
     "metadata": {},
     "output_type": "execute_result"
    }
   ],
   "source": [
    "from itertools import combinations\n",
    "\n",
    "def isPrime(k):\n",
    "    if k==0 or k==1:\n",
    "        return False\n",
    "    else:\n",
    "        for i in range(2, (k//2)+1):\n",
    "            if k % i == 0:\n",
    "                return False\n",
    "        return True\n",
    "\n",
    "def solution(nums):\n",
    "    sums = combinations(nums, 3)\n",
    "    answer = 0\n",
    "    for i in sums:\n",
    "        temp = isPrime(sum(i))\n",
    "        if temp:\n",
    "            answer += 1\n",
    "    \n",
    "    return answer\n",
    "\n",
    "solution([1,2,3,4])"
   ]
  },
  {
   "cell_type": "code",
   "execution_count": 48,
   "metadata": {},
   "outputs": [
    {
     "name": "stdout",
     "output_type": "stream",
     "text": [
      "6\n",
      "7\n",
      "8\n",
      "9\n"
     ]
    }
   ],
   "source": [
    "from itertools import combinations\n",
    "\n",
    "a = [1, 2, 3, 4]\n",
    "\n",
    "b = combinations(a, 3)\n",
    "for i in b:\n",
    "  print(sum(i))"
   ]
  },
  {
   "cell_type": "code",
   "execution_count": 1,
   "metadata": {},
   "outputs": [],
   "source": [
    "class Always_True(object):\n",
    "    def __eq__(self, other):\n",
    "        return True"
   ]
  },
  {
   "cell_type": "code",
   "execution_count": 9,
   "metadata": {},
   "outputs": [],
   "source": [
    "def a(b):\n",
    "  c = Always_True()\n",
    "  return c"
   ]
  },
  {
   "cell_type": "code",
   "execution_count": 12,
   "metadata": {},
   "outputs": [
    {
     "name": "stdout",
     "output_type": "stream",
     "text": [
      "yeah~\n"
     ]
    }
   ],
   "source": [
    "b = [\"dsfs\",\"sfwewfw\", \"rtyu234234\"]\n",
    "aa = a(b)\n",
    "\n",
    "if aa:\n",
    "  print(\"yeah~\")\n",
    "else:\n",
    "  print(\"sad\")"
   ]
  },
  {
   "cell_type": "code",
   "execution_count": null,
   "metadata": {},
   "outputs": [],
   "source": []
  }
 ],
 "metadata": {
  "interpreter": {
   "hash": "435c7524b81c754d2a38f9b1930a50d7a83318eec9a7b6faab8c4b8cfd59b603"
  },
  "kernelspec": {
   "display_name": "Python 3.8.10 64-bit",
   "language": "python",
   "name": "python3"
  },
  "language_info": {
   "codemirror_mode": {
    "name": "ipython",
    "version": 3
   },
   "file_extension": ".py",
   "mimetype": "text/x-python",
   "name": "python",
   "nbconvert_exporter": "python",
   "pygments_lexer": "ipython3",
   "version": "3.8.10"
  },
  "orig_nbformat": 4
 },
 "nbformat": 4,
 "nbformat_minor": 2
}
