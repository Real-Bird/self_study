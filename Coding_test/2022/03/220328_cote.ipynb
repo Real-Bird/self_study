{
 "cells": [
  {
   "cell_type": "markdown",
   "metadata": {},
   "source": [
    "# 괄호 변환"
   ]
  },
  {
   "cell_type": "code",
   "execution_count": 7,
   "metadata": {},
   "outputs": [
    {
     "name": "stdout",
     "output_type": "stream",
     "text": [
      "(()())()\n",
      "()\n",
      "()(())()\n"
     ]
    }
   ],
   "source": [
    "def parse(w):\n",
    "    correct = True\n",
    "    left, right = 0, 0\n",
    "    stack = []\n",
    "\n",
    "    for i in range(len(w)):\n",
    "        if w[i] == \"(\":\n",
    "            left += 1\n",
    "            stack.append(\"(\")\n",
    "        else:\n",
    "            right += 1\n",
    "            if not stack:\n",
    "                correct = False\n",
    "            else:\n",
    "                stack.pop()\n",
    "        if left == right:\n",
    "            return i + 1, correct\n",
    "    return 0, False\n",
    "\n",
    "def solution(p):\n",
    "    if not p:\n",
    "        return p\n",
    "\n",
    "    pos, correct = parse(p)\n",
    "    u, v = p[:pos], p[pos:]\n",
    "\n",
    "    if correct:\n",
    "        return u + solution(v)\n",
    "\n",
    "    answer = \"(\" + solution(v) + \")\"\n",
    "    for i in range(1, len(u)- 1):\n",
    "        if u[i] == \"(\":\n",
    "            answer += \")\"\n",
    "        else:\n",
    "            answer += \"(\"\n",
    "            \n",
    "    return answer\n",
    "\n",
    "print(solution(\"(()())()\"))\n",
    "print(solution(\")(\"))\n",
    "print(solution(\"()))((()\"))\n"
   ]
  },
  {
   "cell_type": "markdown",
   "metadata": {},
   "source": [
    "# 서로소"
   ]
  },
  {
   "cell_type": "code",
   "execution_count": 19,
   "metadata": {},
   "outputs": [
    {
     "name": "stdout",
     "output_type": "stream",
     "text": [
      "6\n",
      "4\n"
     ]
    }
   ],
   "source": [
    "from math import gcd\n",
    "\n",
    "while True:\n",
    "    answer = 0\n",
    "    n = int(input())\n",
    "    if n == 0:\n",
    "        break\n",
    "    for i in range(1, n):\n",
    "        if (x:=gcd(i,n)) == 1:\n",
    "            answer += 1\n",
    "    print(answer)\n",
    "    "
   ]
  },
  {
   "cell_type": "code",
   "execution_count": null,
   "metadata": {},
   "outputs": [],
   "source": []
  }
 ],
 "metadata": {
  "interpreter": {
   "hash": "435c7524b81c754d2a38f9b1930a50d7a83318eec9a7b6faab8c4b8cfd59b603"
  },
  "kernelspec": {
   "display_name": "Python 3.8.10 64-bit",
   "language": "python",
   "name": "python3"
  },
  "language_info": {
   "codemirror_mode": {
    "name": "ipython",
    "version": 3
   },
   "file_extension": ".py",
   "mimetype": "text/x-python",
   "name": "python",
   "nbconvert_exporter": "python",
   "pygments_lexer": "ipython3",
   "version": "3.8.10"
  },
  "orig_nbformat": 4
 },
 "nbformat": 4,
 "nbformat_minor": 2
}
