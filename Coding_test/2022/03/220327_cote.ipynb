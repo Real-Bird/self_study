{
 "cells": [
  {
   "cell_type": "markdown",
   "metadata": {},
   "source": [
    "# 메뉴 리뉴얼"
   ]
  },
  {
   "cell_type": "code",
   "execution_count": 18,
   "metadata": {},
   "outputs": [
    {
     "name": "stdout",
     "output_type": "stream",
     "text": [
      "Counter({'AC': 4, 'CD': 3, 'CE': 3, 'DE': 3, 'BC': 2, 'BF': 2, 'BG': 2, 'CF': 2, 'CG': 2, 'FG': 2, 'AD': 2, 'AE': 2, 'AB': 1, 'AF': 1, 'AG': 1, 'AH': 1, 'CH': 1, 'DH': 1, 'EH': 1})\n",
      "Counter({'CDE': 3, 'BCF': 2, 'BCG': 2, 'BFG': 2, 'CFG': 2, 'ACD': 2, 'ACE': 2, 'ADE': 2, 'ABC': 1, 'ABF': 1, 'ABG': 1, 'ACF': 1, 'ACG': 1, 'AFG': 1, 'ACH': 1, 'ADH': 1, 'AEH': 1, 'CDH': 1, 'CEH': 1, 'DEH': 1})\n",
      "Counter({'BCFG': 2, 'ACDE': 2, 'ABCF': 1, 'ABCG': 1, 'ABFG': 1, 'ACFG': 1, 'ACDH': 1, 'ACEH': 1, 'ADEH': 1, 'CDEH': 1})\n",
      "['AC', 'ACDE', 'BCFG', 'CDE']\n"
     ]
    }
   ],
   "source": [
    "from itertools import combinations\n",
    "from collections import Counter\n",
    "\n",
    "def solution(orders, course):\n",
    "    answer = []\n",
    "    for k in course:\n",
    "        candidates = []\n",
    "        for order in orders:\n",
    "            for one in combinations(order, k):\n",
    "                temp = ''.join(sorted(one))\n",
    "                candidates.append(temp)\n",
    "        sorted_candidates = Counter(candidates).most_common()\n",
    "        answer += [menu for menu, cnt in sorted_candidates if cnt > 1 and cnt == sorted_candidates[0][1]]\n",
    "    return sorted(answer)\n",
    "\n",
    "print(solution([\"ABCFG\", \"AC\", \"CDE\", \"ACDE\", \"BCFG\", \"ACDEH\"], [2,3,4]))"
   ]
  },
  {
   "cell_type": "code",
   "execution_count": null,
   "metadata": {},
   "outputs": [],
   "source": []
  }
 ],
 "metadata": {
  "interpreter": {
   "hash": "435c7524b81c754d2a38f9b1930a50d7a83318eec9a7b6faab8c4b8cfd59b603"
  },
  "kernelspec": {
   "display_name": "Python 3.8.10 64-bit",
   "language": "python",
   "name": "python3"
  },
  "language_info": {
   "codemirror_mode": {
    "name": "ipython",
    "version": 3
   },
   "file_extension": ".py",
   "mimetype": "text/x-python",
   "name": "python",
   "nbconvert_exporter": "python",
   "pygments_lexer": "ipython3",
   "version": "3.8.10"
  },
  "orig_nbformat": 4
 },
 "nbformat": 4,
 "nbformat_minor": 2
}
