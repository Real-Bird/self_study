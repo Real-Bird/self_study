{
 "cells": [
  {
   "cell_type": "markdown",
   "metadata": {},
   "source": [
    "# 문자열 압축"
   ]
  },
  {
   "cell_type": "code",
   "execution_count": 23,
   "metadata": {},
   "outputs": [
    {
     "name": "stdout",
     "output_type": "stream",
     "text": [
      "14\n"
     ]
    }
   ],
   "source": [
    "def solution(s):\n",
    "    answer = 1000\n",
    "    for firstFor in range(1, (length:=len(s))//2+2):\n",
    "        compare_s = ''\n",
    "        count = 1\n",
    "        slice_s = s[:firstFor]\n",
    "\n",
    "        for secondFor in range(firstFor, length+firstFor, firstFor):\n",
    "            if slice_s == s[secondFor:secondFor+firstFor]:\n",
    "                count += 1\n",
    "            else:\n",
    "                if count == 1:\n",
    "                    compare_s += slice_s\n",
    "                else:\n",
    "                    compare_s += str(count) + slice_s\n",
    "                slice_s = s[secondFor:secondFor+firstFor]\n",
    "                count = 1\n",
    "        answer = min(answer, len(compare_s))    \n",
    "    return answer\n",
    "\n",
    "print(solution(\"abcabcabcabcdededededede\"))"
   ]
  },
  {
   "cell_type": "code",
   "execution_count": null,
   "metadata": {},
   "outputs": [],
   "source": []
  }
 ],
 "metadata": {
  "interpreter": {
   "hash": "435c7524b81c754d2a38f9b1930a50d7a83318eec9a7b6faab8c4b8cfd59b603"
  },
  "kernelspec": {
   "display_name": "Python 3.8.10 64-bit",
   "language": "python",
   "name": "python3"
  },
  "language_info": {
   "codemirror_mode": {
    "name": "ipython",
    "version": 3
   },
   "file_extension": ".py",
   "mimetype": "text/x-python",
   "name": "python",
   "nbconvert_exporter": "python",
   "pygments_lexer": "ipython3",
   "version": "3.8.10"
  },
  "orig_nbformat": 4
 },
 "nbformat": 4,
 "nbformat_minor": 2
}
