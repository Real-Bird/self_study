{
 "cells": [
  {
   "cell_type": "markdown",
   "metadata": {},
   "source": [
    "# 나머지가 1이 되는 수 찾기"
   ]
  },
  {
   "cell_type": "code",
   "execution_count": 10,
   "metadata": {},
   "outputs": [
    {
     "data": {
      "text/plain": [
       "11"
      ]
     },
     "execution_count": 10,
     "metadata": {},
     "output_type": "execute_result"
    }
   ],
   "source": [
    "def solution(n): return min([i for i in range(1, n) if n % i == 1])\n",
    "\n",
    "solution(12)"
   ]
  },
  {
   "cell_type": "markdown",
   "metadata": {},
   "source": [
    "# 부족한 금액 계산하기"
   ]
  },
  {
   "cell_type": "code",
   "execution_count": 13,
   "metadata": {},
   "outputs": [
    {
     "data": {
      "text/plain": [
       "10"
      ]
     },
     "execution_count": 13,
     "metadata": {},
     "output_type": "execute_result"
    }
   ],
   "source": [
    "def solution(price, money, count):\n",
    "    totalPrice = 0\n",
    "    for i in range(1, count + 1):\n",
    "        totalPrice += price * i\n",
    "    answer = money-totalPrice\n",
    "    if answer >= 0:\n",
    "        return 0\n",
    "\n",
    "    return abs(answer)\n",
    "\n",
    "solution(3,20,4)"
   ]
  },
  {
   "cell_type": "markdown",
   "metadata": {},
   "source": [
    "# 비밀지도"
   ]
  },
  {
   "cell_type": "code",
   "execution_count": 66,
   "metadata": {},
   "outputs": [
    {
     "data": {
      "text/plain": [
       "['######', '###  #', '##  ##', ' #### ', ' #####', '### # ']"
      ]
     },
     "execution_count": 66,
     "metadata": {},
     "output_type": "execute_result"
    }
   ],
   "source": [
    "def solution(n, arr1, arr2):\n",
    "    a, b = map(lambda x: [bin(i)[2:].zfill(n) for i in x], [arr1,arr2])\n",
    "    answer = []\n",
    "    for i in range(n):\n",
    "        x, y = list(a[i]), list(b[i])\n",
    "        k = ''\n",
    "        for j in range(len(x)):\n",
    "            if y[j] == '1':\n",
    "                x[j] = y[j]\n",
    "            if x[j] == '1':\n",
    "                k += '#'\n",
    "            else:\n",
    "                k += ' '\n",
    "        answer.append(k)\n",
    "    return answer\n",
    "\n",
    "solution(6,[46, 33, 33 ,22, 31, 50],[27 ,56, 19, 14, 14, 10])"
   ]
  },
  {
   "cell_type": "code",
   "execution_count": 42,
   "metadata": {},
   "outputs": [
    {
     "name": "stdout",
     "output_type": "stream",
     "text": [
      "['101110', '100001', '100001', '010110', '011111', '110010'] ['011011', '111000', '010011', '001110', '001110', '001010']\n"
     ]
    }
   ],
   "source": [
    "a = [46, 33, 33 ,22, 31, 50]\n",
    "b = [27 ,56, 19, 14, 14, 10]\n",
    "n = 6\n",
    "\n",
    "c,d = map(lambda x: [str(bin(i)[2:]).zfill(n) for i in x], [a,b])\n",
    "\n",
    "print(c,d)"
   ]
  },
  {
   "cell_type": "code",
   "execution_count": 31,
   "metadata": {},
   "outputs": [
    {
     "name": "stdout",
     "output_type": "stream",
     "text": [
      "['01001', '10100', '11100', '10010', '01011'] ['11110', '00001', '10101', '10001', '11100']\n"
     ]
    }
   ],
   "source": [
    "a = [9, 20, 28, 18, 11]\n",
    "b = [30, 1, 21, 17, 28]\n",
    "n = 5\n",
    "\n",
    "c,d = map(lambda x: [str(bin(i)[2:]).zfill(n) for i in x], [a,b])\n",
    "\n",
    "print(c,d)"
   ]
  },
  {
   "cell_type": "code",
   "execution_count": 62,
   "metadata": {},
   "outputs": [],
   "source": [
    "def solution(n, *maps):\n",
    "    return [line(n, a | b) for a, b in zip(*maps)]\n",
    "\n",
    "\n",
    "def line(n, x):\n",
    "    return ''.join(' #'[int(i)] for i in f'{x:016b}'[-n:])"
   ]
  },
  {
   "cell_type": "code",
   "execution_count": 63,
   "metadata": {},
   "outputs": [
    {
     "data": {
      "text/plain": [
       "['######', '###  #', '##  ##', ' #### ', ' #####', '### # ']"
      ]
     },
     "execution_count": 63,
     "metadata": {},
     "output_type": "execute_result"
    }
   ],
   "source": [
    "solution(6,[46, 33, 33 ,22, 31, 50],[27 ,56, 19, 14, 14, 10])"
   ]
  },
  {
   "cell_type": "code",
   "execution_count": 67,
   "metadata": {},
   "outputs": [
    {
     "name": "stdout",
     "output_type": "stream",
     "text": [
      "<class 'str'>\n"
     ]
    }
   ],
   "source": [
    "h = bin(3)\n",
    "print(type(h))"
   ]
  },
  {
   "cell_type": "code",
   "execution_count": null,
   "metadata": {},
   "outputs": [],
   "source": []
  }
 ],
 "metadata": {
  "interpreter": {
   "hash": "435c7524b81c754d2a38f9b1930a50d7a83318eec9a7b6faab8c4b8cfd59b603"
  },
  "kernelspec": {
   "display_name": "Python 3.8.10 64-bit",
   "language": "python",
   "name": "python3"
  },
  "language_info": {
   "codemirror_mode": {
    "name": "ipython",
    "version": 3
   },
   "file_extension": ".py",
   "mimetype": "text/x-python",
   "name": "python",
   "nbconvert_exporter": "python",
   "pygments_lexer": "ipython3",
   "version": "3.8.10"
  },
  "orig_nbformat": 4
 },
 "nbformat": 4,
 "nbformat_minor": 2
}
