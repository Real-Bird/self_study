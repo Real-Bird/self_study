{
 "cells": [
  {
   "cell_type": "markdown",
   "metadata": {},
   "source": [
    "# 두 정수 사이의 합"
   ]
  },
  {
   "cell_type": "code",
   "execution_count": 7,
   "metadata": {},
   "outputs": [
    {
     "data": {
      "text/plain": [
       "12"
      ]
     },
     "execution_count": 7,
     "metadata": {},
     "output_type": "execute_result"
    }
   ],
   "source": [
    "def solution(a, b):\n",
    "    if a > b: a,b = b,a\n",
    "    return sum(range(a,b+1)) \n",
    "\n",
    "solution(3, 5)"
   ]
  },
  {
   "cell_type": "markdown",
   "metadata": {},
   "source": [
    "# 문자열 내 마음대로 정렬하기"
   ]
  },
  {
   "cell_type": "code",
   "execution_count": 32,
   "metadata": {},
   "outputs": [
    {
     "name": "stdout",
     "output_type": "stream",
     "text": [
      "['car', 'bed', 'sun']\n",
      "['abcd', 'abce', 'cdx']\n"
     ]
    }
   ],
   "source": [
    "def solution(strings, n):\n",
    "    return sorted(sorted(strings), key=lambda x: x[n])\n",
    "print(solution([\"sun\", \"bed\", \"car\"], 1))\n",
    "print(solution([\"abce\", \"abcd\", \"cdx\"], 2))"
   ]
  },
  {
   "cell_type": "code",
   "execution_count": null,
   "metadata": {},
   "outputs": [],
   "source": []
  }
 ],
 "metadata": {
  "interpreter": {
   "hash": "435c7524b81c754d2a38f9b1930a50d7a83318eec9a7b6faab8c4b8cfd59b603"
  },
  "kernelspec": {
   "display_name": "Python 3.8.10 64-bit",
   "language": "python",
   "name": "python3"
  },
  "language_info": {
   "codemirror_mode": {
    "name": "ipython",
    "version": 3
   },
   "file_extension": ".py",
   "mimetype": "text/x-python",
   "name": "python",
   "nbconvert_exporter": "python",
   "pygments_lexer": "ipython3",
   "version": "3.8.10"
  },
  "orig_nbformat": 4
 },
 "nbformat": 4,
 "nbformat_minor": 2
}
