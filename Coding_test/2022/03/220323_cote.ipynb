{
 "cells": [
  {
   "cell_type": "markdown",
   "metadata": {},
   "source": [
    "# 더 맵게"
   ]
  },
  {
   "cell_type": "code",
   "execution_count": 5,
   "metadata": {},
   "outputs": [
    {
     "name": "stdout",
     "output_type": "stream",
     "text": [
      "2\n"
     ]
    }
   ],
   "source": [
    "def solution(scoville, k):\n",
    "    scoville.sort()\n",
    "    answer = 0\n",
    "    lowest = scoville[0]\n",
    "    for i in range(1, len(scoville)):\n",
    "        temp = lowest + (scoville[i] * 2)\n",
    "        if scoville[i] < k:\n",
    "            lowest = temp\n",
    "            answer += 1\n",
    "    if answer == 0:\n",
    "        return -1\n",
    "        \n",
    "    return answer\n",
    "\n",
    "print(solution([1, 2, 3, 9, 10, 12],7))"
   ]
  },
  {
   "cell_type": "code",
   "execution_count": 25,
   "metadata": {},
   "outputs": [
    {
     "name": "stdout",
     "output_type": "stream",
     "text": [
      "i=  1 : 3 4\n",
      "i=  2 : 5 6\n",
      "i=  3 : 7 8\n",
      "i=  4 : 9 10\n",
      "i=  5 : 11 12\n"
     ]
    }
   ],
   "source": [
    "for i in range(1,6):\n",
    "  print('i= ', i, ':', 2*i+1, 2*i+2)"
   ]
  },
  {
   "cell_type": "code",
   "execution_count": 21,
   "metadata": {},
   "outputs": [
    {
     "name": "stdout",
     "output_type": "stream",
     "text": [
      "[3, 9, 10, 12]\n",
      "[3, 5, 10, 12, 9]\n",
      "[9, 12, 10]\n",
      "[9, 12, 10, 13]\n",
      "2\n",
      "[4, 9, 7, 11]\n",
      "[4, 5, 7, 11, 9]\n",
      "[7, 9, 11]\n",
      "[7, 9, 11, 14]\n",
      "[11, 14]\n",
      "[11, 14, 25]\n",
      "3\n"
     ]
    }
   ],
   "source": [
    "import heapq\n",
    "\n",
    "def solution(scoville, K):\n",
    "    heapq.heapify(scoville)\n",
    "    answer = 0\n",
    "\n",
    "    while scoville[0] <= K:\n",
    "        if len(scoville) == 1:\n",
    "            return -1\n",
    "        a=heapq.heappop(scoville)\n",
    "        b=heapq.heappop(scoville)\n",
    "        heapq.heappush(scoville,a+b*2)\n",
    "\n",
    "        answer += 1\n",
    "\n",
    "    return answer\n",
    "\n",
    "print(solution([1, 2, 3, 9, 10, 12],7))\n",
    "print(solution([7, 2, 1, 9, 4, 11],9))"
   ]
  },
  {
   "cell_type": "code",
   "execution_count": 17,
   "metadata": {},
   "outputs": [
    {
     "name": "stdout",
     "output_type": "stream",
     "text": [
      "[4]\n",
      "[1, 4]\n",
      "[1, 4, 7]\n",
      "[1, 3, 7, 4]\n",
      "[1, 3, 7, 4, 6]\n"
     ]
    }
   ],
   "source": [
    "import heapq\n",
    "\n",
    "heap = []\n",
    "heapq.heappush(heap, 4)\n",
    "print(heap)\n",
    "heapq.heappush(heap, 1)\n",
    "print(heap)\n",
    "heapq.heappush(heap, 7)\n",
    "print(heap)\n",
    "heapq.heappush(heap, 3)\n",
    "print(heap)\n",
    "heapq.heappush(heap, 6)\n",
    "print(heap)"
   ]
  },
  {
   "cell_type": "code",
   "execution_count": 29,
   "metadata": {},
   "outputs": [
    {
     "name": "stdout",
     "output_type": "stream",
     "text": [
      "[2]\n",
      "[2, 4]\n",
      "[2, 4, 9]\n",
      "[2, 4, 9, 11]\n",
      "[2, 4, 9, 11, 7]\n",
      "[2, 4, 3, 11, 7, 9]\n",
      "[1, 4, 2, 11, 7, 9, 3]\n",
      "[0, 1, 2, 4, 7, 9, 3, 11]\n"
     ]
    }
   ],
   "source": [
    "heap = []\n",
    "heapq.heappush(heap, 2)\n",
    "print(heap)\n",
    "heapq.heappush(heap, 4)\n",
    "print(heap)\n",
    "heapq.heappush(heap, 9)\n",
    "print(heap)\n",
    "heapq.heappush(heap, 11)\n",
    "print(heap)\n",
    "heapq.heappush(heap, 7)\n",
    "print(heap)\n",
    "heapq.heappush(heap, 3)\n",
    "print(heap)\n",
    "heapq.heappush(heap, 1)\n",
    "print(heap)\n",
    "heapq.heappush(heap, 0)\n",
    "print(heap)"
   ]
  },
  {
   "cell_type": "code",
   "execution_count": null,
   "metadata": {},
   "outputs": [],
   "source": []
  }
 ],
 "metadata": {
  "interpreter": {
   "hash": "435c7524b81c754d2a38f9b1930a50d7a83318eec9a7b6faab8c4b8cfd59b603"
  },
  "kernelspec": {
   "display_name": "Python 3.8.10 64-bit",
   "language": "python",
   "name": "python3"
  },
  "language_info": {
   "codemirror_mode": {
    "name": "ipython",
    "version": 3
   },
   "file_extension": ".py",
   "mimetype": "text/x-python",
   "name": "python",
   "nbconvert_exporter": "python",
   "pygments_lexer": "ipython3",
   "version": "3.8.10"
  },
  "orig_nbformat": 4
 },
 "nbformat": 4,
 "nbformat_minor": 2
}
