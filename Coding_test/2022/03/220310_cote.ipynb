{
 "cells": [
  {
   "cell_type": "markdown",
   "metadata": {},
   "source": [
    "# 가운데 글자 가져오기"
   ]
  },
  {
   "cell_type": "code",
   "execution_count": 8,
   "metadata": {},
   "outputs": [
    {
     "name": "stdout",
     "output_type": "stream",
     "text": [
      "c\n",
      "we\n"
     ]
    }
   ],
   "source": [
    "def solution(s):\n",
    "    return s[int((n)/2)] if (n:=len(s)) % 2 == 1 else s[n//2-1:n//2+1]\n",
    "\n",
    "print(solution(\"abcde\"))\n",
    "print(solution(\"qwer\"))"
   ]
  },
  {
   "cell_type": "markdown",
   "metadata": {},
   "source": [
    "# 다트 게임"
   ]
  },
  {
   "cell_type": "code",
   "execution_count": 96,
   "metadata": {},
   "outputs": [
    {
     "name": "stdout",
     "output_type": "stream",
     "text": [
      "1 1\n",
      "2 1\n",
      "4 [-1]\n",
      "1 2\n",
      "2 2\n",
      "3 [-2, 4]\n",
      "1 3\n",
      "2 3\n",
      "sol 1:  5\n",
      "\n",
      "1 1\n",
      "2 1\n",
      "1 2\n",
      "2 2\n",
      "4 [1, -2]\n",
      "1 1\n",
      "1 10\n",
      "2 10\n",
      "sol 2:  9\n"
     ]
    }
   ],
   "source": [
    "def solution(s):\n",
    "    pointCalc = {\"S\" : 1, \"D\" : 2, \"T\" : 3, \"*\" : 2, \"#\" : -1}\n",
    "    num = ''\n",
    "    point = []\n",
    "    for i in range(len(s)):\n",
    "        if s[i].isnumeric():\n",
    "            num += s[i]\n",
    "        elif list(pointCalc.keys()&s[i])[0] in [\"S\", \"D\", \"T\"]:\n",
    "            x = int(num) ** pointCalc[s[i]]\n",
    "            point.append(x)\n",
    "            num = ''\n",
    "        elif (a := list(pointCalc.keys()&s[i])[0]) in [\"*\", \"#\"]:\n",
    "            if len(point) > 1 and a == \"*\":\n",
    "                point[-1] = point[-1] * pointCalc[s[i]]\n",
    "                point[-2] = point[-2] * pointCalc[s[i]]\n",
    "                num = ''\n",
    "            else:\n",
    "                point[-1] = point[-1] * pointCalc[s[i]]\n",
    "                num = ''\n",
    "    return sum(point)\n",
    "\n",
    "print(\"sol 1: \",solution(\"1D#2S*3S\"))\n",
    "print()\n",
    "print(\"sol 2: \",solution(\"1D2S#10S\"))"
   ]
  },
  {
   "cell_type": "code",
   "execution_count": 83,
   "metadata": {},
   "outputs": [
    {
     "name": "stdout",
     "output_type": "stream",
     "text": [
      "9\n"
     ]
    }
   ],
   "source": [
    "pointCalc = {\"S\" : 1, \"D\" : 2, \"T\" : 3, \"*\" : 2, \"#\" : -1}\n",
    "s = \"1D2S#10S\"\n",
    "answer = 0\n",
    "num = ''\n",
    "point = []\n",
    "for i in range(len(s)):\n",
    "    if s[i].isdigit():\n",
    "        num += s[i]\n",
    "    elif list(pointCalc.keys()&s[i])[0] in [\"S\", \"D\", \"T\"]:\n",
    "        x = int(num) ** pointCalc[s[i]]\n",
    "        point.append(x)\n",
    "        num = ''\n",
    "    elif list(pointCalc.keys()&s[i])[0] in [\"*\", \"#\"]:\n",
    "        point[-1] = point[-1] * pointCalc[s[i]]\n",
    "        num = ''\n",
    "answer = sum(point)\n",
    "print(answer)\n"
   ]
  }
 ],
 "metadata": {
  "interpreter": {
   "hash": "435c7524b81c754d2a38f9b1930a50d7a83318eec9a7b6faab8c4b8cfd59b603"
  },
  "kernelspec": {
   "display_name": "Python 3.8.10 64-bit",
   "language": "python",
   "name": "python3"
  },
  "language_info": {
   "codemirror_mode": {
    "name": "ipython",
    "version": 3
   },
   "file_extension": ".py",
   "mimetype": "text/x-python",
   "name": "python",
   "nbconvert_exporter": "python",
   "pygments_lexer": "ipython3",
   "version": "3.8.10"
  },
  "orig_nbformat": 4
 },
 "nbformat": 4,
 "nbformat_minor": 2
}
