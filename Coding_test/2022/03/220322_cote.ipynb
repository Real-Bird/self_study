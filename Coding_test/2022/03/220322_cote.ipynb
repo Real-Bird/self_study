{
 "cells": [
  {
   "cell_type": "markdown",
   "metadata": {},
   "source": [
    "# 멀쩡한 사각형"
   ]
  },
  {
   "cell_type": "code",
   "execution_count": 3,
   "metadata": {},
   "outputs": [
    {
     "name": "stdout",
     "output_type": "stream",
     "text": [
      "80\n"
     ]
    }
   ],
   "source": [
    "import math\n",
    "def solution(w,h):\n",
    "    return w*h - (w+h-math.gcd(w,h))\n",
    "\n",
    "print(solution(8,12))"
   ]
  },
  {
   "cell_type": "markdown",
   "metadata": {},
   "source": [
    "# 124 나라의 숫자"
   ]
  },
  {
   "cell_type": "code",
   "execution_count": 66,
   "metadata": {},
   "outputs": [
    {
     "name": "stdout",
     "output_type": "stream",
     "text": [
      "10 = 41\n",
      "6 = 14\n",
      "5 = 12\n",
      "4 = 11\n",
      "3 = 4\n",
      "2 = 2\n",
      "1 = 1\n"
     ]
    }
   ],
   "source": [
    "def solution(n):\n",
    "    answer = ''\n",
    "    temp = []\n",
    "    \n",
    "    while n >= 1:\n",
    "        if (a:=n % 3) == 1:\n",
    "            temp.append('1')\n",
    "            n -= 1\n",
    "            n //= 3\n",
    "        elif a == 2:\n",
    "            temp.append('2')\n",
    "            n -= 1\n",
    "            n //= 3\n",
    "        else:\n",
    "            temp.append('4')\n",
    "            n -= 1\n",
    "            n //= 3\n",
    "        \n",
    "    temp.reverse()\n",
    "    return answer.join(temp)\n",
    "\n",
    "print(f'10 = {solution(10)}')\n",
    "print(f'6 = {solution(6)}')\n",
    "print(f'5 = {solution(5)}')\n",
    "print(f'4 = {solution(4)}')\n",
    "print(f'3 = {solution(3)}')\n",
    "print(f'2 = {solution(2)}')\n",
    "print(f'1 = {solution(1)}')"
   ]
  },
  {
   "cell_type": "code",
   "execution_count": 25,
   "metadata": {},
   "outputs": [
    {
     "name": "stdout",
     "output_type": "stream",
     "text": [
      "1\n",
      "2\n",
      "4\n",
      "1\n",
      "2\n",
      "4\n",
      "1\n",
      "2\n",
      "4\n"
     ]
    }
   ],
   "source": [
    "arr = [1, 2, 3, 4, 5, 6, 7, 8, 9]\n",
    "for i in arr:\n",
    "  if i % 3 == 1:\n",
    "    print(1)\n",
    "  elif i % 3 == 2:\n",
    "    print(2)\n",
    "  else:\n",
    "    print(4)"
   ]
  },
  {
   "cell_type": "markdown",
   "metadata": {},
   "source": [
    "# 기능개발"
   ]
  },
  {
   "cell_type": "code",
   "execution_count": 35,
   "metadata": {},
   "outputs": [
    {
     "name": "stdout",
     "output_type": "stream",
     "text": [
      "[2, 1]\n",
      "[1, 3, 2]\n"
     ]
    }
   ],
   "source": [
    "from collections import deque\n",
    "import math\n",
    "\n",
    "def solution(progresses, speeds):\n",
    "    answer = []\n",
    "    temp = deque()\n",
    "    for i in zip(progresses, speeds): \n",
    "        temp.append(math.ceil((100 - i[0]) / i[1]))\n",
    "    \n",
    "    count = 0\n",
    "    temp2 = temp[0]\n",
    "    while temp:\n",
    "        pop_temp = temp.popleft()\n",
    "        if temp2 < pop_temp:\n",
    "            temp2 = pop_temp\n",
    "            answer.append(count)\n",
    "            count = 1\n",
    "        else:\n",
    "            count += 1\n",
    "    answer.append(count)\n",
    "    return answer\n",
    "\n",
    "print(solution([93, 30, 55],[1, 30, 5]))\n",
    "print(solution([95, 90, 99, 99, 80, 99],[1, 1, 1, 1, 1, 1]))"
   ]
  },
  {
   "cell_type": "code",
   "execution_count": 36,
   "metadata": {},
   "outputs": [
    {
     "name": "stdout",
     "output_type": "stream",
     "text": [
      "[2, 1]\n",
      "[1, 3, 2]\n"
     ]
    }
   ],
   "source": [
    "def solution(progresses, speeds):\n",
    "    Q=[]\n",
    "    for p, s in zip(progresses, speeds):\n",
    "        if len(Q)==0 or Q[-1][0]<-((p-100)//s):\n",
    "            Q.append([-((p-100)//s),1])\n",
    "        else:\n",
    "            Q[-1][1]+=1\n",
    "    return [q[1] for q in Q]\n",
    "\n",
    "print(solution([93, 30, 55],[1, 30, 5]))\n",
    "print(solution([95, 90, 99, 99, 80, 99],[1, 1, 1, 1, 1, 1]))"
   ]
  },
  {
   "cell_type": "code",
   "execution_count": null,
   "metadata": {},
   "outputs": [],
   "source": []
  }
 ],
 "metadata": {
  "interpreter": {
   "hash": "435c7524b81c754d2a38f9b1930a50d7a83318eec9a7b6faab8c4b8cfd59b603"
  },
  "kernelspec": {
   "display_name": "Python 3.8.10 64-bit",
   "language": "python",
   "name": "python3"
  },
  "language_info": {
   "codemirror_mode": {
    "name": "ipython",
    "version": 3
   },
   "file_extension": ".py",
   "mimetype": "text/x-python",
   "name": "python",
   "nbconvert_exporter": "python",
   "pygments_lexer": "ipython3",
   "version": "3.8.10"
  },
  "orig_nbformat": 4
 },
 "nbformat": 4,
 "nbformat_minor": 2
}
