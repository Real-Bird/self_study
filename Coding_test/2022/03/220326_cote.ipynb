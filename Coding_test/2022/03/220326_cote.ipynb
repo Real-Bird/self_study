{
 "cells": [
  {
   "cell_type": "markdown",
   "metadata": {},
   "source": [
    "# 행렬 테두리 회전하기"
   ]
  },
  {
   "cell_type": "code",
   "execution_count": 35,
   "metadata": {},
   "outputs": [
    {
     "name": "stdout",
     "output_type": "stream",
     "text": [
      "[8, 10, 25]\n",
      "[1, 1, 5, 3]\n",
      "[1]\n"
     ]
    }
   ],
   "source": [
    "from queue import deque\n",
    "\n",
    "def solution(rows, columns, queries):\n",
    "    table = [[(i*columns) +(j+1) for j in range(columns)] for i in range(rows)]\n",
    "    answer = []\n",
    "    q = deque(queries)\n",
    "    while q:\n",
    "        x1, y1, x2, y2 = q.popleft()\n",
    "        start = table[x1-1][y1-1]\n",
    "        min_num = start\n",
    "\n",
    "        # 왼쪽 세로줄 이동\n",
    "        for i in range(x1-1, x2-1):\n",
    "            temp = table[i+1][y1-1]\n",
    "            table[i][y1-1] = temp\n",
    "            min_num = min(min_num, temp)\n",
    "            \n",
    "        # 아래쪽 가로줄 이동\n",
    "        for i in range(y1-1, y2-1):\n",
    "            temp = table[x2-1][i+1]\n",
    "            table[x2-1][i] = temp\n",
    "            min_num = min(min_num, temp)\n",
    "\n",
    "        # 오른쪽 세로줄 이동\n",
    "        for i in range(x2-1, x1-1, -1):\n",
    "            temp = table[i-1][y2-1]\n",
    "            table[i][y2-1] = temp\n",
    "            min_num = min(min_num, temp)\n",
    "\n",
    "        # 위쪽 가로줄 이동\n",
    "        for i in range(y2-1, y1-1, -1):\n",
    "            temp = table[x1-1][i-1]\n",
    "            table[x1-1][i] = temp\n",
    "            min_num = min(min_num, temp)\n",
    "        \n",
    "        # 위쪽 가로줄 이동에서 빠진 값 할당\n",
    "        table[x1-1][y1] = start\n",
    "        answer.append(min_num)\n",
    "    return answer\n",
    "\n",
    "print(solution(6,6,[[2,2,5,4],[3,3,6,6],[5,1,6,3]]))\n",
    "print(solution(3,3,[[1,1,2,2],[1,2,2,3],[2,1,3,2],[2,2,3,3]]))\n",
    "print(solution(100,97,[[1,1,100,97]]))"
   ]
  },
  {
   "cell_type": "code",
   "execution_count": 37,
   "metadata": {},
   "outputs": [
    {
     "name": "stdout",
     "output_type": "stream",
     "text": [
      "deque([[31, 32, 33, 34, 35, 36], [1, 2, 3, 4, 5, 6], [7, 8, 9, 10, 11, 12], [13, 14, 15, 16, 17, 18], [19, 20, 21, 22, 23, 24], [25, 26, 27, 28, 29, 30]])\n"
     ]
    }
   ],
   "source": [
    "temp = []\n",
    "for i in range(6):\n",
    "  temp2 = []\n",
    "  for j in range(6):\n",
    "    temp2.append((i * 6) + (j + 1))\n",
    "  temp.append(temp2)\n",
    "i = deque(temp)\n",
    "i.rotate(1)\n",
    "print(i)"
   ]
  },
  {
   "cell_type": "code",
   "execution_count": 29,
   "metadata": {},
   "outputs": [
    {
     "name": "stdout",
     "output_type": "stream",
     "text": [
      "[[1, 2, 3], [4, 5, 6], [7, 8, 9]]\n",
      "[1, 1, 5, 3]\n"
     ]
    }
   ],
   "source": [
    "def solution(rows, columns, queries):\n",
    "\n",
    "    answer = []\n",
    "    array = [[0 for col in range(columns)] for row in range(rows)]\n",
    "    t = 1\n",
    "    for row in range(rows):\n",
    "        for col in range(columns):\n",
    "            array[row][col] = t\n",
    "            t += 1\n",
    "    print(array)\n",
    "    for x1,y1,x2,y2 in queries:\n",
    "        tmp = array[x1-1][y1-1]\n",
    "        mini = tmp\n",
    "\n",
    "        for k in range(x1-1,x2-1):\n",
    "            test = array[k+1][y1-1]\n",
    "            array[k][y1-1] = test\n",
    "            mini = min(mini, test)\n",
    "\n",
    "        for k in range(y1-1,y2-1):\n",
    "            test = array[x2-1][k+1]\n",
    "            array[x2-1][k] = test\n",
    "            mini = min(mini, test)\n",
    "\n",
    "        for k in range(x2-1,x1-1,-1):\n",
    "            test = array[k-1][y2-1]\n",
    "            array[k][y2-1] = test\n",
    "            mini = min(mini, test)\n",
    "\n",
    "        for k in range(y2-1,y1-1,-1):\n",
    "            test = array[x1-1][k-1]\n",
    "            array[x1-1][k] = test\n",
    "            mini = min(mini, test)\n",
    "\n",
    "        array[x1-1][y1] = tmp\n",
    "        answer.append(mini)\n",
    "\n",
    "    return answer\n",
    "\n",
    "print(solution(3,3,[[1,1,2,2],[1,2,2,3],[2,1,3,2],[2,2,3,3]]))"
   ]
  },
  {
   "cell_type": "code",
   "execution_count": null,
   "metadata": {},
   "outputs": [],
   "source": []
  }
 ],
 "metadata": {
  "interpreter": {
   "hash": "435c7524b81c754d2a38f9b1930a50d7a83318eec9a7b6faab8c4b8cfd59b603"
  },
  "kernelspec": {
   "display_name": "Python 3.8.10 64-bit",
   "language": "python",
   "name": "python3"
  },
  "language_info": {
   "codemirror_mode": {
    "name": "ipython",
    "version": 3
   },
   "file_extension": ".py",
   "mimetype": "text/x-python",
   "name": "python",
   "nbconvert_exporter": "python",
   "pygments_lexer": "ipython3",
   "version": "3.8.10"
  },
  "orig_nbformat": 4
 },
 "nbformat": 4,
 "nbformat_minor": 2
}
