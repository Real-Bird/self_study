{
 "cells": [
  {
   "cell_type": "markdown",
   "metadata": {},
   "source": [
    "# 정수 내림차순으로 배치하기"
   ]
  },
  {
   "cell_type": "code",
   "execution_count": 7,
   "metadata": {},
   "outputs": [
    {
     "data": {
      "text/plain": [
       "8775421"
      ]
     },
     "execution_count": 7,
     "metadata": {},
     "output_type": "execute_result"
    }
   ],
   "source": [
    "def solution(n):\n",
    "    return int(\"\".join(sorted(list(str(int(n))), reverse=True)))\n",
    "\n",
    "solution(1254877)"
   ]
  },
  {
   "cell_type": "markdown",
   "metadata": {},
   "source": [
    "# 정수 제곱근 판별"
   ]
  },
  {
   "cell_type": "code",
   "execution_count": 14,
   "metadata": {},
   "outputs": [
    {
     "data": {
      "text/plain": [
       "144"
      ]
     },
     "execution_count": 14,
     "metadata": {},
     "output_type": "execute_result"
    }
   ],
   "source": [
    "def solution(n):\n",
    "    return int(n ** 0.5 + 1) ** 2 if n % n ** 0.5 == 0 else -1\n",
    "    \n",
    "\n",
    "solution(121)"
   ]
  },
  {
   "cell_type": "markdown",
   "metadata": {},
   "source": [
    "# 제일 작은 수 제거하기"
   ]
  },
  {
   "cell_type": "code",
   "execution_count": 35,
   "metadata": {},
   "outputs": [
    {
     "data": {
      "text/plain": [
       "[4, 3, 2]"
      ]
     },
     "execution_count": 35,
     "metadata": {},
     "output_type": "execute_result"
    }
   ],
   "source": [
    "def solution(arr):\n",
    "    if len(arr) <= 1:\n",
    "        return [-1]\n",
    "    else:\n",
    "        arr.remove(min(arr))\n",
    "        return arr\n",
    "\n",
    "solution([4,3,2,1])"
   ]
  },
  {
   "cell_type": "markdown",
   "metadata": {},
   "source": [
    "# 짝수와 홀수"
   ]
  },
  {
   "cell_type": "code",
   "execution_count": 38,
   "metadata": {},
   "outputs": [
    {
     "data": {
      "text/plain": [
       "'Odd'"
      ]
     },
     "execution_count": 38,
     "metadata": {},
     "output_type": "execute_result"
    }
   ],
   "source": [
    "def solution(num):\n",
    "    return \"Odd\" if num % 2 == 1 else \"Even\"\n",
    "\n",
    "solution(3)"
   ]
  },
  {
   "cell_type": "markdown",
   "metadata": {},
   "source": [
    "# 최대공약수와 최소공배수"
   ]
  },
  {
   "cell_type": "code",
   "execution_count": 8,
   "metadata": {},
   "outputs": [
    {
     "data": {
      "text/plain": [
       "[3, 12]"
      ]
     },
     "execution_count": 8,
     "metadata": {},
     "output_type": "execute_result"
    }
   ],
   "source": [
    "from math import gcd\n",
    "\n",
    "def solution(n, m):\n",
    "    return [(GCD:=gcd(n,m)), n*m//GCD]\n",
    "\n",
    "solution(3, 12)"
   ]
  },
  {
   "cell_type": "markdown",
   "metadata": {},
   "source": [
    "# 콜라츠 추측"
   ]
  },
  {
   "cell_type": "markdown",
   "metadata": {},
   "source": [
    "#### 1-1. 입력된 수가 짝수라면 2로 나눕니다. \n",
    "#### 1-2. 입력된 수가 홀수라면 3을 곱하고 1을 더합니다.\n",
    "#### 2. 결과로 나온 수에 같은 작업을 1이 될 때까지 반복합니다."
   ]
  },
  {
   "cell_type": "code",
   "execution_count": 23,
   "metadata": {},
   "outputs": [
    {
     "name": "stdout",
     "output_type": "stream",
     "text": [
      "8\n",
      "4\n",
      "-1\n"
     ]
    }
   ],
   "source": [
    "def solution(num):\n",
    "    answer = 0\n",
    "    for i in range(500):\n",
    "        if num == 1:\n",
    "            break\n",
    "        if num % 2:\n",
    "            num = num * 3 + 1\n",
    "            answer += 1\n",
    "        else:\n",
    "            num = num // 2\n",
    "            answer += 1\n",
    "    if num != 1:\n",
    "        return -1       \n",
    "    return answer\n",
    "\n",
    "print(solution(6))\n",
    "print(solution(16))\n",
    "print(solution(626331))"
   ]
  },
  {
   "cell_type": "markdown",
   "metadata": {},
   "source": [
    "# 평균 구하기"
   ]
  },
  {
   "cell_type": "code",
   "execution_count": 24,
   "metadata": {},
   "outputs": [
    {
     "name": "stdout",
     "output_type": "stream",
     "text": [
      "2.5\n"
     ]
    }
   ],
   "source": [
    "def solution(arr):\n",
    "    return sum(arr)/len(arr)\n",
    "\n",
    "print(solution([1,2,3,4]))"
   ]
  },
  {
   "cell_type": "markdown",
   "metadata": {},
   "source": [
    "# 하샤드 수"
   ]
  },
  {
   "cell_type": "code",
   "execution_count": 33,
   "metadata": {},
   "outputs": [
    {
     "name": "stdout",
     "output_type": "stream",
     "text": [
      "True\n",
      "False\n"
     ]
    }
   ],
   "source": [
    "def solution(x):\n",
    "    y = sum(list(map(int, list(str(x)))))\n",
    "    if x % y:\n",
    "        return False\n",
    "    else:\n",
    "        return True\n",
    "\n",
    "print(solution(10))\n",
    "print(solution(11))"
   ]
  },
  {
   "cell_type": "markdown",
   "metadata": {},
   "source": [
    "# 핸드폰 번호 가리기"
   ]
  },
  {
   "cell_type": "code",
   "execution_count": 42,
   "metadata": {},
   "outputs": [
    {
     "name": "stdout",
     "output_type": "stream",
     "text": [
      "*******4444\n"
     ]
    }
   ],
   "source": [
    "def solution(phone_number):\n",
    "    return phone_number[(n:=len(phone_number))-4:].rjust(n, '*')\n",
    "\n",
    "print(solution(\"01033334444\"))"
   ]
  },
  {
   "cell_type": "code",
   "execution_count": 172,
   "metadata": {},
   "outputs": [
    {
     "name": "stdout",
     "output_type": "stream",
     "text": [
      "[[4, 6], [7, 9]]\n",
      "[[4], [6]]\n"
     ]
    }
   ],
   "source": [
    "def solution(arr1, arr2):\n",
    "    answer = []\n",
    "    for i, j in zip(arr1, arr2):\n",
    "        temp = []\n",
    "        for k in range(len(arr1[0])):\n",
    "            temp.append(i[k]+j[k])\n",
    "        answer.append(temp)\n",
    "    return answer\n",
    "\n",
    "print(solution([[1,2],[2,3]], [[3,4],[5,6]]))\n",
    "print(solution([[1],[2]],[[3],[4]]))"
   ]
  },
  {
   "cell_type": "markdown",
   "metadata": {},
   "source": [
    "# x만큼 간격이 있는 n개의 숫자"
   ]
  },
  {
   "cell_type": "code",
   "execution_count": 180,
   "metadata": {},
   "outputs": [
    {
     "name": "stdout",
     "output_type": "stream",
     "text": [
      "[2, 4, 6, 8, 10]\n",
      "[4, 8, 12]\n"
     ]
    }
   ],
   "source": [
    "def solution(x, n):\n",
    "    return [(i * x) for i in range(1, n + 1)]\n",
    "\n",
    "print(solution(2, 5))\n",
    "print(solution(4, 3))"
   ]
  },
  {
   "cell_type": "markdown",
   "metadata": {},
   "source": [
    "# 직사각형 별찍기"
   ]
  },
  {
   "cell_type": "code",
   "execution_count": 182,
   "metadata": {},
   "outputs": [
    {
     "name": "stdout",
     "output_type": "stream",
     "text": [
      "*****\n",
      "*****\n",
      "*****\n"
     ]
    }
   ],
   "source": [
    "a, b = map(int, input().strip().split(' '))\n",
    "\n",
    "for i in range(b):\n",
    "  print('*'*a)"
   ]
  },
  {
   "cell_type": "code",
   "execution_count": null,
   "metadata": {},
   "outputs": [],
   "source": []
  }
 ],
 "metadata": {
  "interpreter": {
   "hash": "435c7524b81c754d2a38f9b1930a50d7a83318eec9a7b6faab8c4b8cfd59b603"
  },
  "kernelspec": {
   "display_name": "Python 3.8.10 64-bit",
   "language": "python",
   "name": "python3"
  },
  "language_info": {
   "codemirror_mode": {
    "name": "ipython",
    "version": 3
   },
   "file_extension": ".py",
   "mimetype": "text/x-python",
   "name": "python",
   "nbconvert_exporter": "python",
   "pygments_lexer": "ipython3",
   "version": "3.8.10"
  },
  "orig_nbformat": 4
 },
 "nbformat": 4,
 "nbformat_minor": 2
}
