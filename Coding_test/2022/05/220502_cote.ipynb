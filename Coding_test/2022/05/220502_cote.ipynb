{
 "cells": [
  {
   "cell_type": "markdown",
   "metadata": {},
   "source": [
    "# 동적 프로그래밍 완전 탐색"
   ]
  },
  {
   "cell_type": "markdown",
   "metadata": {},
   "source": [
    "## 내리막 길"
   ]
  },
  {
   "cell_type": "code",
   "execution_count": 1,
   "metadata": {},
   "outputs": [
    {
     "name": "stdout",
     "output_type": "stream",
     "text": [
      "3\n"
     ]
    }
   ],
   "source": [
    "m, n = map(int, input().split())\n",
    "maps = [list(map(int, input().split())) for _ in range(m)]\n",
    "dp = [[-1]*n for _ in range(m)]\n",
    "move = [[0,1], [1,0], [0,-1], [-1,0]]\n",
    "\n",
    "def dp_bruteForce(y, x):\n",
    "    if dp[y][x] != -1:\n",
    "        return dp[y][x]\n",
    "    if y == m-1 and x == n-1:\n",
    "        return 1\n",
    "    dp[y][x] = 0\n",
    "    for i in range(0, 4):\n",
    "        dy = y + move[i][0]\n",
    "        dx = x + move[i][1]\n",
    "        if 0 <= dy < m and 0 <= dx < n and maps[y][x] > maps[dy][dx]:\n",
    "            dp[y][x] += dp_bruteForce(dy, dx)\n",
    "    return dp[y][x]\n",
    "\n",
    "print(dp_bruteForce(0,0))"
   ]
  },
  {
   "cell_type": "markdown",
   "metadata": {},
   "source": [
    "# CLASS 3"
   ]
  },
  {
   "cell_type": "markdown",
   "metadata": {},
   "source": [
    "## 계단 오르기"
   ]
  },
  {
   "cell_type": "code",
   "execution_count": 2,
   "metadata": {},
   "outputs": [
    {
     "name": "stdout",
     "output_type": "stream",
     "text": [
      "75\n"
     ]
    }
   ],
   "source": [
    "n = int(input())\n",
    "s = [0 for i in range(301)]\n",
    "dp = [0 for i in range(301)]\n",
    "for i in range(n):\n",
    "    s[i] = int(input())\n",
    "dp[0] = s[0]\n",
    "dp[1] = s[0] + s[1]\n",
    "dp[2] = max(s[1] + s[2], s[0] + s[2])\n",
    "\n",
    "for i in range(3, n):\n",
    "    dp[i] = max(dp[i-3] + s[i-1] + s[i], dp[i-2] + s[i])\n",
    "\n",
    "print(dp[n-1])"
   ]
  },
  {
   "cell_type": "code",
   "execution_count": null,
   "metadata": {},
   "outputs": [],
   "source": []
  }
 ],
 "metadata": {
  "interpreter": {
   "hash": "435c7524b81c754d2a38f9b1930a50d7a83318eec9a7b6faab8c4b8cfd59b603"
  },
  "kernelspec": {
   "display_name": "Python 3.8.10 64-bit",
   "language": "python",
   "name": "python3"
  },
  "language_info": {
   "codemirror_mode": {
    "name": "ipython",
    "version": 3
   },
   "file_extension": ".py",
   "mimetype": "text/x-python",
   "name": "python",
   "nbconvert_exporter": "python",
   "pygments_lexer": "ipython3",
   "version": "3.8.10"
  },
  "orig_nbformat": 4
 },
 "nbformat": 4,
 "nbformat_minor": 2
}
