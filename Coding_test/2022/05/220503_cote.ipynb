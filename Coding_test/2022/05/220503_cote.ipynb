{
 "cells": [
  {
   "cell_type": "markdown",
   "metadata": {},
   "source": [
    "# CLASS 3"
   ]
  },
  {
   "cell_type": "markdown",
   "metadata": {},
   "source": [
    "## 바이러스"
   ]
  },
  {
   "cell_type": "code",
   "execution_count": 5,
   "metadata": {},
   "outputs": [
    {
     "name": "stdout",
     "output_type": "stream",
     "text": [
      "[[], [2, 5], [1, 3, 5], [2], [7], [1, 2, 6], [5], [4]]\n",
      "4\n"
     ]
    }
   ],
   "source": [
    "def dfs(v):\n",
    "    global cnt\n",
    "    visited[v] = True\n",
    "    for i in graph[v]:\n",
    "        if not visited[i]:\n",
    "            dfs(i)\n",
    "            cnt += 1\n",
    "\n",
    "computer = int(input())\n",
    "couple = int(input())\n",
    "graph = [[]*computer for _ in range(computer+1)]\n",
    "for _ in range(couple):\n",
    "    a, b = map(int, input().split())\n",
    "    graph[a].append(b)\n",
    "    graph[b].append(a)\n",
    "\n",
    "visited = [False] * (computer+1)\n",
    "cnt = 0\n",
    "\n",
    "dfs(1)\n",
    "\n",
    "print(cnt)"
   ]
  },
  {
   "cell_type": "markdown",
   "metadata": {},
   "source": [
    "## 1, 2, 3 더하기"
   ]
  },
  {
   "cell_type": "code",
   "execution_count": 9,
   "metadata": {},
   "outputs": [
    {
     "name": "stdout",
     "output_type": "stream",
     "text": [
      "7\n",
      "44\n",
      "274\n"
     ]
    }
   ],
   "source": [
    "def add123(n):\n",
    "    if n == 1:\n",
    "        return 1\n",
    "    elif n == 2:\n",
    "        return 2\n",
    "    elif n == 3:\n",
    "        return 4\n",
    "    else:\n",
    "        return add123(n-1) + add123(n-2) + add123(n-3)\n",
    "\n",
    "t = int(input())\n",
    "\n",
    "for _ in range(t):\n",
    "    n = int(input())\n",
    "    print(add123(n))"
   ]
  },
  {
   "cell_type": "markdown",
   "metadata": {},
   "source": [
    "# 프로그래머스"
   ]
  },
  {
   "cell_type": "markdown",
   "metadata": {},
   "source": [
    "## 뉴스 클러스터링"
   ]
  },
  {
   "cell_type": "code",
   "execution_count": 51,
   "metadata": {},
   "outputs": [
    {
     "name": "stdout",
     "output_type": "stream",
     "text": [
      "16384\n",
      "43691\n",
      "65536\n"
     ]
    }
   ],
   "source": [
    "from collections import Counter\n",
    "\n",
    "def solution(str1, str2):\n",
    "    str1, str2 = str1.lower(), str2.lower()\n",
    "    s1, s2 = [], []\n",
    "    \n",
    "    for i in range(len(str1)-1):\n",
    "        if str1[i:i+2].isalpha():\n",
    "            s1.append(str1[i:i+2])\n",
    "    \n",
    "    for i in range(len(str2)-1):\n",
    "        if str2[i:i+2].isalpha():\n",
    "            s2.append(str2[i:i+2])\n",
    "\n",
    "    C1, C2 = Counter(s1), Counter(s2)\n",
    "    \n",
    "    inter = len(list((C1&C2).elements()))\n",
    "    union = len(list((C1|C2).elements()))\n",
    "    \n",
    "    j1 = min(inter, union)\n",
    "    j2 = max(inter, union)\n",
    "    return int((j1 / j2)*65536) if j1 != 0 or j2 != 0 else 65536\n",
    "\n",
    "print(solution(\"FRANCE\",\"french\"))\n",
    "print(solution(\"aa1+aa2\",\"AAAA12\"))\n",
    "print(solution(\"E=M*C^2\",\"e=m*c^2\"))"
   ]
  },
  {
   "cell_type": "code",
   "execution_count": null,
   "metadata": {},
   "outputs": [],
   "source": []
  }
 ],
 "metadata": {
  "interpreter": {
   "hash": "435c7524b81c754d2a38f9b1930a50d7a83318eec9a7b6faab8c4b8cfd59b603"
  },
  "kernelspec": {
   "display_name": "Python 3.8.10 64-bit",
   "language": "python",
   "name": "python3"
  },
  "language_info": {
   "codemirror_mode": {
    "name": "ipython",
    "version": 3
   },
   "file_extension": ".py",
   "mimetype": "text/x-python",
   "name": "python",
   "nbconvert_exporter": "python",
   "pygments_lexer": "ipython3",
   "version": "3.8.10"
  },
  "orig_nbformat": 4
 },
 "nbformat": 4,
 "nbformat_minor": 2
}
