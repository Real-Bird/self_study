{
 "cells": [
  {
   "cell_type": "markdown",
   "metadata": {},
   "source": [
    "# CLASS 3+"
   ]
  },
  {
   "cell_type": "markdown",
   "metadata": {},
   "source": [
    "## 유기농 배추"
   ]
  },
  {
   "cell_type": "code",
   "execution_count": 7,
   "metadata": {},
   "outputs": [
    {
     "name": "stdout",
     "output_type": "stream",
     "text": [
      "5\n",
      "1\n"
     ]
    }
   ],
   "source": [
    "from collections import deque\n",
    "\n",
    "dx = [0,0,1,-1]\n",
    "dy = [1,-1,0,0]\n",
    "\n",
    "def bfs(graph, a, b):\n",
    "    q = deque()\n",
    "    q.append((a,b))\n",
    "    graph[a][b] = 0\n",
    "\n",
    "    while q:\n",
    "        x, y = q.popleft()\n",
    "        for i in range(4):\n",
    "            nx = x+dx[i]\n",
    "            ny = y+dy[i]\n",
    "            if nx < 0 or nx >=n or ny < 0 or ny >= m:\n",
    "                continue\n",
    "            if graph[nx][ny] == 1:\n",
    "                graph[nx][ny] = 0\n",
    "                q.append((nx, ny))\n",
    "    return\n",
    "\n",
    "t = int(input())\n",
    "for _ in range(t):\n",
    "    n, m, k = map(int, input().split())\n",
    "    cabbage = [[0]*m for _ in range(n)]\n",
    "    cnt = 0\n",
    "    for _ in range(k):\n",
    "        x, y = map(int, input().split())\n",
    "        cabbage[x][y] = 1\n",
    "    for a in range(n):\n",
    "        for b in range(m):\n",
    "            if cabbage[a][b] == 1:\n",
    "                bfs(cabbage, a, b)\n",
    "                cnt += 1\n",
    "    print(cnt)"
   ]
  },
  {
   "cell_type": "markdown",
   "metadata": {},
   "source": [
    "## 최소 힙"
   ]
  },
  {
   "cell_type": "code",
   "execution_count": 11,
   "metadata": {},
   "outputs": [
    {
     "name": "stdout",
     "output_type": "stream",
     "text": [
      "0\n",
      "1\n",
      "2\n",
      "12345678\n",
      "0\n"
     ]
    }
   ],
   "source": [
    "import heapq\n",
    "\n",
    "n = int(input())\n",
    "heap = []\n",
    "for i in range(n):\n",
    "    x = int(input())\n",
    "    if x == 0:\n",
    "        if heap:\n",
    "            print(heap[0])\n",
    "            heapq.heappop(heap)\n",
    "        else:\n",
    "            print(0)\n",
    "    else:\n",
    "        heapq.heappush(heap, x)"
   ]
  },
  {
   "cell_type": "code",
   "execution_count": null,
   "metadata": {},
   "outputs": [],
   "source": []
  }
 ],
 "metadata": {
  "interpreter": {
   "hash": "435c7524b81c754d2a38f9b1930a50d7a83318eec9a7b6faab8c4b8cfd59b603"
  },
  "kernelspec": {
   "display_name": "Python 3.8.10 64-bit",
   "language": "python",
   "name": "python3"
  },
  "language_info": {
   "codemirror_mode": {
    "name": "ipython",
    "version": 3
   },
   "file_extension": ".py",
   "mimetype": "text/x-python",
   "name": "python",
   "nbconvert_exporter": "python",
   "pygments_lexer": "ipython3",
   "version": "3.8.10"
  },
  "orig_nbformat": 4
 },
 "nbformat": 4,
 "nbformat_minor": 2
}
