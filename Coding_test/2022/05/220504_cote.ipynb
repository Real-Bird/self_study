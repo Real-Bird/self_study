{
 "cells": [
  {
   "cell_type": "markdown",
   "metadata": {},
   "source": [
    "# CLASS 3"
   ]
  },
  {
   "cell_type": "markdown",
   "metadata": {},
   "source": [
    "## 파도반 수열"
   ]
  },
  {
   "cell_type": "code",
   "execution_count": 7,
   "metadata": {},
   "outputs": [
    {
     "name": "stdout",
     "output_type": "stream",
     "text": [
      "888855064897\n"
     ]
    }
   ],
   "source": [
    "t = int(input())\n",
    "\n",
    "for _ in range(t):\n",
    "    n = int(input())\n",
    "    p = [1] * n\n",
    "    if n > 3:\n",
    "        for i in range(3, n):\n",
    "            p[i] = p[i-3] + p[i-2]\n",
    "    print(p[-1])"
   ]
  },
  {
   "cell_type": "markdown",
   "metadata": {},
   "source": [
    "## 동전 0"
   ]
  },
  {
   "cell_type": "code",
   "execution_count": 28,
   "metadata": {},
   "outputs": [
    {
     "name": "stdout",
     "output_type": "stream",
     "text": [
      "6\n"
     ]
    }
   ],
   "source": [
    "n, k = map(int, input().split())\n",
    "coin = []\n",
    "for _ in range(n):\n",
    "    coin.append(int(input()))\n",
    "coin.sort(reverse=True)\n",
    "\n",
    "i = 0\n",
    "cnt = 0\n",
    "while k > 0:\n",
    "    if coin[i] <= k:\n",
    "        cnt += k // coin[i]\n",
    "        k %= coin[i]\n",
    "    i += 1\n",
    "\n",
    "print(cnt)"
   ]
  },
  {
   "cell_type": "code",
   "execution_count": null,
   "metadata": {},
   "outputs": [],
   "source": []
  }
 ],
 "metadata": {
  "interpreter": {
   "hash": "435c7524b81c754d2a38f9b1930a50d7a83318eec9a7b6faab8c4b8cfd59b603"
  },
  "kernelspec": {
   "display_name": "Python 3.8.10 64-bit",
   "language": "python",
   "name": "python3"
  },
  "language_info": {
   "codemirror_mode": {
    "name": "ipython",
    "version": 3
   },
   "file_extension": ".py",
   "mimetype": "text/x-python",
   "name": "python",
   "nbconvert_exporter": "python",
   "pygments_lexer": "ipython3",
   "version": "3.8.10"
  },
  "orig_nbformat": 4
 },
 "nbformat": 4,
 "nbformat_minor": 2
}
