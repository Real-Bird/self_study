{
 "cells": [
  {
   "cell_type": "markdown",
   "metadata": {},
   "source": [
    "# CLASS 3+"
   ]
  },
  {
   "cell_type": "markdown",
   "metadata": {},
   "source": [
    "## Z"
   ]
  },
  {
   "cell_type": "code",
   "execution_count": 1,
   "metadata": {},
   "outputs": [
    {
     "name": "stdout",
     "output_type": "stream",
     "text": [
      "11\n"
     ]
    }
   ],
   "source": [
    "n, r, c = map(int, input().split())\n",
    "cnt = 0\n",
    "\n",
    "while n > 1:\n",
    "    size = (2 ** n) // 2\n",
    "    if r < size and c < size: # 2사분면\n",
    "        pass\n",
    "    elif r < size and c >= size: # 1사분면\n",
    "        cnt += size ** 2\n",
    "        c -= size\n",
    "    elif r >= size and c < size: # 3사분면\n",
    "        cnt += size ** 2 * 2\n",
    "        r -= size\n",
    "    elif r >= size and c >= size: # 4사분면\n",
    "        cnt += size ** 2 * 3\n",
    "        r -= size\n",
    "        c -= size\n",
    "    n -= 1\n",
    "\n",
    "if r == 0 and c == 0:\n",
    "    print(cnt)\n",
    "if r == 0 and c == 1:\n",
    "    print(cnt + 1)\n",
    "if r == 1 and c == 0:\n",
    "    print(cnt + 2)\n",
    "if r == 1 and c == 1:\n",
    "    print(cnt + 3)"
   ]
  },
  {
   "cell_type": "code",
   "execution_count": null,
   "metadata": {},
   "outputs": [],
   "source": []
  }
 ],
 "metadata": {
  "interpreter": {
   "hash": "728690f224d3d3c60e67a592de28580a36004d4ddb14f83a649197de4087f31b"
  },
  "kernelspec": {
   "display_name": "Python 3.8.10 64-bit",
   "language": "python",
   "name": "python3"
  },
  "language_info": {
   "codemirror_mode": {
    "name": "ipython",
    "version": 3
   },
   "file_extension": ".py",
   "mimetype": "text/x-python",
   "name": "python",
   "nbconvert_exporter": "python",
   "pygments_lexer": "ipython3",
   "version": "3.8.10"
  },
  "orig_nbformat": 4
 },
 "nbformat": 4,
 "nbformat_minor": 2
}
