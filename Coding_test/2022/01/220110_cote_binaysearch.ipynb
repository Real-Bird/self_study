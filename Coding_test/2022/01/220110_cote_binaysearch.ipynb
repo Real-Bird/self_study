{
 "cells": [
  {
   "cell_type": "code",
   "execution_count": 1,
   "metadata": {},
   "outputs": [
    {
     "name": "stdout",
     "output_type": "stream",
     "text": [
      "4\n"
     ]
    }
   ],
   "source": [
    "# 재귀 이진 탐색\n",
    "\n",
    "def binary_search(array, target, start, end):\n",
    "    if start > end:\n",
    "        return None\n",
    "    mid = (start + end) // 2\n",
    "    if array[mid] == target:\n",
    "        return mid\n",
    "    elif array[mid] > target:\n",
    "        return binary_search(array, target, start, mid - 1)\n",
    "    else:\n",
    "        return binary_search(array, target, mid + 1, end)\n",
    "\n",
    "n, target = list(map(int, input().split()))\n",
    "array = list(map(int, input().split()))\n",
    "\n",
    "result = binary_search(array, target, 0, n - 1)\n",
    "if result == None:\n",
    "    print('원소가 존재하지 않습니다.')\n",
    "else:\n",
    "    print(result + 1)"
   ]
  },
  {
   "cell_type": "code",
   "execution_count": 2,
   "metadata": {},
   "outputs": [
    {
     "name": "stdout",
     "output_type": "stream",
     "text": [
      "4\n"
     ]
    }
   ],
   "source": [
    "# 반복문 이진 탐색\n",
    "\n",
    "def binary_search(array, target, start, end):\n",
    "    while start <= end:\n",
    "        mid = (start + end) // 2\n",
    "        if array[mid] == target:\n",
    "            return mid\n",
    "        elif array[mid] > target:\n",
    "            end = mid - 1\n",
    "        else:\n",
    "            start = mid + 1\n",
    "    return None\n",
    "\n",
    "n, target = list(map(int, input().split()))\n",
    "array = list(map(int, input().split()))\n",
    "\n",
    "result = binary_search(array, target, 0, n - 1)\n",
    "if result == None:\n",
    "    print('원소가 존재하지 않습니다.')\n",
    "else:\n",
    "    print(result + 1)"
   ]
  },
  {
   "cell_type": "markdown",
   "metadata": {},
   "source": [
    "# 부품 찾기"
   ]
  },
  {
   "cell_type": "code",
   "execution_count": 16,
   "metadata": {},
   "outputs": [
    {
     "name": "stdout",
     "output_type": "stream",
     "text": [
      "no yes yes "
     ]
    }
   ],
   "source": [
    "# 내 풀이\n",
    "\n",
    "n = int(input())\n",
    "part_n = list(map(int, input().split()))\n",
    "m = int(input())\n",
    "part_m = list(map(int, input().split()))\n",
    "\n",
    "def binary_search(array, target, start, end):\n",
    "    mid = (start + end) // 2\n",
    "    if start > end:\n",
    "        return None\n",
    "    if array[mid] == target:\n",
    "        return mid\n",
    "    elif array[mid] > target:\n",
    "        return binary_search(array, target, start, end - 1)\n",
    "    else:\n",
    "        return binary_search(array, target, start + 1, end)\n",
    "\n",
    "result = []\n",
    "for i in range(m):\n",
    "    temp = binary_search(part_n, part_m[i], 0, n - 1)\n",
    "    result.append(temp)\n",
    "\n",
    "for i in result:\n",
    "    if i == None:\n",
    "        print('no', end=' ')\n",
    "    else:\n",
    "        print('yes', end=' ')"
   ]
  },
  {
   "cell_type": "code",
   "execution_count": 17,
   "metadata": {},
   "outputs": [
    {
     "name": "stdout",
     "output_type": "stream",
     "text": [
      "no yes yes "
     ]
    }
   ],
   "source": [
    "# 책 풀이(이진 탐색)\n",
    "\n",
    "def binary_search(array, target, start, end):\n",
    "    while start <= end:\n",
    "        mid = (start + end) // 2\n",
    "        if array[mid] == target:\n",
    "            return mid\n",
    "        elif array[mid] > target:\n",
    "            end = mid - 1\n",
    "        else:\n",
    "            start = mid + 1\n",
    "    return None\n",
    "\n",
    "n = int(input())\n",
    "array = list(map(int, input().split()))\n",
    "array.sort()\n",
    "m = int(input())\n",
    "x = list(map(int, input().split()))\n",
    "\n",
    "for i in x:\n",
    "    result = binary_search(array, i, 0, n - 1)\n",
    "    if result != None:\n",
    "        print('yes', end=' ')\n",
    "    else:\n",
    "        print('no', end=' ')"
   ]
  },
  {
   "cell_type": "code",
   "execution_count": 18,
   "metadata": {},
   "outputs": [
    {
     "name": "stdout",
     "output_type": "stream",
     "text": [
      "no yes yes "
     ]
    }
   ],
   "source": [
    "# 책 풀이(계수 정렬)\n",
    "\n",
    "n = int(input())\n",
    "array = [0] * 100001\n",
    "\n",
    "for i in input().split():\n",
    "    array[int(i)] = 1\n",
    "\n",
    "m = int(input())\n",
    "x = list(map(int, input().split()))\n",
    "\n",
    "for i in x:\n",
    "    if array[i] == 1:\n",
    "        print('yes', end=' ')\n",
    "    else:\n",
    "        print('no', end=' ')"
   ]
  },
  {
   "cell_type": "code",
   "execution_count": 19,
   "metadata": {},
   "outputs": [
    {
     "name": "stdout",
     "output_type": "stream",
     "text": [
      "no yes yes "
     ]
    }
   ],
   "source": [
    "# 책 풀이(집합 자료형)\n",
    "\n",
    "n = int(input())\n",
    "array = set(map(int, input().split()))\n",
    "\n",
    "m = int(input())\n",
    "x = list(map(int, input().split()))\n",
    "\n",
    "for i in x:\n",
    "    if i in array:\n",
    "        print('yes', end=' ')\n",
    "    else:\n",
    "        print('no', end=' ')"
   ]
  },
  {
   "cell_type": "code",
   "execution_count": null,
   "metadata": {},
   "outputs": [],
   "source": []
  }
 ],
 "metadata": {
  "interpreter": {
   "hash": "435c7524b81c754d2a38f9b1930a50d7a83318eec9a7b6faab8c4b8cfd59b603"
  },
  "kernelspec": {
   "display_name": "Python 3.8.10 64-bit",
   "language": "python",
   "name": "python3"
  },
  "language_info": {
   "codemirror_mode": {
    "name": "ipython",
    "version": 3
   },
   "file_extension": ".py",
   "mimetype": "text/x-python",
   "name": "python",
   "nbconvert_exporter": "python",
   "pygments_lexer": "ipython3",
   "version": "3.8.10"
  },
  "orig_nbformat": 4
 },
 "nbformat": 4,
 "nbformat_minor": 2
}
