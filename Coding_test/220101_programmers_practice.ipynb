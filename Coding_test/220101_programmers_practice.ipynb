{
 "cells": [
  {
   "cell_type": "markdown",
   "metadata": {},
   "source": [
    "# 프로그래머스"
   ]
  },
  {
   "cell_type": "markdown",
   "metadata": {},
   "source": [
    "### 로또의 최고 순위와 최저 순위"
   ]
  },
  {
   "cell_type": "code",
   "execution_count": 5,
   "metadata": {},
   "outputs": [],
   "source": [
    "def solution(lottos, win_nums):\n",
    "    same_nums = [len(set(lottos)&set(win_nums))+lottos.count(0), len(set(lottos)&set(win_nums))]\n",
    "    answer = []\n",
    "    for i in same_nums:\n",
    "        if i == 6:\n",
    "            answer.append(1)\n",
    "        elif i == 5:\n",
    "            answer.append(2)\n",
    "        elif i == 4:\n",
    "            answer.append(3)\n",
    "        elif i == 3:\n",
    "            answer.append(4)\n",
    "        elif i == 2:\n",
    "            answer.append(5)\n",
    "        else:\n",
    "            answer.append(6)\n",
    "    \n",
    "    return answer"
   ]
  },
  {
   "cell_type": "code",
   "execution_count": 6,
   "metadata": {},
   "outputs": [
    {
     "name": "stdout",
     "output_type": "stream",
     "text": [
      "[3, 5]\n"
     ]
    }
   ],
   "source": [
    "lottos = [44, 1, 0, 0, 31, 25]\n",
    "win_nums = [31, 10, 45, 1, 6, 19]\n",
    "\n",
    "print(solution(lottos,win_nums))"
   ]
  },
  {
   "cell_type": "markdown",
   "metadata": {},
   "source": [
    "### 신규 아이디 추천"
   ]
  },
  {
   "cell_type": "code",
   "execution_count": 56,
   "metadata": {},
   "outputs": [],
   "source": [
    "def solution(new_id):\n",
    "    # 1단계 new_id의 모든 대문자를 대응되는 소문자로 치환합니다.\n",
    "    new_id_lower = new_id.lower()\n",
    "\n",
    "    # 2단계 new_id에서 알파벳 소문자, 숫자, 빼기(-), 밑줄(_), 마침표(.)를 제외한 모든 문자를 제거합니다.\n",
    "    answer = ''\n",
    "    for i in new_id_lower:\n",
    "        if i.isalnum() == True or i == '-' or i == '_' or i == '.':\n",
    "            answer += i\n",
    "    answer += '!'\n",
    "\n",
    "    # 3단계 new_id에서 마침표(.)가 2번 이상 연속된 부분을 하나의 마침표(.)로 치환합니다.\n",
    "    for i,j in enumerate(answer):\n",
    "        if i <= len(answer)-1:\n",
    "            while answer[i] == '.' and answer[i+1] == '.':\n",
    "                answer = answer[:i] + answer[i+1:]\n",
    "    \n",
    "    # 4단계 new_id에서 마침표(.)가 처음이나 끝에 위치한다면 제거합니다.\n",
    "    answer = answer[:-1]\n",
    "    if answer[0] == '.':\n",
    "        answer = answer[1:]\n",
    "    elif answer[-1] == '.':\n",
    "        answer = answer[:-1]\n",
    "    elif answer[0] == '.' and answer[-1] == '.':\n",
    "        answer = answer[1:-1]\n",
    "    # 5단계 new_id가 빈 문자열이라면, new_id에 \"a\"를 대입합니다.\n",
    "    if len(answer) == 0:\n",
    "        answer = 'a'\n",
    "    # 6단계 new_id의 길이가 16자 이상이면, new_id의 첫 15개의 문자를 제외한 나머지 문자들을 모두 제거합니다.\n",
    "    if len(answer) >= 16:\n",
    "        answer = answer[:15]\n",
    "    # 만약 제거 후 마침표(.)가 new_id의 끝에 위치한다면 끝에 위치한 마침표(.) 문자를 제거합니다.\n",
    "    if answer[-1] == '.':\n",
    "        answer = answer[:-1]\n",
    "    # 7단계 new_id의 길이가 2자 이하라면, new_id의 마지막 문자를 new_id의 길이가 3이 될 때까지 반복해서 끝에 붙입니다.\n",
    "    if len(answer) <= 2:\n",
    "        while len(answer) != 3:\n",
    "            answer += answer[-1]\n",
    "    return answer"
   ]
  },
  {
   "cell_type": "code",
   "execution_count": 55,
   "metadata": {},
   "outputs": [
    {
     "data": {
      "text/plain": [
       "'bat.y.abcdefghi'"
      ]
     },
     "execution_count": 55,
     "metadata": {},
     "output_type": "execute_result"
    }
   ],
   "source": [
    "solution(\"...!@BaT#*..y.abcdefghijklm\")"
   ]
  },
  {
   "cell_type": "code",
   "execution_count": null,
   "metadata": {},
   "outputs": [],
   "source": []
  }
 ],
 "metadata": {
  "interpreter": {
   "hash": "435c7524b81c754d2a38f9b1930a50d7a83318eec9a7b6faab8c4b8cfd59b603"
  },
  "kernelspec": {
   "display_name": "Python 3.8.10 64-bit",
   "language": "python",
   "name": "python3"
  },
  "language_info": {
   "codemirror_mode": {
    "name": "ipython",
    "version": 3
   },
   "file_extension": ".py",
   "mimetype": "text/x-python",
   "name": "python",
   "nbconvert_exporter": "python",
   "pygments_lexer": "ipython3",
   "version": "3.8.10"
  },
  "orig_nbformat": 4
 },
 "nbformat": 4,
 "nbformat_minor": 2
}
