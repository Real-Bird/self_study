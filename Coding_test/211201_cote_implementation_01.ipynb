{
 "cells": [
  {
   "cell_type": "markdown",
   "metadata": {},
   "source": [
    "# 럭키 스트레이트"
   ]
  },
  {
   "cell_type": "code",
   "execution_count": 4,
   "metadata": {},
   "outputs": [
    {
     "name": "stdout",
     "output_type": "stream",
     "text": [
      "n =  123402\n",
      "LUCKY\n"
     ]
    }
   ],
   "source": [
    "# 내 풀이\n",
    "\n",
    "n = input()\n",
    "\n",
    "left = n[ : len(n)//2]\n",
    "right = n[len(n)//2 : ]\n",
    "\n",
    "sum_left = 0\n",
    "sum_right = 0\n",
    "for i in left:\n",
    "    sum_left += int(i)\n",
    "for i in right:\n",
    "    sum_right += int(i)\n",
    "\n",
    "print(\"n = \", n)\n",
    "if sum_left == sum_right:\n",
    "    print(\"LUCKY\")\n",
    "else:\n",
    "    print(\"READY\")"
   ]
  },
  {
   "cell_type": "code",
   "execution_count": 5,
   "metadata": {},
   "outputs": [
    {
     "name": "stdout",
     "output_type": "stream",
     "text": [
      "n =  123402\n",
      "LUCKY\n"
     ]
    }
   ],
   "source": [
    "# 책 답지\n",
    "\n",
    "n = input()\n",
    "length = len(n)\n",
    "summary = 0\n",
    "\n",
    "for i in range(length // 2):\n",
    "    summary += int(n[i])\n",
    "\n",
    "for i in range(length // 2, length):\n",
    "    summary -= int(n[i])\n",
    "\n",
    "print(\"n = \", n)\n",
    "if summary == 0:\n",
    "    print(\"LUCKY\")\n",
    "else:\n",
    "    print(\"READY\")"
   ]
  },
  {
   "cell_type": "markdown",
   "metadata": {},
   "source": [
    "# 문자열 재정렬"
   ]
  },
  {
   "cell_type": "code",
   "execution_count": 13,
   "metadata": {},
   "outputs": [
    {
     "name": "stdout",
     "output_type": "stream",
     "text": [
      "모르겠음\n"
     ]
    }
   ],
   "source": [
    "# 내 풀이\n",
    "\n",
    "s = input()\n",
    "\n",
    "print(\"모르겠음\")"
   ]
  },
  {
   "cell_type": "code",
   "execution_count": 14,
   "metadata": {},
   "outputs": [
    {
     "name": "stdout",
     "output_type": "stream",
     "text": [
      "data =  K1KA5CB7\n",
      "ABCKK13\n"
     ]
    }
   ],
   "source": [
    "# 책 답지\n",
    "\n",
    "data = input()\n",
    "result = []\n",
    "value = 0\n",
    "\n",
    "for x in data:\n",
    "    if x.isalpha():\n",
    "        result.append(x)\n",
    "    else:\n",
    "        value += int(x)\n",
    "\n",
    "result.sort()\n",
    "\n",
    "if value != 0:\n",
    "    result.append(str(value))\n",
    "\n",
    "print('data = ', data)\n",
    "print(''.join(result))"
   ]
  },
  {
   "cell_type": "markdown",
   "metadata": {},
   "source": [
    "# 문자열 압축"
   ]
  },
  {
   "cell_type": "code",
   "execution_count": 15,
   "metadata": {},
   "outputs": [
    {
     "name": "stdout",
     "output_type": "stream",
     "text": [
      "모르겠음\n"
     ]
    }
   ],
   "source": [
    "# 내 풀이\n",
    "\n",
    "def solution(s):\n",
    "    answer = 0\n",
    "    return answer\n",
    "\n",
    "print(\"모르겠음\")"
   ]
  },
  {
   "cell_type": "code",
   "execution_count": 16,
   "metadata": {},
   "outputs": [
    {
     "data": {
      "text/plain": [
       "7"
      ]
     },
     "execution_count": 16,
     "metadata": {},
     "output_type": "execute_result"
    }
   ],
   "source": [
    "# 책 답지\n",
    "\n",
    "def solution(s):\n",
    "    answer = len(s)\n",
    "    for step in range(1, len(s) // 2 + 1):\n",
    "        compressed = \"\"\n",
    "        prev = s[0:step]\n",
    "        count = 1\n",
    "        for j in range(step, len(s), step):\n",
    "            if prev == s[j:j + step]:\n",
    "                count += 1\n",
    "            else:\n",
    "                compressed += str(count) + prev if count >= 2 else prev\n",
    "                prev = s[j:j + step]\n",
    "                count = 1\n",
    "\n",
    "        compressed += str(count) + prev if count >= 2 else prev\n",
    "        answer = min(answer, len(compressed))\n",
    "    return answer\n",
    "\n",
    "solution(\"aabbaccc\")"
   ]
  },
  {
   "cell_type": "markdown",
   "metadata": {},
   "source": [
    "# 자물쇠와 열쇠"
   ]
  },
  {
   "cell_type": "code",
   "execution_count": 17,
   "metadata": {},
   "outputs": [
    {
     "name": "stdout",
     "output_type": "stream",
     "text": [
      "I have no idea\n"
     ]
    }
   ],
   "source": [
    "# 내 풀이\n",
    "\n",
    "def solution(key, lock):\n",
    "    answer = True\n",
    "    return answer\n",
    "\n",
    "print(\"I have no idea\")"
   ]
  },
  {
   "cell_type": "code",
   "execution_count": 19,
   "metadata": {},
   "outputs": [
    {
     "data": {
      "text/plain": [
       "True"
      ]
     },
     "execution_count": 19,
     "metadata": {},
     "output_type": "execute_result"
    }
   ],
   "source": [
    "# 책 답지\n",
    "\n",
    "#2차원 리스트 90도 회전\n",
    "def rotate_a_matrix_by_90_degree(a):\n",
    "    n = len(a)\n",
    "    m = len(a[0])\n",
    "    result = [[0] * n for _ in range(m)]\n",
    "    for i in range(n):\n",
    "        for j in range(m):\n",
    "            result[j][n - i - 1] = a[i][j]\n",
    "    return result\n",
    "\n",
    "def check(new_lock):\n",
    "    lock_length = len(new_lock) // 3\n",
    "    for i in range(lock_length, lock_length * 2):\n",
    "        for j in range(lock_length, lock_length * 2):\n",
    "            if new_lock[i][j] != 1:\n",
    "                return False\n",
    "    return True\n",
    "\n",
    "def solution(key, lock):\n",
    "    n = len(lock)\n",
    "    m = len(key)\n",
    "\n",
    "    new_lock = [[0] * (n * 3) for _ in range(n * 3)]\n",
    "\n",
    "    for i in range(n):\n",
    "        for j in range(n):\n",
    "            new_lock[i + n][j + n] = lock[i][j]\n",
    "\n",
    "    for rotation in range(4):\n",
    "        key = rotate_a_matrix_by_90_degree(key)\n",
    "        for x in range(n * 2):\n",
    "            for y in range(n * 2):\n",
    "                for i in range(m):\n",
    "                    for j in range(m):\n",
    "                        new_lock[x + i][y + j] += key[i][j]\n",
    "                if check(new_lock) == True:\n",
    "                    return True\n",
    "                for i in range(m):\n",
    "                    for j in range(m):\n",
    "                        new_lock[x + i][y + j] -= key[i][j]\n",
    "    return False\n",
    "\n",
    "solution([[0,0,0],[1,0,0],[0,1,1]], [[1,1,1],[1,1,0],[1,0,1]])"
   ]
  },
  {
   "cell_type": "markdown",
   "metadata": {},
   "source": [
    "# 뱀"
   ]
  },
  {
   "cell_type": "code",
   "execution_count": 20,
   "metadata": {},
   "outputs": [
    {
     "name": "stdout",
     "output_type": "stream",
     "text": [
      "모름\n"
     ]
    }
   ],
   "source": [
    "# 내 풀이\n",
    "\n",
    "print(\"모름\")"
   ]
  },
  {
   "cell_type": "code",
   "execution_count": 21,
   "metadata": {},
   "outputs": [
    {
     "name": "stdout",
     "output_type": "stream",
     "text": [
      "9\n"
     ]
    }
   ],
   "source": [
    "# 책 풀이\n",
    "\n",
    "n = int(input())\n",
    "k = int(input())\n",
    "data = [[0] * (n + 1) for _ in range(n + 1)]\n",
    "info = []\n",
    "\n",
    "for _ in range(k):\n",
    "    a, b = map(int, input().split())\n",
    "    data[a][b] = 1\n",
    "\n",
    "l = int(input())\n",
    "for _ in range(l):\n",
    "    x, c = input().split()\n",
    "    info.append((int(x), c))\n",
    "\n",
    "dx = [0, 1, 0, -1]\n",
    "dy = [1, 0, -1, 0]\n",
    "\n",
    "def turn(direction, c):\n",
    "    if c == \"L\":\n",
    "        direction = (direction - 1) % 4\n",
    "    else:\n",
    "        direction = (direction + 1) % 4\n",
    "    return direction\n",
    "\n",
    "def simulate():\n",
    "    x, y = 1, 1\n",
    "    data[x][y] = 2\n",
    "    direction = 0\n",
    "    time = 0\n",
    "    index = 0\n",
    "    q = [(x, y)]\n",
    "    while True:\n",
    "        nx = x + dx[direction]\n",
    "        ny = y + dy[direction]\n",
    "\n",
    "        if 1 <= nx and nx <= n and 1 <= ny and ny <= n and data[nx][ny] != 2:\n",
    "            if data[nx][ny] == 0:\n",
    "                data[nx][ny] = 2\n",
    "                q.append((nx, ny))\n",
    "                px, py = q.pop(0)\n",
    "                data[px][py] = 0\n",
    "\n",
    "            if data[nx][ny] == 1:\n",
    "                data[nx][ny] = 2\n",
    "                q.append((nx, ny))\n",
    "        else:\n",
    "            time += 1\n",
    "            break\n",
    "        x, y = nx, ny\n",
    "        time += 1\n",
    "\n",
    "        if index < 1 and time == info[index][0]:\n",
    "            direction = turn(direction, info[index][1])\n",
    "            index += 1\n",
    "    return time\n",
    "\n",
    "print(simulate())"
   ]
  },
  {
   "cell_type": "code",
   "execution_count": null,
   "metadata": {},
   "outputs": [],
   "source": []
  }
 ],
 "metadata": {
  "interpreter": {
   "hash": "435c7524b81c754d2a38f9b1930a50d7a83318eec9a7b6faab8c4b8cfd59b603"
  },
  "kernelspec": {
   "display_name": "Python 3.8.10 64-bit",
   "language": "python",
   "name": "python3"
  },
  "language_info": {
   "codemirror_mode": {
    "name": "ipython",
    "version": 3
   },
   "file_extension": ".py",
   "mimetype": "text/x-python",
   "name": "python",
   "nbconvert_exporter": "python",
   "pygments_lexer": "ipython3",
   "version": "3.8.10"
  },
  "orig_nbformat": 4
 },
 "nbformat": 4,
 "nbformat_minor": 2
}
