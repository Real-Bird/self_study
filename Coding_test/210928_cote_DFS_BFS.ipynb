{
 "cells": [
  {
   "cell_type": "markdown",
   "source": [
    "### 인접리스트"
   ],
   "metadata": {}
  },
  {
   "cell_type": "code",
   "execution_count": 1,
   "source": [
    "graph = [[] for _ in range(3)]\r\n",
    "\r\n",
    "graph[0].append((1, 7))\r\n",
    "graph[0].append((2, 5))\r\n",
    "\r\n",
    "graph[1].append((0, 7))\r\n",
    "\r\n",
    "graph[2].append((0, 5))\r\n",
    "\r\n",
    "print(graph)"
   ],
   "outputs": [
    {
     "output_type": "stream",
     "name": "stdout",
     "text": [
      "[[(1, 7), (2, 5)], [(0, 7)], [(0, 5)]]\n"
     ]
    }
   ],
   "metadata": {}
  },
  {
   "cell_type": "markdown",
   "source": [
    "# DFS"
   ],
   "metadata": {}
  },
  {
   "cell_type": "code",
   "execution_count": 2,
   "source": [
    "def dfs(graph, v, visited):\r\n",
    "    visited[v] = True\r\n",
    "    print(v, end=' ')\r\n",
    "\r\n",
    "    for i in graph[v]:\r\n",
    "        if not visited[i]:\r\n",
    "            dfs(graph, i, visited)\r\n",
    "\r\n",
    "graph = [\r\n",
    "    [],\r\n",
    "    [2, 3, 8],\r\n",
    "    [1, 7],\r\n",
    "    [1, 4, 5],\r\n",
    "    [3, 5],\r\n",
    "    [3, 4],\r\n",
    "    [7],\r\n",
    "    [2, 6, 8],\r\n",
    "    [1, 7]\r\n",
    "]\r\n",
    "\r\n",
    "visited = [False] * 9\r\n",
    "\r\n",
    "dfs(graph, 1, visited)"
   ],
   "outputs": [
    {
     "output_type": "stream",
     "name": "stdout",
     "text": [
      "1 2 7 6 8 3 4 5 "
     ]
    }
   ],
   "metadata": {}
  },
  {
   "cell_type": "markdown",
   "source": [
    "# BFS"
   ],
   "metadata": {}
  },
  {
   "cell_type": "code",
   "execution_count": 3,
   "source": [
    "from collections import deque\r\n",
    "\r\n",
    "def bfs(graph, start, visited):\r\n",
    "    queue = deque([start])\r\n",
    "\r\n",
    "    visited[start] = True\r\n",
    "\r\n",
    "    while queue:\r\n",
    "        v = queue.popleft()\r\n",
    "        print(v, end=' ')\r\n",
    "        for i in graph[v]:\r\n",
    "            if not visited[i]:\r\n",
    "                queue.append(i)\r\n",
    "                visited[i] = True\r\n",
    "\r\n",
    "graph = [\r\n",
    "    [],\r\n",
    "    [2, 3, 8],\r\n",
    "    [1, 7],\r\n",
    "    [1, 4, 5],\r\n",
    "    [3, 5],\r\n",
    "    [3, 4],\r\n",
    "    [7],\r\n",
    "    [2, 6, 8],\r\n",
    "    [1, 7]\r\n",
    "]\r\n",
    "\r\n",
    "visited = [False] * 9\r\n",
    "\r\n",
    "bfs(graph, 1, visited)"
   ],
   "outputs": [
    {
     "output_type": "stream",
     "name": "stdout",
     "text": [
      "1 2 3 8 7 4 5 6 "
     ]
    }
   ],
   "metadata": {}
  },
  {
   "cell_type": "code",
   "execution_count": null,
   "source": [],
   "outputs": [],
   "metadata": {}
  }
 ],
 "metadata": {
  "orig_nbformat": 4,
  "language_info": {
   "name": "python",
   "version": "3.8.10",
   "mimetype": "text/x-python",
   "codemirror_mode": {
    "name": "ipython",
    "version": 3
   },
   "pygments_lexer": "ipython3",
   "nbconvert_exporter": "python",
   "file_extension": ".py"
  },
  "kernelspec": {
   "name": "python3",
   "display_name": "Python 3.8.10 64-bit"
  },
  "interpreter": {
   "hash": "435c7524b81c754d2a38f9b1930a50d7a83318eec9a7b6faab8c4b8cfd59b603"
  }
 },
 "nbformat": 4,
 "nbformat_minor": 2
}