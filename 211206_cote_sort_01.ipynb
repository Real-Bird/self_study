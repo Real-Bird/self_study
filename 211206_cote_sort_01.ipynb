{
 "cells": [
  {
   "cell_type": "markdown",
   "metadata": {},
   "source": [
    "# 국영수"
   ]
  },
  {
   "cell_type": "code",
   "execution_count": 19,
   "metadata": {},
   "outputs": [
    {
     "name": "stdout",
     "output_type": "stream",
     "text": [
      "Donghyuk\n",
      "Sangkeun\n",
      "Sunyoung\n",
      "nsj\n",
      "Wonseob\n",
      "Sanghyun\n",
      "Sei\n",
      "Kangsoo\n",
      "Junkyu\n",
      "haebin\n",
      "Soong\n",
      "Taewhan\n"
     ]
    }
   ],
   "source": [
    "# 내 풀이\n",
    "\n",
    "n = int(input())\n",
    "students = []\n",
    "for i in range(n):\n",
    "    name, ko, en, ma = input().split()\n",
    "    students.append((name, int(ko), int(en), int(ma)))\n",
    "\n",
    "for i in range(len(students)):\n",
    "    temp = []\n",
    "    for j in range(i, len(students)):\n",
    "        if students[j][1] > students[i][1]:\n",
    "            temp = students[i]\n",
    "            students[i] = students[j]\n",
    "            students[j] = temp\n",
    "        elif students[j][1] == students[i][1] and students[j][2] < students[i][2]:\n",
    "            temp = students[i]\n",
    "            students[i] = students[j]\n",
    "            students[j] = temp\n",
    "        elif students[j][1] == students[i][1] and students[j][2] == students[i][2] and students[j][3] > students[i][3]:\n",
    "            temp = students[i]\n",
    "            students[i] = students[j]\n",
    "            students[j] = temp\n",
    "        elif students[j][1] == students[i][1] and students[j][2] == students[i][2] and students[j][3] == students[i][3] and ascii(students[j][0]) < ascii(students[i][0]):\n",
    "            temp = students[i]\n",
    "            students[i] = students[j]\n",
    "            students[j] = temp\n",
    "    print(students[i][0])\n",
    "\n",
    "# 시간 초과 ㅠㅠ"
   ]
  },
  {
   "cell_type": "code",
   "execution_count": 20,
   "metadata": {},
   "outputs": [
    {
     "name": "stdout",
     "output_type": "stream",
     "text": [
      "Donghyuk\n",
      "Donghyuk\n",
      "Sangkeun\n",
      "Sangkeun\n",
      "Sunyoung\n",
      "Sunyoung\n",
      "nsj\n",
      "nsj\n",
      "Wonseob\n",
      "Wonseob\n",
      "Sanghyun\n",
      "Sanghyun\n",
      "Sei\n",
      "Sei\n",
      "Kangsoo\n",
      "Kangsoo\n",
      "Haebin\n",
      "Junkyu\n",
      "Junkyu\n",
      "haebin\n",
      "Soong\n",
      "Soong\n",
      "Taewhan\n",
      "Taewhan\n"
     ]
    }
   ],
   "source": [
    "# 책 답지\n",
    "\n",
    "n = int(input())\n",
    "students1 = []\n",
    "for _ in range(n):\n",
    "    students1.append(input().split())\n",
    "\n",
    "students1.sort(key=lambda x: (-int(x[1]), int(x[2]), -int(x[3]), x[0]))\n",
    "\n",
    "for student in students1:\n",
    "    print(student[0])"
   ]
  },
  {
   "cell_type": "markdown",
   "metadata": {},
   "source": [
    "# 안테나"
   ]
  },
  {
   "cell_type": "code",
   "execution_count": 23,
   "metadata": {},
   "outputs": [
    {
     "name": "stdout",
     "output_type": "stream",
     "text": [
      "5\n"
     ]
    }
   ],
   "source": [
    "# 내 풀이\n",
    "\n",
    "n = int(input())\n",
    "houses = list(map(int, input().split()))\n",
    "\n",
    "distances = []\n",
    "\n",
    "for i in range(n):\n",
    "    count = 0\n",
    "    for j in range(n):\n",
    "        count += abs(houses[i] - houses[j])\n",
    "    distances.append((count, houses[i]))\n",
    "\n",
    "distances.sort()\n",
    "\n",
    "print(distances[0][1])"
   ]
  },
  {
   "cell_type": "code",
   "execution_count": 26,
   "metadata": {},
   "outputs": [
    {
     "name": "stdout",
     "output_type": "stream",
     "text": [
      "5\n"
     ]
    }
   ],
   "source": [
    "# 내 풀이 수정\n",
    "\n",
    "n = int(input())\n",
    "houses = list(map(int, input().split()))\n",
    "houses.sort()\n",
    "\n",
    "if len(houses) % 2 == 0:\n",
    "    house = houses[len(houses) // 2 - 1]\n",
    "else:\n",
    "    house = houses[len(houses) // 2]\n",
    "\n",
    "print(house)"
   ]
  },
  {
   "cell_type": "code",
   "execution_count": 27,
   "metadata": {},
   "outputs": [
    {
     "name": "stdout",
     "output_type": "stream",
     "text": [
      "5\n"
     ]
    }
   ],
   "source": [
    "# 책 답지\n",
    "\n",
    "n = int(input())\n",
    "data = list(map(int, input().split()))\n",
    "data.sort()\n",
    "\n",
    "print(data[(n - 1)//2])"
   ]
  },
  {
   "cell_type": "markdown",
   "metadata": {},
   "source": [
    "# 실패율"
   ]
  },
  {
   "cell_type": "code",
   "execution_count": 65,
   "metadata": {},
   "outputs": [
    {
     "data": {
      "text/plain": [
       "[(0.125, 1), (0.42857142857142855, 2), (0.5, 3), (0.5, 4), (0, 5)]"
      ]
     },
     "execution_count": 65,
     "metadata": {},
     "output_type": "execute_result"
    }
   ],
   "source": [
    "# 내 풀이\n",
    "\n",
    "def solution(n, stages):\n",
    "    stages.sort()\n",
    "    count =[]\n",
    "    for i in range(len(stages)):\n",
    "        if stages[i] > n:\n",
    "            stages[i] = n\n",
    "        if stages[i] != stages[i - 1]:\n",
    "            if stages[i] == n:\n",
    "                fail = 0\n",
    "                count.append((fail, stages[i]))\n",
    "            else:\n",
    "                fail = stages.count(stages[i])/(len(stages) - i)\n",
    "                count.append((fail, stages[i]))\n",
    "    count.sort(key= lambda x: (-int(x[0]), int(x[1])))\n",
    "\n",
    "    return count\n",
    "solution(5, [2, 1, 2, 6, 2, 4, 3, 3])"
   ]
  },
  {
   "cell_type": "code",
   "execution_count": 69,
   "metadata": {},
   "outputs": [
    {
     "name": "stdout",
     "output_type": "stream",
     "text": [
      "<function solution.<locals>.<lambda> at 0x0000021FBDE871F0>\n"
     ]
    },
    {
     "data": {
      "text/plain": [
       "[3, 4, 2, 1, 5]"
      ]
     },
     "execution_count": 69,
     "metadata": {},
     "output_type": "execute_result"
    }
   ],
   "source": [
    "# 책 답지\n",
    "\n",
    "def solution(N, stages):\n",
    "    answer = []\n",
    "    length = len(stages)\n",
    "\n",
    "    for i in range(1, N + 1):\n",
    "        count = stages.count(i)\n",
    "\n",
    "        if length == 0:\n",
    "            fail = 0\n",
    "        else:\n",
    "            fail = count / length\n",
    "        answer.append((i, fail))\n",
    "        length -= count\n",
    "\n",
    "    answer = sorted(answer, key=lambda t: t[1], reverse=True)\n",
    "    answer = [i[0] for i in answer]\n",
    "    return answer\n",
    "\n",
    "solution(5, [2, 1, 2, 6, 2, 4, 3, 3])"
   ]
  },
  {
   "cell_type": "code",
   "execution_count": 68,
   "metadata": {},
   "outputs": [
    {
     "data": {
      "text/plain": [
       "<function __main__.<lambda>(t)>"
      ]
     },
     "execution_count": 68,
     "metadata": {},
     "output_type": "execute_result"
    }
   ],
   "source": []
  },
  {
   "cell_type": "code",
   "execution_count": null,
   "metadata": {},
   "outputs": [],
   "source": []
  }
 ],
 "metadata": {
  "interpreter": {
   "hash": "435c7524b81c754d2a38f9b1930a50d7a83318eec9a7b6faab8c4b8cfd59b603"
  },
  "kernelspec": {
   "display_name": "Python 3.8.10 64-bit",
   "language": "python",
   "name": "python3"
  },
  "language_info": {
   "codemirror_mode": {
    "name": "ipython",
    "version": 3
   },
   "file_extension": ".py",
   "mimetype": "text/x-python",
   "name": "python",
   "nbconvert_exporter": "python",
   "pygments_lexer": "ipython3",
   "version": "3.8.10"
  },
  "orig_nbformat": 4
 },
 "nbformat": 4,
 "nbformat_minor": 2
}
