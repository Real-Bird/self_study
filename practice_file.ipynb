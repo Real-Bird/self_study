{
 "cells": [
  {
   "cell_type": "code",
   "execution_count": 1,
   "metadata": {},
   "outputs": [
    {
     "data": {
      "text/plain": [
       "'0b111'"
      ]
     },
     "execution_count": 1,
     "metadata": {},
     "output_type": "execute_result"
    }
   ],
   "source": [
    "bin(7)"
   ]
  },
  {
   "cell_type": "code",
   "execution_count": 4,
   "metadata": {},
   "outputs": [
    {
     "data": {
      "text/plain": [
       "'0b1110'"
      ]
     },
     "execution_count": 4,
     "metadata": {},
     "output_type": "execute_result"
    }
   ],
   "source": [
    "a,b,c,d,e,f = 10,11,12,13,14,15\n",
    "bin(e)"
   ]
  },
  {
   "cell_type": "code",
   "execution_count": 7,
   "metadata": {},
   "outputs": [
    {
     "name": "stdout",
     "output_type": "stream",
     "text": [
      "0b101\n"
     ]
    }
   ],
   "source": [
    "ten1 = int('0b1110', 2)\n",
    "ten2 = int('0b1001', 2)\n",
    "print(bin(ten1-ten2))"
   ]
  },
  {
   "cell_type": "code",
   "execution_count": 9,
   "metadata": {},
   "outputs": [
    {
     "name": "stdout",
     "output_type": "stream",
     "text": [
      "[0.24833739956104106, 0.3453684667317115, 0.4782071916297558, 0.0343283848907171, 0.27914278520167735, 0.2954751203963265, 0.792009961050142, 0.700109914782258, 0.8130998916959662, 0.008724134653253168, 0.13054335562268637, 0.37079169358533304, 0.6435359651258585, 0.6779919789608769, 0.9964168731579089, 0.408166071186293, 0.5453740767237917, 0.42302449770742234, 0.8120840343873594, 0.22097560816135586, 0.134363571840164, 0.11605739986259966, 0.6286151028385888, 0.6428107901218943, 0.12086685416698417, 0.3418079268769759, 0.920331905070343, 0.09599043977355981, 0.17549950993995067, 0.7365537290102471, 0.46389551796544337, 0.8150467478923248, 0.8236269133297811, 0.10532827785507948, 0.8525695272184041, 0.0434298686477117, 0.4637979145948048, 0.034708157836292886, 0.7414615798491104, 0.5140503375505482, 0.03499555802016996, 0.06722603756978673, 0.22321415696772495, 0.41881457351294193, 0.5627238996407016, 0.27860772676976775, 0.5158107613729935, 0.2606039549476542, 0.1892247781982317, 0.6252627427856856]\n"
     ]
    }
   ],
   "source": [
    "import random\n",
    "\n",
    "array = []\n",
    "\n",
    "for i in range(101):\n",
    "    a = random.random()\n",
    "    array.append(a)\n",
    "    if len(array) == 51:\n",
    "        del array[50]\n",
    "\n",
    "print(array)"
   ]
  },
  {
   "cell_type": "code",
   "execution_count": 10,
   "metadata": {},
   "outputs": [
    {
     "data": {
      "text/plain": [
       "50"
      ]
     },
     "execution_count": 10,
     "metadata": {},
     "output_type": "execute_result"
    }
   ],
   "source": [
    "len(array)"
   ]
  },
  {
   "cell_type": "code",
   "execution_count": 1,
   "metadata": {},
   "outputs": [
    {
     "name": "stdout",
     "output_type": "stream",
     "text": [
      "[5, 2, 9]\n"
     ]
    }
   ],
   "source": [
    "a = [5] + [2] + [9]\n",
    "print(a)"
   ]
  },
  {
   "cell_type": "code",
   "execution_count": 1,
   "metadata": {},
   "outputs": [
    {
     "name": "stdout",
     "output_type": "stream",
     "text": [
      "\\    /\\\n",
      " )  ( ')\n",
      "(  /  )\n",
      " \\(__)|\n"
     ]
    }
   ],
   "source": [
    "print(\"\\    /\\\\\")\n",
    "print(\" )  ( ')\")\n",
    "print(\"(  /  )\")\n",
    "print(\" \\(__)|\")"
   ]
  },
  {
   "cell_type": "code",
   "execution_count": 23,
   "metadata": {},
   "outputs": [
    {
     "name": "stdout",
     "output_type": "stream",
     "text": [
      "2360\n",
      "3776\n",
      "1416\n",
      "181720\n"
     ]
    }
   ],
   "source": [
    "a = int(input())\n",
    "b = input()\n",
    "\n",
    "x = []\n",
    "\n",
    "for j in range(len(b) - 1, -1, -1):\n",
    "    y = a * int(b[j])\n",
    "    x.append(y)\n",
    "    print(y)\n",
    "print(x[0] + x[1] * 10 + x[2] * 100)"
   ]
  },
  {
   "cell_type": "code",
   "execution_count": 1,
   "metadata": {},
   "outputs": [
    {
     "name": "stdout",
     "output_type": "stream",
     "text": [
      "1 0\n",
      "0 1\n",
      "1 2\n"
     ]
    }
   ],
   "source": [
    "zero = [1, 0, 1]\n",
    "one = [0, 1, 1]\n",
    "\n",
    "def fibo_count(n):\n",
    "    length = len(zero)\n",
    "    if n >= length:\n",
    "        for i in range(length, n + 1):\n",
    "            zero.append(zero[i - 1] + zero[i - 2])\n",
    "            one.append(one[i - 1] + one[i - 2])\n",
    "    print(\"{} {}\".format(zero[n], one[n]))\n",
    "    \n",
    "t = int(input())\n",
    "\n",
    "for _ in range(t):\n",
    "    fibo_count(int(input()))"
   ]
  },
  {
   "cell_type": "code",
   "execution_count": 22,
   "metadata": {},
   "outputs": [],
   "source": [
    "def fibonacci(n):\n",
    "    if n == 0:\n",
    "        return 0\n",
    "    if n == 1:\n",
    "        return 1\n",
    "    return fibonacci(n - 1) + fibonacci(n - 2)"
   ]
  },
  {
   "cell_type": "code",
   "execution_count": null,
   "metadata": {},
   "outputs": [],
   "source": [
    "def solution(lottos, win_nums):\n",
    "    rank = {0:6,1:6,2:5,3:4,4:3,5:2,6:1}\n",
    "    return rank[len(set(lottos)&set(win_nums))+lottos.count(0)],rank[len(set(lottos)&set(win_nums))]"
   ]
  },
  {
   "cell_type": "code",
   "execution_count": 1,
   "metadata": {},
   "outputs": [
    {
     "name": "stdout",
     "output_type": "stream",
     "text": [
      "3 5\n"
     ]
    }
   ],
   "source": [
    "lottos = [44, 1, 0, 0, 31, 25]\n",
    "win_nums = [31, 10, 45, 1, 6, 19]\n",
    "\n",
    "rank = {0:6,1:6,2:5,3:4,4:3,5:2,6:1}\n",
    "a = rank[len(set(lottos)&set(win_nums))+lottos.count(0)]\n",
    "b = rank[len(set(lottos)&set(win_nums))]\n",
    "\n",
    "print(a, b)"
   ]
  },
  {
   "cell_type": "code",
   "execution_count": 2,
   "metadata": {},
   "outputs": [
    {
     "name": "stdout",
     "output_type": "stream",
     "text": [
      "{0, 1, 44, 25, 31} {1, 6, 10, 45, 19, 31} {1, 31} 2 2\n"
     ]
    }
   ],
   "source": [
    "print(set(lottos),set(win_nums), set(lottos)&set(win_nums), len(set(lottos)&set(win_nums)), lottos.count(0))"
   ]
  },
  {
   "cell_type": "code",
   "execution_count": 4,
   "metadata": {},
   "outputs": [
    {
     "name": "stdout",
     "output_type": "stream",
     "text": [
      "4\n"
     ]
    }
   ],
   "source": [
    "print(len(set(lottos)&set(win_nums))+lottos.count(0))"
   ]
  },
  {
   "cell_type": "code",
   "execution_count": 2,
   "metadata": {},
   "outputs": [
    {
     "name": "stdout",
     "output_type": "stream",
     "text": [
      "[name: \"/device:CPU:0\"\n",
      "device_type: \"CPU\"\n",
      "memory_limit: 268435456\n",
      "locality {\n",
      "}\n",
      "incarnation: 2059312061028567517\n",
      ", name: \"/device:GPU:0\"\n",
      "device_type: \"GPU\"\n",
      "memory_limit: 2914163099\n",
      "locality {\n",
      "  bus_id: 1\n",
      "  links {\n",
      "  }\n",
      "}\n",
      "incarnation: 13766929579861932460\n",
      "physical_device_desc: \"device: 0, name: NVIDIA GeForce GTX 1050, pci bus id: 0000:01:00.0, compute capability: 6.1\"\n",
      "]\n"
     ]
    }
   ],
   "source": [
    "from tensorflow.python.client import device_lib\n",
    "print(device_lib.list_local_devices())"
   ]
  }
 ],
 "metadata": {
  "interpreter": {
   "hash": "435c7524b81c754d2a38f9b1930a50d7a83318eec9a7b6faab8c4b8cfd59b603"
  },
  "kernelspec": {
   "display_name": "Python 3.8.10 64-bit",
   "language": "python",
   "name": "python3"
  },
  "language_info": {
   "codemirror_mode": {
    "name": "ipython",
    "version": 3
   },
   "file_extension": ".py",
   "mimetype": "text/x-python",
   "name": "python",
   "nbconvert_exporter": "python",
   "pygments_lexer": "ipython3",
   "version": "3.8.10"
  },
  "orig_nbformat": 4
 },
 "nbformat": 4,
 "nbformat_minor": 2
}
