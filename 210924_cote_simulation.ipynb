{
 "cells": [
  {
   "cell_type": "markdown",
   "source": [
    "# 상하좌우"
   ],
   "metadata": {}
  },
  {
   "cell_type": "code",
   "execution_count": 2,
   "source": [
    "n = int(input())\r\n",
    "x, y = 1, 1\r\n",
    "plans = input().split()\r\n",
    "\r\n",
    "dx = [0, 0, -1, 1]\r\n",
    "dy = [-1, 1, 0, 0]\r\n",
    "move_types = ['L', 'R', 'U', 'D']\r\n",
    "\r\n",
    "for plan in plans:\r\n",
    "    for i in range(len(move_types)):\r\n",
    "        if plan == move_types[i]:\r\n",
    "            nx = x + dx[i]\r\n",
    "            ny = y + dy[i]\r\n",
    "    if nx < 1 or ny < 1 or nx > n or ny > n:\r\n",
    "        continue\r\n",
    "    x, y = nx, ny\r\n",
    "\r\n",
    "print(x, y)"
   ],
   "outputs": [
    {
     "output_type": "stream",
     "name": "stdout",
     "text": [
      "1 2\n",
      "1 3\n",
      "2 3\n",
      "3 3\n",
      "3 2\n"
     ]
    }
   ],
   "metadata": {}
  },
  {
   "cell_type": "markdown",
   "source": [
    "# 시각"
   ],
   "metadata": {}
  },
  {
   "cell_type": "code",
   "execution_count": 3,
   "source": [
    "n = int(input())\r\n",
    "count = 0\r\n",
    "\r\n",
    "for i in range(n+1):\r\n",
    "    for j in range(60):\r\n",
    "        for k in range(60):\r\n",
    "            if '3' in str(i) + str(j) + str(k):\r\n",
    "                count += 1\r\n",
    "\r\n",
    "print(count)"
   ],
   "outputs": [
    {
     "output_type": "stream",
     "name": "stdout",
     "text": [
      "11475\n"
     ]
    }
   ],
   "metadata": {}
  },
  {
   "cell_type": "markdown",
   "source": [
    "# 왕실의 나이트"
   ],
   "metadata": {}
  },
  {
   "cell_type": "code",
   "execution_count": 5,
   "source": [
    "input_data = input()\r\n",
    "row = int(input_data[1])\r\n",
    "column = int(ord(input_data[0])) - int(ord('a')) + 1\r\n",
    "\r\n",
    "steps = [(-2, -1), (-1, -2), (1, -2), (2, -1), (2, 1), (1, 2), (-1, 2), (-2, 1)]\r\n",
    "\r\n",
    "result = 0\r\n",
    "for step in steps:\r\n",
    "    next_row = row + step[0]\r\n",
    "    next_column = column + step[1]\r\n",
    "    if next_row >= 1 and next_row <= 8 and next_column >= 1 and next_column <= 8:\r\n",
    "        result += 1\r\n",
    "\r\n",
    "print(result)"
   ],
   "outputs": [
    {
     "output_type": "stream",
     "name": "stdout",
     "text": [
      "2\n"
     ]
    }
   ],
   "metadata": {}
  },
  {
   "cell_type": "markdown",
   "source": [
    "# 게임개발"
   ],
   "metadata": {}
  },
  {
   "cell_type": "code",
   "execution_count": 9,
   "source": [
    "n, m  = map(int, input().split())\r\n",
    "\r\n",
    "d = [[0] * m for _ in range(n)]\r\n",
    "x, y, direction = map(int, input().split())\r\n",
    "d[x][y] = 1\r\n",
    "\r\n",
    "array = []\r\n",
    "for i in range(n):\r\n",
    "    array.append(list(map(int, input().split())))\r\n",
    "\r\n",
    "dx = [-1, 0, 1, 0]\r\n",
    "dy = [0, 1, 0, -1]\r\n",
    "\r\n",
    "def turn_left():\r\n",
    "    global direction\r\n",
    "    direction -= 1\r\n",
    "    if direction == -1:\r\n",
    "        direction = 3\r\n",
    "\r\n",
    "count = 1\r\n",
    "turn_time = 0\r\n",
    "while True:\r\n",
    "    turn_left()\r\n",
    "    nx = x + dx[direction]\r\n",
    "    ny = y + dy[direction]\r\n",
    "\r\n",
    "    if d[nx][ny] == 0 and array[nx][ny] == 0:\r\n",
    "        d[nx][ny] = 1\r\n",
    "        x = nx\r\n",
    "        y = ny\r\n",
    "        count += 1\r\n",
    "        turn_time = 0\r\n",
    "        continue\r\n",
    "    else:\r\n",
    "        turn_time += 1\r\n",
    "\r\n",
    "    if turn_time == 4:\r\n",
    "        nx = x - dx[direction]\r\n",
    "        ny = y - dy[direction]\r\n",
    "        if array[nx][ny] == 0:\r\n",
    "            x = nx\r\n",
    "            y = ny\r\n",
    "        else:\r\n",
    "            break\r\n",
    "        turn_time = 0\r\n",
    "\r\n",
    "print(count)"
   ],
   "outputs": [
    {
     "output_type": "stream",
     "name": "stdout",
     "text": [
      "4\n"
     ]
    }
   ],
   "metadata": {}
  },
  {
   "cell_type": "code",
   "execution_count": null,
   "source": [],
   "outputs": [],
   "metadata": {}
  }
 ],
 "metadata": {
  "orig_nbformat": 4,
  "language_info": {
   "name": "python",
   "version": "3.8.10",
   "mimetype": "text/x-python",
   "codemirror_mode": {
    "name": "ipython",
    "version": 3
   },
   "pygments_lexer": "ipython3",
   "nbconvert_exporter": "python",
   "file_extension": ".py"
  },
  "kernelspec": {
   "name": "python3",
   "display_name": "Python 3.8.10 64-bit"
  },
  "interpreter": {
   "hash": "435c7524b81c754d2a38f9b1930a50d7a83318eec9a7b6faab8c4b8cfd59b603"
  }
 },
 "nbformat": 4,
 "nbformat_minor": 2
}