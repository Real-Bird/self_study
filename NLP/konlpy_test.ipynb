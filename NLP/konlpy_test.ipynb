{
 "cells": [
  {
   "cell_type": "code",
   "execution_count": 1,
   "id": "0aa88af9",
   "metadata": {},
   "outputs": [],
   "source": [
    "from konlpy.tag import Okt"
   ]
  },
  {
   "cell_type": "code",
   "execution_count": 2,
   "id": "1043bdc2",
   "metadata": {
    "scrolled": false
   },
   "outputs": [],
   "source": [
    "okt = Okt()"
   ]
  },
  {
   "cell_type": "code",
   "execution_count": 3,
   "id": "45f01156",
   "metadata": {},
   "outputs": [],
   "source": [
    "sentence = \"드디어 오류를 고쳤다!\"\n",
    "\n",
    "a = okt.pos(sentence, norm=True, stem=True)"
   ]
  },
  {
   "cell_type": "code",
   "execution_count": 4,
   "id": "e11f0698",
   "metadata": {},
   "outputs": [
    {
     "name": "stdout",
     "output_type": "stream",
     "text": [
      "[('드디어', 'Adverb'), ('오류', 'Noun'), ('를', 'Josa'), ('고치다', 'Verb'), ('!', 'Punctuation')]\n"
     ]
    }
   ],
   "source": [
    "print(a)"
   ]
  }
 ],
 "metadata": {
  "kernelspec": {
   "display_name": "Python 3",
   "language": "python",
   "name": "python3"
  },
  "language_info": {
   "codemirror_mode": {
    "name": "ipython",
    "version": 3
   },
   "file_extension": ".py",
   "mimetype": "text/x-python",
   "name": "python",
   "nbconvert_exporter": "python",
   "pygments_lexer": "ipython3",
   "version": "3.8.10"
  }
 },
 "nbformat": 4,
 "nbformat_minor": 5
}
