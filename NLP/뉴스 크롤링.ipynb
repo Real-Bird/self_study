{
 "cells": [
  {
   "cell_type": "markdown",
   "id": "526b8dde",
   "metadata": {},
   "source": [
    "##### 네이버 뉴스 크롤링"
   ]
  },
  {
   "cell_type": "code",
   "execution_count": 1,
   "id": "bfbdd888",
   "metadata": {},
   "outputs": [],
   "source": [
    "from korea_news_crawler.articlecrawler import ArticleCrawler"
   ]
  },
  {
   "cell_type": "code",
   "execution_count": null,
   "id": "f3a2d3ef",
   "metadata": {},
   "outputs": [],
   "source": [
    "# 정치, 경제, 사회, 생활문화, IT과학, 세계, 오피니언\n",
    "\n",
    "Crawler = ArticleCrawler()  \n",
    "Crawler.set_category(\"IT과학\", \"경제\", \"생활문화\")  \n",
    "Crawler.set_date_range(2021, 6, 2021, 11)  \n",
    "Crawler.start()"
   ]
  },
  {
   "cell_type": "markdown",
   "id": "efbaee28",
   "metadata": {},
   "source": [
    "##### 뉴스 csv 합치기"
   ]
  },
  {
   "cell_type": "code",
   "execution_count": 8,
   "id": "ac79d2ad",
   "metadata": {},
   "outputs": [],
   "source": [
    "import csv\n",
    " \n",
    "category = ['IT과학', 'economy']\n",
    " \n",
    "file_unity = open('Article_unity_test.csv', 'w', encoding='cp949')\n",
    "wcsv = csv.writer(file_unity)\n",
    " \n",
    "count = 0\n",
    " \n",
    "for category_element in category:\n",
    "    file = open('../output/Article_'+category_element+'_202106_202106.csv', 'r', encoding='cp949', newline=\"\")\n",
    "    line = csv.reader(file)\n",
    "    try:\n",
    "        for line_text in line:\n",
    "            wcsv.writerow([line_text[1], line_text[3], line_text[4]])\n",
    "    except:\n",
    "        pass"
   ]
  },
  {
   "cell_type": "markdown",
   "id": "7bd63e77",
   "metadata": {},
   "source": [
    "##### 뉴스 섞기"
   ]
  },
  {
   "cell_type": "code",
   "execution_count": 10,
   "id": "3d636f9e",
   "metadata": {},
   "outputs": [],
   "source": [
    "import random\n",
    " \n",
    "file = open('Article_unity_test.csv', 'r', encoding='cp949')\n",
    "line = file.readlines()\n",
    "random.shuffle(line)\n",
    "rcsv = csv.reader(line)\n",
    " \n",
    "file_write = open('Article_shuffled_test.csv', 'w', encoding='cp949', newline=\"\")\n",
    "wcsv = csv.writer(file_write)\n",
    " \n",
    "for i in rcsv:\n",
    "    try:\n",
    "        wcsv.writerow([i[0].strip(), i[1], i[2]])\n",
    "    except:\n",
    "        pass"
   ]
  },
  {
   "cell_type": "code",
   "execution_count": null,
   "id": "14c11e3b",
   "metadata": {},
   "outputs": [],
   "source": []
  }
 ],
 "metadata": {
  "kernelspec": {
   "display_name": "Python 3",
   "language": "python",
   "name": "python3"
  },
  "language_info": {
   "codemirror_mode": {
    "name": "ipython",
    "version": 3
   },
   "file_extension": ".py",
   "mimetype": "text/x-python",
   "name": "python",
   "nbconvert_exporter": "python",
   "pygments_lexer": "ipython3",
   "version": "3.8.10"
  }
 },
 "nbformat": 4,
 "nbformat_minor": 5
}
