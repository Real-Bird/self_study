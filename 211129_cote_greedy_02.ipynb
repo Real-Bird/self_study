{
 "cells": [
  {
   "cell_type": "markdown",
   "metadata": {},
   "source": [
    "# 만들 수 없는 금액"
   ]
  },
  {
   "cell_type": "code",
   "execution_count": 2,
   "metadata": {},
   "outputs": [
    {
     "name": "stdout",
     "output_type": "stream",
     "text": [
      "모르겠음\n"
     ]
    }
   ],
   "source": [
    "# 내 풀이\n",
    "\n",
    "n = int(input())\n",
    "x = list(map(int, input().split()))\n",
    "x.sort()\n",
    "\n",
    "a = 0\n",
    "\n",
    "for i in range(len(x)):\n",
    "    if x[0] > 1:\n",
    "        a = 1\n",
    "        break\n",
    "    for j in x[1:]:\n",
    "        a = x[i] + j\n",
    "\n",
    "print(\"모르겠음\")\n",
    "\n"
   ]
  },
  {
   "cell_type": "code",
   "execution_count": 7,
   "metadata": {},
   "outputs": [
    {
     "name": "stdout",
     "output_type": "stream",
     "text": [
      "n =  5\n",
      "data =  [1, 1, 2, 3, 9]\n",
      "8\n"
     ]
    }
   ],
   "source": [
    "# 책 답지\n",
    "\n",
    "n = int(input())\n",
    "data = list(map(int, input().split()))\n",
    "data.sort()\n",
    "\n",
    "target = 1\n",
    "for x in data:\n",
    "    if target < x:\n",
    "        break\n",
    "    target += x\n",
    "\n",
    "print(\"n = \", n)\n",
    "print(\"data = \", data)\n",
    "print(target)"
   ]
  },
  {
   "cell_type": "markdown",
   "metadata": {},
   "source": [
    "# 볼링공 고르기"
   ]
  },
  {
   "cell_type": "code",
   "execution_count": 16,
   "metadata": {},
   "outputs": [
    {
     "name": "stdout",
     "output_type": "stream",
     "text": [
      "n, m =  8 5\n",
      "balls =  [1, 5, 4, 3, 2, 4, 5, 2]\n",
      "25\n"
     ]
    }
   ],
   "source": [
    "# 내 풀이\n",
    "\n",
    "n, m = map(int, input().split())\n",
    "balls = list(map(int, input().split()))\n",
    "\n",
    "count = 1\n",
    "a = []\n",
    "for i in range(1, n + 1):\n",
    "    for j in range(count + 1, n + 1):\n",
    "        if balls[i - 1] != balls[j - 1]:\n",
    "            a.append((i, j))\n",
    "    count += 1\n",
    "\n",
    "print('n, m = ', n, m)\n",
    "print('balls = ', balls)\n",
    "print(len(a))"
   ]
  },
  {
   "cell_type": "code",
   "execution_count": 20,
   "metadata": {},
   "outputs": [
    {
     "name": "stdout",
     "output_type": "stream",
     "text": [
      "n, m =  8 5\n",
      "data =  [1, 5, 4, 3, 2, 4, 5, 2]\n",
      "25\n"
     ]
    }
   ],
   "source": [
    "# 책 답지\n",
    "\n",
    "n, m = map(int, input().split())\n",
    "print('n, m = ', n, m)\n",
    "data = list(map(int, input().split()))\n",
    "\n",
    "array = [0] * 11\n",
    "\n",
    "for x in data:\n",
    "    array[x] += 1\n",
    "\n",
    "result = 0\n",
    "\n",
    "for i in range(1, m + 1):\n",
    "    n -= array[i]\n",
    "    result += array[i] * n\n",
    "\n",
    "print('data = ', data) \n",
    "print(result)"
   ]
  },
  {
   "cell_type": "markdown",
   "metadata": {},
   "source": [
    "# 무지의 먹방 라이브"
   ]
  },
  {
   "cell_type": "code",
   "execution_count": 21,
   "metadata": {},
   "outputs": [
    {
     "name": "stdout",
     "output_type": "stream",
     "text": [
      "뭔 소린지 모르겠음\n"
     ]
    }
   ],
   "source": [
    "# 내 풀이\n",
    "\n",
    "def solution(food_times, k):\n",
    "    answer = 0\n",
    "    return answer\n",
    "\n",
    "food_times = list(map(int, input().split()))\n",
    "k = int(input())\n",
    "\n",
    "print('뭔 소린지 모르겠음')"
   ]
  },
  {
   "cell_type": "code",
   "execution_count": 25,
   "metadata": {},
   "outputs": [
    {
     "data": {
      "text/plain": [
       "1"
      ]
     },
     "execution_count": 25,
     "metadata": {},
     "output_type": "execute_result"
    }
   ],
   "source": [
    "import heapq\n",
    "\n",
    "def solution(food_times, k):\n",
    "    if sum(food_times) <= k:\n",
    "        return -1\n",
    "    q = []\n",
    "    for i in range(len(food_times)):\n",
    "        heapq.heappush(q, (food_times[i], i + 1))\n",
    "\n",
    "    sum_value = 0\n",
    "    previous = 0\n",
    "    length = len(food_times)\n",
    "\n",
    "    while sum_value + ((q[0][0] - previous) * length) <= k:\n",
    "        now = heapq.heappop(q)[0]\n",
    "        sum_value += (now - previous) * length\n",
    "        length -= 1\n",
    "        previous = now\n",
    "\n",
    "    answer = sorted(q, key= lambda x: x[1])\n",
    "    return answer[(k - sum_value) % length][1]\n",
    "\n",
    "solution([3, 2, 1], 5)"
   ]
  },
  {
   "cell_type": "code",
   "execution_count": null,
   "metadata": {},
   "outputs": [],
   "source": []
  }
 ],
 "metadata": {
  "interpreter": {
   "hash": "435c7524b81c754d2a38f9b1930a50d7a83318eec9a7b6faab8c4b8cfd59b603"
  },
  "kernelspec": {
   "display_name": "Python 3.8.10 64-bit",
   "language": "python",
   "name": "python3"
  },
  "language_info": {
   "codemirror_mode": {
    "name": "ipython",
    "version": 3
   },
   "file_extension": ".py",
   "mimetype": "text/x-python",
   "name": "python",
   "nbconvert_exporter": "python",
   "pygments_lexer": "ipython3",
   "version": "3.8.10"
  },
  "orig_nbformat": 4
 },
 "nbformat": 4,
 "nbformat_minor": 2
}
