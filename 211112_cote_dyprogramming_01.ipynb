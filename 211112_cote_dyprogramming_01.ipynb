{
 "cells": [
  {
   "cell_type": "code",
   "execution_count": 1,
   "metadata": {},
   "outputs": [
    {
     "name": "stdout",
     "output_type": "stream",
     "text": [
      "3\n"
     ]
    }
   ],
   "source": [
    "# 피보나치 fibonacci\n",
    "\n",
    "def fibo(x):\n",
    "    if x == 1 or x == 2:\n",
    "        return 1\n",
    "    return fibo(x - 1) + fibo(x - 2)\n",
    "\n",
    "print(fibo(4))"
   ]
  },
  {
   "cell_type": "code",
   "execution_count": 4,
   "metadata": {},
   "outputs": [
    {
     "name": "stdout",
     "output_type": "stream",
     "text": [
      "218922995834555169026\n"
     ]
    }
   ],
   "source": [
    "# 피보나치 메모이제이션\n",
    "d = [0] * 100\n",
    "\n",
    "# 피보나치 재귀함수 구현(탑다운 다이나믹 프로그래밍)\n",
    "\n",
    "def fibo(x):\n",
    "    if x == 1 or x == 2:\n",
    "        return 1\n",
    "    if d[x] != 0:\n",
    "        return d[x]\n",
    "    d[x] = fibo(x - 1) + fibo(x - 2)\n",
    "    return d[x]\n",
    "\n",
    "print(fibo(99))"
   ]
  },
  {
   "cell_type": "code",
   "execution_count": 6,
   "metadata": {},
   "outputs": [
    {
     "name": "stdout",
     "output_type": "stream",
     "text": [
      "f(6) f(5) f(4) f(3) f(2) f(1) f(2) f(3) f(4) "
     ]
    },
    {
     "data": {
      "text/plain": [
       "8"
      ]
     },
     "execution_count": 6,
     "metadata": {},
     "output_type": "execute_result"
    }
   ],
   "source": [
    "# 호출 함수 확인\n",
    "\n",
    "d = [0] * 100\n",
    "\n",
    "def pibo(x):\n",
    "    print('f(' + str(x) + ')', end=' ')\n",
    "    if x == 1 or x == 2:\n",
    "        return 1\n",
    "    if d[x] != 0:\n",
    "        return d[x]\n",
    "    d[x] = pibo(x - 1) + pibo(x - 2)\n",
    "    return d[x]\n",
    "\n",
    "pibo(6)"
   ]
  },
  {
   "cell_type": "code",
   "execution_count": 7,
   "metadata": {},
   "outputs": [
    {
     "name": "stdout",
     "output_type": "stream",
     "text": [
      "218922995834555169026\n"
     ]
    }
   ],
   "source": [
    "# 피보나치 반복적\n",
    "d = [0] * 100\n",
    "\n",
    "d[1] = 1\n",
    "d[2] = 1\n",
    "n = 99\n",
    "\n",
    "for i in range(3, n+1):\n",
    "    d[i] = d[i - 1] + d[i - 2]\n",
    "\n",
    "print(d[n])"
   ]
  },
  {
   "cell_type": "code",
   "execution_count": null,
   "metadata": {},
   "outputs": [],
   "source": []
  }
 ],
 "metadata": {
  "interpreter": {
   "hash": "435c7524b81c754d2a38f9b1930a50d7a83318eec9a7b6faab8c4b8cfd59b603"
  },
  "kernelspec": {
   "display_name": "Python 3.8.10 64-bit",
   "name": "python3"
  },
  "language_info": {
   "codemirror_mode": {
    "name": "ipython",
    "version": 3
   },
   "file_extension": ".py",
   "mimetype": "text/x-python",
   "name": "python",
   "nbconvert_exporter": "python",
   "pygments_lexer": "ipython3",
   "version": "3.8.10"
  },
  "orig_nbformat": 4
 },
 "nbformat": 4,
 "nbformat_minor": 2
}
