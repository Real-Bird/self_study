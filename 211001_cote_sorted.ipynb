{
 "cells": [
  {
   "cell_type": "markdown",
   "source": [
    "### 선택 정렬"
   ],
   "metadata": {}
  },
  {
   "cell_type": "code",
   "execution_count": 1,
   "source": [
    "array = [7, 5, 9, 0, 3, 1, 6, 2, 4, 8]\r\n",
    "\r\n",
    "for i in range(len(array)):\r\n",
    "    min_index = i\r\n",
    "    for j in range(i + 1, len(array)):\r\n",
    "        if array[min_index] > array[j]:\r\n",
    "            min_index = j\r\n",
    "    array[i], array[min_index] = array[min_index], array[i]\r\n",
    "\r\n",
    "print(array)"
   ],
   "outputs": [
    {
     "output_type": "stream",
     "name": "stdout",
     "text": [
      "[0, 1, 2, 3, 4, 5, 6, 7, 8, 9]\n"
     ]
    }
   ],
   "metadata": {}
  },
  {
   "cell_type": "markdown",
   "source": [
    "### 파이썬 스와프"
   ],
   "metadata": {}
  },
  {
   "cell_type": "code",
   "execution_count": 3,
   "source": [
    "array = [3, 5]\r\n",
    "array[0], array[1] = array[1], array[0]\r\n",
    "\r\n",
    "print(array)"
   ],
   "outputs": [
    {
     "output_type": "stream",
     "name": "stdout",
     "text": [
      "[5, 3]\n"
     ]
    }
   ],
   "metadata": {}
  },
  {
   "cell_type": "markdown",
   "source": [
    "### 삽입 정렬"
   ],
   "metadata": {}
  },
  {
   "cell_type": "code",
   "execution_count": 6,
   "source": [
    "array = [7, 5, 9, 0, 3, 1, 6, 2, 4, 8]\r\n",
    "\r\n",
    "for i in range(1, len(array)):\r\n",
    "    for j in range(i, 0, -1):\r\n",
    "        if array[j] < array[j - 1]:\r\n",
    "            array[j], array[j - 1] = array[j - 1], array[j]\r\n",
    "        else:\r\n",
    "            break\r\n",
    "\r\n",
    "print(array)"
   ],
   "outputs": [
    {
     "output_type": "stream",
     "name": "stdout",
     "text": [
      "[0, 1, 2, 3, 4, 5, 6, 7, 8, 9]\n"
     ]
    }
   ],
   "metadata": {}
  },
  {
   "cell_type": "markdown",
   "source": [
    "### 퀵 정렬"
   ],
   "metadata": {}
  },
  {
   "cell_type": "code",
   "execution_count": 7,
   "source": [
    "array = [5, 7, 9, 0, 3, 1, 6, 2, 4, 8]\r\n",
    "\r\n",
    "def quick_sort(array, start, end):\r\n",
    "    if start >= end:\r\n",
    "        return\r\n",
    "    pivot = start\r\n",
    "    left = start + 1\r\n",
    "    right = end\r\n",
    "    while left <= right:\r\n",
    "        while left <= end and array[left] <= array[pivot]:\r\n",
    "            left += 1\r\n",
    "        while right > start and array[right] >= array[pivot]:\r\n",
    "            right -= 1\r\n",
    "        if left > right:\r\n",
    "            array[right], array[pivot] = array[pivot], array[right]\r\n",
    "        else:\r\n",
    "            array[left], array[right] = array[right], array[left]\r\n",
    "\r\n",
    "    quick_sort(array, start, right - 1)\r\n",
    "    quick_sort(array, right + 1, end)\r\n",
    "\r\n",
    "quick_sort(array, 0, len(array) - 1)\r\n",
    "print(array)"
   ],
   "outputs": [
    {
     "output_type": "stream",
     "name": "stdout",
     "text": [
      "[0, 1, 2, 3, 4, 5, 6, 7, 8, 9]\n"
     ]
    }
   ],
   "metadata": {}
  },
  {
   "cell_type": "markdown",
   "source": [
    "### 파이썬 장점 살린 퀵 정렬"
   ],
   "metadata": {}
  },
  {
   "cell_type": "code",
   "execution_count": 8,
   "source": [
    "array = [5, 7, 9, 0, 3, 1, 6, 2, 4, 8]\r\n",
    "\r\n",
    "def quick_sort(array):\r\n",
    "    if len(array) <= 1:\r\n",
    "        return array\r\n",
    "    pivot = array[0]\r\n",
    "    tail = array[1:]\r\n",
    "\r\n",
    "    left_side = [x for x in tail if x <= pivot]\r\n",
    "    right_side = [x for x in tail if x > pivot]\r\n",
    "\r\n",
    "    return quick_sort(left_side) + [pivot] + quick_sort(right_side)\r\n",
    "\r\n",
    "print(quick_sort(array))"
   ],
   "outputs": [
    {
     "output_type": "stream",
     "name": "stdout",
     "text": [
      "[0, 1, 2, 3, 4, 5, 6, 7, 8, 9]\n"
     ]
    }
   ],
   "metadata": {}
  },
  {
   "cell_type": "markdown",
   "source": [
    "### 계수 정렬"
   ],
   "metadata": {}
  },
  {
   "cell_type": "code",
   "execution_count": 9,
   "source": [
    "array = [7, 5, 9, 0, 3, 1, 6, 2, 9, 1, 4, 8, 0, 5, 2]\r\n",
    "\r\n",
    "count = [0] * (max(array) + 1)\r\n",
    "\r\n",
    "for i in range(len(array)):\r\n",
    "    count[array[i]] += 1\r\n",
    "\r\n",
    "for i in range(len(count)):\r\n",
    "    for j in range(count[i]):\r\n",
    "        print(i, end=' ')"
   ],
   "outputs": [
    {
     "output_type": "stream",
     "name": "stdout",
     "text": [
      "0 0 1 1 2 2 3 4 5 5 6 7 8 9 9 "
     ]
    }
   ],
   "metadata": {}
  },
  {
   "cell_type": "markdown",
   "source": [
    "### sorted"
   ],
   "metadata": {}
  },
  {
   "cell_type": "code",
   "execution_count": 16,
   "source": [
    "array = [7, 5, 9, 0, 3, 1, 6, 2, 4, 8]\r\n",
    "\r\n",
    "result = sorted(array)\r\n",
    "print(result)"
   ],
   "outputs": [
    {
     "output_type": "stream",
     "name": "stdout",
     "text": [
      "[0, 1, 2, 3, 4, 5, 6, 7, 8, 9]\n"
     ]
    }
   ],
   "metadata": {}
  },
  {
   "cell_type": "markdown",
   "source": [
    "### sort"
   ],
   "metadata": {}
  },
  {
   "cell_type": "code",
   "execution_count": 17,
   "source": [
    "array = [7, 5, 9, 0, 3, 1, 6, 2, 4, 8]\r\n",
    "\r\n",
    "array.sort()\r\n",
    "print(array)"
   ],
   "outputs": [
    {
     "output_type": "stream",
     "name": "stdout",
     "text": [
      "[0, 1, 2, 3, 4, 5, 6, 7, 8, 9]\n"
     ]
    }
   ],
   "metadata": {}
  },
  {
   "cell_type": "markdown",
   "source": [
    "### 정렬 라이브러리 key 활용"
   ],
   "metadata": {}
  },
  {
   "cell_type": "code",
   "execution_count": 26,
   "source": [
    "array = [('바나나', 2), ('사과', 5), ('당근', 3)]\r\n",
    "\r\n",
    "def setting(data):\r\n",
    "    return data[1]\r\n",
    "\r\n",
    "result = sorted(array, key=setting)\r\n",
    "print(result)"
   ],
   "outputs": [
    {
     "output_type": "stream",
     "name": "stdout",
     "text": [
      "[('바나나', 2), ('당근', 3), ('사과', 5)]\n"
     ]
    }
   ],
   "metadata": {}
  },
  {
   "cell_type": "code",
   "execution_count": null,
   "source": [],
   "outputs": [],
   "metadata": {}
  }
 ],
 "metadata": {
  "orig_nbformat": 4,
  "language_info": {
   "name": "python",
   "version": "3.8.10",
   "mimetype": "text/x-python",
   "codemirror_mode": {
    "name": "ipython",
    "version": 3
   },
   "pygments_lexer": "ipython3",
   "nbconvert_exporter": "python",
   "file_extension": ".py"
  },
  "kernelspec": {
   "name": "python3",
   "display_name": "Python 3.8.10 64-bit"
  },
  "interpreter": {
   "hash": "435c7524b81c754d2a38f9b1930a50d7a83318eec9a7b6faab8c4b8cfd59b603"
  }
 },
 "nbformat": 4,
 "nbformat_minor": 2
}