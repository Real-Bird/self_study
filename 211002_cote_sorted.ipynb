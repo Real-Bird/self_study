{
 "cells": [
  {
   "cell_type": "markdown",
   "source": [
    "# 위에서 아래로"
   ],
   "metadata": {}
  },
  {
   "cell_type": "code",
   "execution_count": 2,
   "source": [
    "n = int(input())\r\n",
    "\r\n",
    "array = []\r\n",
    "for i in range(n):\r\n",
    "    array.append(int(input()))\r\n",
    "\r\n",
    "array = sorted(array, reverse=True)\r\n",
    "\r\n",
    "for i in array:\r\n",
    "    print(i, end=' ')"
   ],
   "outputs": [
    {
     "output_type": "stream",
     "name": "stdout",
     "text": [
      "27 15 12 "
     ]
    }
   ],
   "metadata": {}
  },
  {
   "cell_type": "markdown",
   "source": [
    "# 성적이 낮은 순서로 학생 출력하기"
   ],
   "metadata": {}
  },
  {
   "cell_type": "code",
   "execution_count": 3,
   "source": [
    "n = int(input())\r\n",
    "\r\n",
    "array = []\r\n",
    "\r\n",
    "for i in range(n):\r\n",
    "    input_data = input().split()\r\n",
    "    array.append((input_data[0], int(input_data[1])))\r\n",
    "\r\n",
    "array = sorted(array, key=lambda student: student[1])\r\n",
    "\r\n",
    "for student in array:\r\n",
    "    print(student[0], end=' ')"
   ],
   "outputs": [
    {
     "output_type": "stream",
     "name": "stdout",
     "text": [
      "이순신 홍길동 "
     ]
    }
   ],
   "metadata": {}
  },
  {
   "cell_type": "markdown",
   "source": [
    "# 두 배열의 원소 교체"
   ],
   "metadata": {}
  },
  {
   "cell_type": "code",
   "execution_count": 6,
   "source": [
    "n, k = map(int, input().split())\r\n",
    "\r\n",
    "a = list(map(int, input().split()))\r\n",
    "b = list(map(int, input().split()))\r\n",
    "\r\n",
    "a.sort()\r\n",
    "b.sort(reverse=True)\r\n",
    "\r\n",
    "for i in range(k):\r\n",
    "    if a[i] < b[i]:\r\n",
    "        a[i], b[i] = b[i], a[i]\r\n",
    "    else:\r\n",
    "        break\r\n",
    "\r\n",
    "print(sum(a))"
   ],
   "outputs": [
    {
     "output_type": "stream",
     "name": "stdout",
     "text": [
      "36\n"
     ]
    }
   ],
   "metadata": {}
  },
  {
   "cell_type": "code",
   "execution_count": null,
   "source": [],
   "outputs": [],
   "metadata": {}
  }
 ],
 "metadata": {
  "orig_nbformat": 4,
  "language_info": {
   "name": "python",
   "version": "3.8.10",
   "mimetype": "text/x-python",
   "codemirror_mode": {
    "name": "ipython",
    "version": 3
   },
   "pygments_lexer": "ipython3",
   "nbconvert_exporter": "python",
   "file_extension": ".py"
  },
  "kernelspec": {
   "name": "python3",
   "display_name": "Python 3.8.10 64-bit"
  },
  "interpreter": {
   "hash": "435c7524b81c754d2a38f9b1930a50d7a83318eec9a7b6faab8c4b8cfd59b603"
  }
 },
 "nbformat": 4,
 "nbformat_minor": 2
}